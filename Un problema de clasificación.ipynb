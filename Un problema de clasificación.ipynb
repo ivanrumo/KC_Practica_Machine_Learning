{
 "cells": [
  {
   "cell_type": "markdown",
   "metadata": {
    "colab_type": "text",
    "id": "yVc86v0mUgW9"
   },
   "source": [
    "Archivos: census_train.csv, census_test.csv\n",
    "Este conjunto de datos es una versión modificada del utilizado en el artículo [Scaling Up the\n",
    "Accuracy of Naive-Bayes Classifiers: a Decision-Tree Hybrid](https://www.aaai.org/Papers/KDD/1996/KDD96-033.pdf), escrito por Ron Kohavi. Los datos originales se pueden encontrar en el [UC Irvine Machine Learning Repository](https://archive.ics.uci.edu/ml/datasets/Census+Income).\n",
    "\n",
    "El objetivo es predecir si los ingresos de una persona superan o no los 50.000$ (variable\n",
    "income). Para ello, se tienen 13 características:\n",
    "\n",
    "* age: Edad\n",
    "* workclass: tipo de ocupación (Private, Self-emp-not-inc, Self-emp-inc, Federal-gov, Local-gov, State-gov, Without-pay, Never-worked)\n",
    "* education_level: Nivel educativo (Bachelors, Some-college, 11th, HS-grad, Prof-school, Assoc-acdm, Assoc-voc, 9th, 7th-8th, 12th, Masters, 1st-4th, 10th, Doctorate, 5th-6th, Preschool)\n",
    "* education-num: Número de años de educación completados.\n",
    "* marital-status: estado civil (Married-civ-spouse, Divorced, Never-married, Separated, Widowed, Married-spouse-absent, Married-AF-spouse)\n",
    "* occupation: ocupación (Tech-support, Craft-repair, Other-service, Sales, Exec-managerial, Prof-specialty, Handlers-cleaners, Machine-op-inspct, Adm-clerical, Farming-fishing, Transport-moving, Priv-house-serv, Protective-serv, Armed-Forces)\n",
    "* relationship: familia (Wife, Own-child, Husband, Not-in-family, Other-relative, Unmarried)\n",
    "* race : ​ raza (White, Asian-Pac-Islander, Amer-Indian-Eskimo, Other, Black)\n",
    "* sex ​ : Género (Female, Male)\n",
    "* capital-gain : ​ Ganancia de capitales\n",
    "* capital-loss : ​ Pérdida de capitales\n",
    "* hours-per-week ​ : Promedio de horas trabajadas por semana\n",
    "* native-country : ​ País de origen (United-States, Cambodia, England, Puerto-Rico, Canada, Germany, Outlying-US(Guam-USVI-etc), India, Japan, Greece, South, China, Cuba, Iran, Honduras, Philippines, Italy, Poland, Jamaica, Vietnam, Mexico, Portugal, Ireland, France, Dominican-Republic, Laos, Ecuador, Taiwan, Haiti, Columbia, Hungary, Guatemala, Nicaragua, Scotland, Thailand, Yugoslavia, El-Salvador, Trinidad&Tobago, Peru, Hong, Holand-Netherlands)"
   ]
  },
  {
   "cell_type": "markdown",
   "metadata": {
    "colab_type": "text",
    "id": "bNIrmMqlUgXD"
   },
   "source": [
    "### Realizamos los imports necesarios y creamos las funciones necesarias"
   ]
  },
  {
   "cell_type": "code",
   "execution_count": 1,
   "metadata": {
    "colab": {},
    "colab_type": "code",
    "id": "91WU-I7DUgXF"
   },
   "outputs": [],
   "source": [
    "import numpy as np\n",
    "import pandas as pd\n",
    "\n",
    "import matplotlib.pyplot as plt\n",
    "from matplotlib.colors import ListedColormap\n",
    "%matplotlib inline\n",
    "\n",
    "from sklearn import preprocessing\n",
    "from sklearn.preprocessing import LabelEncoder\n",
    "\n",
    "cm = plt.cm.RdBu\n",
    "cm_bright = ListedColormap(['#FF0000', '#0000FF'])\n",
    "\n",
    "import warnings\n",
    "warnings.filterwarnings('ignore')\n",
    "\n",
    "from sklearn.model_selection import train_test_split\n",
    "\n",
    "from sklearn.neighbors import KNeighborsClassifier\n",
    "from sklearn.metrics import accuracy_score\n",
    "from sklearn.model_selection import GridSearchCV\n",
    "\n",
    "from sklearn.metrics import confusion_matrix\n",
    "\n",
    "from sklearn.linear_model import LogisticRegression"
   ]
  },
  {
   "cell_type": "code",
   "execution_count": 2,
   "metadata": {
    "colab": {},
    "colab_type": "code",
    "id": "pYfPctWjYpeB"
   },
   "outputs": [],
   "source": [
    "def plot_confusion_matrix(confmat):\n",
    "    fig, ax = plt.subplots(figsize=(3, 3))\n",
    "    ax.matshow(confmat, cmap=plt.cm.Blues, alpha=0.5)\n",
    "    for i in range(confmat.shape[0]):\n",
    "        for j in range(confmat.shape[1]):\n",
    "            ax.text(x=j, y=i, s=confmat[i, j], va='center', ha='center')\n",
    "\n",
    "    plt.xlabel('predicted label')\n",
    "    plt.ylabel('true label')\n",
    "\n",
    "    plt.tight_layout()\n",
    "    plt.show()"
   ]
  },
  {
   "cell_type": "code",
   "execution_count": 3,
   "metadata": {
    "colab": {},
    "colab_type": "code",
    "id": "ji6TZy8wY_yE"
   },
   "outputs": [],
   "source": [
    "def calcula_metricas(confmat):\n",
    "    \n",
    "    tn, fp, fn, tp = confmat.ravel()\n",
    "\n",
    "    acc = (tp+tn)/(tn + fp + fn + tp)\n",
    "    sen = tp/(tp+fn)\n",
    "    esp = tn/(tn+fp)\n",
    "    ppv = tp/(tp+fp)\n",
    "    fsc = 2*(sen*ppv/(sen+ppv))\n",
    "\n",
    "    print('ACC: ', acc)\n",
    "    print('SEN: ', sen)\n",
    "    print('ESP: ', esp)\n",
    "    print('PPV: ', ppv)\n",
    "    print('FSC: ', fsc)\n",
    "    \n",
    "    plt.bar(range(5),[acc,sen,esp,ppv,fsc])\n",
    "    plt.xticks(range(5),['ACC','SEN','ESP','PPV','FSC'])\n",
    "    plt.plot([-1, 6], [1, 1], color=(0.6, 0.6, 0.6), linestyle='--')\n",
    "    plt.xlim((-0.5,4.5))\n",
    "    plt.ylim((0,1.1))\n",
    "    plt.title('Metricas')\n",
    "    plt.show()"
   ]
  },
  {
   "cell_type": "markdown",
   "metadata": {
    "colab_type": "text",
    "id": "rl-YeSlEUgXR"
   },
   "source": [
    "### Análisis exploratorio"
   ]
  },
  {
   "cell_type": "code",
   "execution_count": 4,
   "metadata": {
    "colab": {
     "base_uri": "https://localhost:8080/",
     "height": 432
    },
    "colab_type": "code",
    "executionInfo": {
     "elapsed": 2727,
     "status": "ok",
     "timestamp": 1559498152122,
     "user": {
      "displayName": "Ivan Rubio",
      "photoUrl": "https://lh5.googleusercontent.com/-Y6n9p9UJ3EY/AAAAAAAAAAI/AAAAAAAAGjU/r4Jw_7ETkrQ/s64/photo.jpg",
      "userId": "12955993600759968137"
     },
     "user_tz": -120
    },
    "id": "dshtRas-UgXU",
    "outputId": "4b00a325-8dd3-4b81-b7fe-5de68d25d77a"
   },
   "outputs": [
    {
     "data": {
      "text/html": [
       "<div>\n",
       "<style scoped>\n",
       "    .dataframe tbody tr th:only-of-type {\n",
       "        vertical-align: middle;\n",
       "    }\n",
       "\n",
       "    .dataframe tbody tr th {\n",
       "        vertical-align: top;\n",
       "    }\n",
       "\n",
       "    .dataframe thead th {\n",
       "        text-align: right;\n",
       "    }\n",
       "</style>\n",
       "<table border=\"1\" class=\"dataframe\">\n",
       "  <thead>\n",
       "    <tr style=\"text-align: right;\">\n",
       "      <th></th>\n",
       "      <th>age</th>\n",
       "      <th>workclass</th>\n",
       "      <th>education_level</th>\n",
       "      <th>education-num</th>\n",
       "      <th>marital-status</th>\n",
       "      <th>occupation</th>\n",
       "      <th>relationship</th>\n",
       "      <th>race</th>\n",
       "      <th>sex</th>\n",
       "      <th>capital-gain</th>\n",
       "      <th>capital-loss</th>\n",
       "      <th>hours-per-week</th>\n",
       "      <th>native-country</th>\n",
       "      <th>income</th>\n",
       "    </tr>\n",
       "  </thead>\n",
       "  <tbody>\n",
       "    <tr>\n",
       "      <th>0</th>\n",
       "      <td>49</td>\n",
       "      <td>Private</td>\n",
       "      <td>Masters</td>\n",
       "      <td>14.0</td>\n",
       "      <td>Divorced</td>\n",
       "      <td>Sales</td>\n",
       "      <td>Unmarried</td>\n",
       "      <td>Other</td>\n",
       "      <td>Female</td>\n",
       "      <td>0.0</td>\n",
       "      <td>0.0</td>\n",
       "      <td>20.0</td>\n",
       "      <td>Peru</td>\n",
       "      <td>&lt;=50K</td>\n",
       "    </tr>\n",
       "    <tr>\n",
       "      <th>1</th>\n",
       "      <td>43</td>\n",
       "      <td>Private</td>\n",
       "      <td>Assoc-acdm</td>\n",
       "      <td>12.0</td>\n",
       "      <td>Divorced</td>\n",
       "      <td>Craft-repair</td>\n",
       "      <td>Not-in-family</td>\n",
       "      <td>White</td>\n",
       "      <td>Male</td>\n",
       "      <td>0.0</td>\n",
       "      <td>0.0</td>\n",
       "      <td>40.0</td>\n",
       "      <td>United-States</td>\n",
       "      <td>&lt;=50K</td>\n",
       "    </tr>\n",
       "    <tr>\n",
       "      <th>2</th>\n",
       "      <td>53</td>\n",
       "      <td>Private</td>\n",
       "      <td>Doctorate</td>\n",
       "      <td>16.0</td>\n",
       "      <td>Married-civ-spouse</td>\n",
       "      <td>Prof-specialty</td>\n",
       "      <td>Wife</td>\n",
       "      <td>White</td>\n",
       "      <td>Female</td>\n",
       "      <td>99999.0</td>\n",
       "      <td>0.0</td>\n",
       "      <td>37.0</td>\n",
       "      <td>United-States</td>\n",
       "      <td>&gt;50K</td>\n",
       "    </tr>\n",
       "    <tr>\n",
       "      <th>3</th>\n",
       "      <td>23</td>\n",
       "      <td>Private</td>\n",
       "      <td>HS-grad</td>\n",
       "      <td>9.0</td>\n",
       "      <td>Married-civ-spouse</td>\n",
       "      <td>Adm-clerical</td>\n",
       "      <td>Wife</td>\n",
       "      <td>White</td>\n",
       "      <td>Female</td>\n",
       "      <td>3908.0</td>\n",
       "      <td>0.0</td>\n",
       "      <td>40.0</td>\n",
       "      <td>United-States</td>\n",
       "      <td>&lt;=50K</td>\n",
       "    </tr>\n",
       "    <tr>\n",
       "      <th>4</th>\n",
       "      <td>32</td>\n",
       "      <td>Private</td>\n",
       "      <td>Some-college</td>\n",
       "      <td>10.0</td>\n",
       "      <td>Divorced</td>\n",
       "      <td>Handlers-cleaners</td>\n",
       "      <td>Unmarried</td>\n",
       "      <td>Black</td>\n",
       "      <td>Male</td>\n",
       "      <td>0.0</td>\n",
       "      <td>0.0</td>\n",
       "      <td>40.0</td>\n",
       "      <td>Nicaragua</td>\n",
       "      <td>&lt;=50K</td>\n",
       "    </tr>\n",
       "    <tr>\n",
       "      <th>5</th>\n",
       "      <td>29</td>\n",
       "      <td>Federal-gov</td>\n",
       "      <td>Some-college</td>\n",
       "      <td>10.0</td>\n",
       "      <td>Married-spouse-absent</td>\n",
       "      <td>Adm-clerical</td>\n",
       "      <td>Own-child</td>\n",
       "      <td>White</td>\n",
       "      <td>Female</td>\n",
       "      <td>0.0</td>\n",
       "      <td>0.0</td>\n",
       "      <td>40.0</td>\n",
       "      <td>United-States</td>\n",
       "      <td>&lt;=50K</td>\n",
       "    </tr>\n",
       "    <tr>\n",
       "      <th>6</th>\n",
       "      <td>51</td>\n",
       "      <td>Private</td>\n",
       "      <td>Some-college</td>\n",
       "      <td>10.0</td>\n",
       "      <td>Never-married</td>\n",
       "      <td>Adm-clerical</td>\n",
       "      <td>Own-child</td>\n",
       "      <td>White</td>\n",
       "      <td>Female</td>\n",
       "      <td>0.0</td>\n",
       "      <td>0.0</td>\n",
       "      <td>40.0</td>\n",
       "      <td>United-States</td>\n",
       "      <td>&lt;=50K</td>\n",
       "    </tr>\n",
       "    <tr>\n",
       "      <th>7</th>\n",
       "      <td>33</td>\n",
       "      <td>Self-emp-inc</td>\n",
       "      <td>HS-grad</td>\n",
       "      <td>9.0</td>\n",
       "      <td>Married-civ-spouse</td>\n",
       "      <td>Exec-managerial</td>\n",
       "      <td>Husband</td>\n",
       "      <td>White</td>\n",
       "      <td>Male</td>\n",
       "      <td>0.0</td>\n",
       "      <td>0.0</td>\n",
       "      <td>50.0</td>\n",
       "      <td>United-States</td>\n",
       "      <td>&lt;=50K</td>\n",
       "    </tr>\n",
       "    <tr>\n",
       "      <th>8</th>\n",
       "      <td>35</td>\n",
       "      <td>Local-gov</td>\n",
       "      <td>Masters</td>\n",
       "      <td>14.0</td>\n",
       "      <td>Married-civ-spouse</td>\n",
       "      <td>Prof-specialty</td>\n",
       "      <td>Husband</td>\n",
       "      <td>White</td>\n",
       "      <td>Male</td>\n",
       "      <td>0.0</td>\n",
       "      <td>0.0</td>\n",
       "      <td>40.0</td>\n",
       "      <td>United-States</td>\n",
       "      <td>&lt;=50K</td>\n",
       "    </tr>\n",
       "    <tr>\n",
       "      <th>9</th>\n",
       "      <td>39</td>\n",
       "      <td>Private</td>\n",
       "      <td>Some-college</td>\n",
       "      <td>10.0</td>\n",
       "      <td>Married-civ-spouse</td>\n",
       "      <td>Sales</td>\n",
       "      <td>Husband</td>\n",
       "      <td>White</td>\n",
       "      <td>Male</td>\n",
       "      <td>0.0</td>\n",
       "      <td>0.0</td>\n",
       "      <td>40.0</td>\n",
       "      <td>United-States</td>\n",
       "      <td>&lt;=50K</td>\n",
       "    </tr>\n",
       "  </tbody>\n",
       "</table>\n",
       "</div>"
      ],
      "text/plain": [
       "   age      workclass education_level  education-num          marital-status  \\\n",
       "0   49        Private         Masters           14.0                Divorced   \n",
       "1   43        Private      Assoc-acdm           12.0                Divorced   \n",
       "2   53        Private       Doctorate           16.0      Married-civ-spouse   \n",
       "3   23        Private         HS-grad            9.0      Married-civ-spouse   \n",
       "4   32        Private    Some-college           10.0                Divorced   \n",
       "5   29    Federal-gov    Some-college           10.0   Married-spouse-absent   \n",
       "6   51        Private    Some-college           10.0           Never-married   \n",
       "7   33   Self-emp-inc         HS-grad            9.0      Married-civ-spouse   \n",
       "8   35      Local-gov         Masters           14.0      Married-civ-spouse   \n",
       "9   39        Private    Some-college           10.0      Married-civ-spouse   \n",
       "\n",
       "           occupation    relationship    race      sex  capital-gain  \\\n",
       "0               Sales       Unmarried   Other   Female           0.0   \n",
       "1        Craft-repair   Not-in-family   White     Male           0.0   \n",
       "2      Prof-specialty            Wife   White   Female       99999.0   \n",
       "3        Adm-clerical            Wife   White   Female        3908.0   \n",
       "4   Handlers-cleaners       Unmarried   Black     Male           0.0   \n",
       "5        Adm-clerical       Own-child   White   Female           0.0   \n",
       "6        Adm-clerical       Own-child   White   Female           0.0   \n",
       "7     Exec-managerial         Husband   White     Male           0.0   \n",
       "8      Prof-specialty         Husband   White     Male           0.0   \n",
       "9               Sales         Husband   White     Male           0.0   \n",
       "\n",
       "   capital-loss  hours-per-week  native-country income  \n",
       "0           0.0            20.0            Peru  <=50K  \n",
       "1           0.0            40.0   United-States  <=50K  \n",
       "2           0.0            37.0   United-States   >50K  \n",
       "3           0.0            40.0   United-States  <=50K  \n",
       "4           0.0            40.0       Nicaragua  <=50K  \n",
       "5           0.0            40.0   United-States  <=50K  \n",
       "6           0.0            40.0   United-States  <=50K  \n",
       "7           0.0            50.0   United-States  <=50K  \n",
       "8           0.0            40.0   United-States  <=50K  \n",
       "9           0.0            40.0   United-States  <=50K  "
      ]
     },
     "execution_count": 4,
     "metadata": {},
     "output_type": "execute_result"
    }
   ],
   "source": [
    "# cargamos el fichero de datos y mostramos las primeras filas para tomar una primera impresión de los datos\n",
    "data = pd.read_csv('https://github.com/ivanrumo/KC_Practica_Machine_Learning/blob/master/data/census_train.csv?raw=true')#'data/census_train.csv')\n",
    "data.head(10)"
   ]
  },
  {
   "cell_type": "markdown",
   "metadata": {
    "colab_type": "text",
    "id": "LbWMTX55UgXg"
   },
   "source": [
    "Vemos algunas variables que pueden ser categóricas, algunos valores aprimera vista dispares, etc.\n",
    "education_level y education-num parece que representan la mismo información. "
   ]
  },
  {
   "cell_type": "code",
   "execution_count": 5,
   "metadata": {
    "colab": {
     "base_uri": "https://localhost:8080/",
     "height": 35
    },
    "colab_type": "code",
    "executionInfo": {
     "elapsed": 967,
     "status": "ok",
     "timestamp": 1559498170375,
     "user": {
      "displayName": "Ivan Rubio",
      "photoUrl": "https://lh5.googleusercontent.com/-Y6n9p9UJ3EY/AAAAAAAAAAI/AAAAAAAAGjU/r4Jw_7ETkrQ/s64/photo.jpg",
      "userId": "12955993600759968137"
     },
     "user_tz": -120
    },
    "id": "XWEhZcQqUgXh",
    "outputId": "846cfb67-17e1-4f60-842a-1e290ae6f8e7"
   },
   "outputs": [
    {
     "data": {
      "text/plain": [
       "(36177, 14)"
      ]
     },
     "execution_count": 5,
     "metadata": {},
     "output_type": "execute_result"
    }
   ],
   "source": [
    "data.shape"
   ]
  },
  {
   "cell_type": "markdown",
   "metadata": {
    "colab_type": "text",
    "id": "oUKFBj6fUgXq"
   },
   "source": [
    "vemos que tenemos 13 variables (+ la objetivo) y mas de 36.000 muestras"
   ]
  },
  {
   "cell_type": "code",
   "execution_count": 6,
   "metadata": {
    "colab": {
     "base_uri": "https://localhost:8080/",
     "height": 70
    },
    "colab_type": "code",
    "executionInfo": {
     "elapsed": 678,
     "status": "ok",
     "timestamp": 1559498172236,
     "user": {
      "displayName": "Ivan Rubio",
      "photoUrl": "https://lh5.googleusercontent.com/-Y6n9p9UJ3EY/AAAAAAAAAAI/AAAAAAAAGjU/r4Jw_7ETkrQ/s64/photo.jpg",
      "userId": "12955993600759968137"
     },
     "user_tz": -120
    },
    "id": "By1vEgxOUgXs",
    "outputId": "5ffcedcd-10c9-4fec-9d5d-0aa653a9dd57"
   },
   "outputs": [
    {
     "data": {
      "text/plain": [
       "<=50K    27211\n",
       ">50K      8966\n",
       "Name: income, dtype: int64"
      ]
     },
     "execution_count": 6,
     "metadata": {},
     "output_type": "execute_result"
    }
   ],
   "source": [
    "data['income'].value_counts()"
   ]
  },
  {
   "cell_type": "markdown",
   "metadata": {
    "colab_type": "text",
    "id": "2byYBWlXUgX0"
   },
   "source": [
    "La variable está desbalanceada. **Mas del 75% gana menos de $50K**"
   ]
  },
  {
   "cell_type": "code",
   "execution_count": 7,
   "metadata": {
    "colab": {
     "base_uri": "https://localhost:8080/",
     "height": 284
    },
    "colab_type": "code",
    "executionInfo": {
     "elapsed": 673,
     "status": "ok",
     "timestamp": 1559498174015,
     "user": {
      "displayName": "Ivan Rubio",
      "photoUrl": "https://lh5.googleusercontent.com/-Y6n9p9UJ3EY/AAAAAAAAAAI/AAAAAAAAGjU/r4Jw_7ETkrQ/s64/photo.jpg",
      "userId": "12955993600759968137"
     },
     "user_tz": -120
    },
    "id": "CrKogry_UgX4",
    "outputId": "724aa482-cec4-43d7-c24d-7eae42c20065"
   },
   "outputs": [
    {
     "data": {
      "text/plain": [
       "age                  int64\n",
       "workclass           object\n",
       "education_level     object\n",
       "education-num      float64\n",
       "marital-status      object\n",
       "occupation          object\n",
       "relationship        object\n",
       "race                object\n",
       "sex                 object\n",
       "capital-gain       float64\n",
       "capital-loss       float64\n",
       "hours-per-week     float64\n",
       "native-country      object\n",
       "income              object\n",
       "dtype: object"
      ]
     },
     "execution_count": 7,
     "metadata": {},
     "output_type": "execute_result"
    }
   ],
   "source": [
    "data.dtypes"
   ]
  },
  {
   "cell_type": "markdown",
   "metadata": {
    "colab_type": "text",
    "id": "sAHn6H_MUgYA"
   },
   "source": [
    "confirmamos que tenemos varias variables de texto y tenemos que explorar sus valores para comprobar si con categóricas"
   ]
  },
  {
   "cell_type": "code",
   "execution_count": 8,
   "metadata": {
    "colab": {
     "base_uri": "https://localhost:8080/",
     "height": 284
    },
    "colab_type": "code",
    "executionInfo": {
     "elapsed": 593,
     "status": "ok",
     "timestamp": 1559498175740,
     "user": {
      "displayName": "Ivan Rubio",
      "photoUrl": "https://lh5.googleusercontent.com/-Y6n9p9UJ3EY/AAAAAAAAAAI/AAAAAAAAGjU/r4Jw_7ETkrQ/s64/photo.jpg",
      "userId": "12955993600759968137"
     },
     "user_tz": -120
    },
    "id": "EbU3HOgmUgYB",
    "outputId": "d21323c0-15cd-49bd-f751-ae0ee1d8acfc"
   },
   "outputs": [
    {
     "data": {
      "text/plain": [
       "age                False\n",
       "workclass          False\n",
       "education_level    False\n",
       "education-num      False\n",
       "marital-status     False\n",
       "occupation         False\n",
       "relationship       False\n",
       "race               False\n",
       "sex                False\n",
       "capital-gain       False\n",
       "capital-loss       False\n",
       "hours-per-week     False\n",
       "native-country     False\n",
       "income             False\n",
       "dtype: bool"
      ]
     },
     "execution_count": 8,
     "metadata": {},
     "output_type": "execute_result"
    }
   ],
   "source": [
    "data.isnull().any()"
   ]
  },
  {
   "cell_type": "markdown",
   "metadata": {
    "colab_type": "text",
    "id": "brHL783tUgYL"
   },
   "source": [
    "por suerte no tenemos valores nulos"
   ]
  },
  {
   "cell_type": "code",
   "execution_count": 9,
   "metadata": {
    "colab": {
     "base_uri": "https://localhost:8080/",
     "height": 206
    },
    "colab_type": "code",
    "executionInfo": {
     "elapsed": 632,
     "status": "ok",
     "timestamp": 1559498177722,
     "user": {
      "displayName": "Ivan Rubio",
      "photoUrl": "https://lh5.googleusercontent.com/-Y6n9p9UJ3EY/AAAAAAAAAAI/AAAAAAAAGjU/r4Jw_7ETkrQ/s64/photo.jpg",
      "userId": "12955993600759968137"
     },
     "user_tz": -120
    },
    "id": "7t0gXyIWUgYM",
    "outputId": "09a86840-5df9-429c-eea6-464f9c96a417"
   },
   "outputs": [
    {
     "data": {
      "text/html": [
       "<div>\n",
       "<style scoped>\n",
       "    .dataframe tbody tr th:only-of-type {\n",
       "        vertical-align: middle;\n",
       "    }\n",
       "\n",
       "    .dataframe tbody tr th {\n",
       "        vertical-align: top;\n",
       "    }\n",
       "\n",
       "    .dataframe thead th {\n",
       "        text-align: right;\n",
       "    }\n",
       "</style>\n",
       "<table border=\"1\" class=\"dataframe\">\n",
       "  <thead>\n",
       "    <tr style=\"text-align: right;\">\n",
       "      <th></th>\n",
       "      <th>count</th>\n",
       "      <th>mean</th>\n",
       "      <th>std</th>\n",
       "      <th>min</th>\n",
       "      <th>25%</th>\n",
       "      <th>50%</th>\n",
       "      <th>75%</th>\n",
       "      <th>max</th>\n",
       "    </tr>\n",
       "  </thead>\n",
       "  <tbody>\n",
       "    <tr>\n",
       "      <th>age</th>\n",
       "      <td>36177.0</td>\n",
       "      <td>38.598751</td>\n",
       "      <td>13.229011</td>\n",
       "      <td>17.0</td>\n",
       "      <td>28.0</td>\n",
       "      <td>37.0</td>\n",
       "      <td>47.0</td>\n",
       "      <td>90.0</td>\n",
       "    </tr>\n",
       "    <tr>\n",
       "      <th>education-num</th>\n",
       "      <td>36177.0</td>\n",
       "      <td>10.113663</td>\n",
       "      <td>2.553911</td>\n",
       "      <td>1.0</td>\n",
       "      <td>9.0</td>\n",
       "      <td>10.0</td>\n",
       "      <td>13.0</td>\n",
       "      <td>16.0</td>\n",
       "    </tr>\n",
       "    <tr>\n",
       "      <th>capital-gain</th>\n",
       "      <td>36177.0</td>\n",
       "      <td>1088.861735</td>\n",
       "      <td>7506.099972</td>\n",
       "      <td>0.0</td>\n",
       "      <td>0.0</td>\n",
       "      <td>0.0</td>\n",
       "      <td>0.0</td>\n",
       "      <td>99999.0</td>\n",
       "    </tr>\n",
       "    <tr>\n",
       "      <th>capital-loss</th>\n",
       "      <td>36177.0</td>\n",
       "      <td>88.133206</td>\n",
       "      <td>404.279205</td>\n",
       "      <td>0.0</td>\n",
       "      <td>0.0</td>\n",
       "      <td>0.0</td>\n",
       "      <td>0.0</td>\n",
       "      <td>4356.0</td>\n",
       "    </tr>\n",
       "    <tr>\n",
       "      <th>hours-per-week</th>\n",
       "      <td>36177.0</td>\n",
       "      <td>40.881582</td>\n",
       "      <td>11.981588</td>\n",
       "      <td>1.0</td>\n",
       "      <td>40.0</td>\n",
       "      <td>40.0</td>\n",
       "      <td>45.0</td>\n",
       "      <td>99.0</td>\n",
       "    </tr>\n",
       "  </tbody>\n",
       "</table>\n",
       "</div>"
      ],
      "text/plain": [
       "                  count         mean          std   min   25%   50%   75%  \\\n",
       "age             36177.0    38.598751    13.229011  17.0  28.0  37.0  47.0   \n",
       "education-num   36177.0    10.113663     2.553911   1.0   9.0  10.0  13.0   \n",
       "capital-gain    36177.0  1088.861735  7506.099972   0.0   0.0   0.0   0.0   \n",
       "capital-loss    36177.0    88.133206   404.279205   0.0   0.0   0.0   0.0   \n",
       "hours-per-week  36177.0    40.881582    11.981588   1.0  40.0  40.0  45.0   \n",
       "\n",
       "                    max  \n",
       "age                90.0  \n",
       "education-num      16.0  \n",
       "capital-gain    99999.0  \n",
       "capital-loss     4356.0  \n",
       "hours-per-week     99.0  "
      ]
     },
     "execution_count": 9,
     "metadata": {},
     "output_type": "execute_result"
    }
   ],
   "source": [
    "data.describe().T"
   ]
  },
  {
   "cell_type": "markdown",
   "metadata": {
    "colab_type": "text",
    "id": "tA862A2jUgYU"
   },
   "source": [
    "Las variables capital-gain, capital-loss y hours-per-week tienen valores máximos muy altos. \n",
    "Tengo que comprobar mas adelante si tenemos outliers"
   ]
  },
  {
   "cell_type": "code",
   "execution_count": 10,
   "metadata": {
    "colab": {
     "base_uri": "https://localhost:8080/",
     "height": 338
    },
    "colab_type": "code",
    "executionInfo": {
     "elapsed": 1696,
     "status": "ok",
     "timestamp": 1559498180465,
     "user": {
      "displayName": "Ivan Rubio",
      "photoUrl": "https://lh5.googleusercontent.com/-Y6n9p9UJ3EY/AAAAAAAAAAI/AAAAAAAAGjU/r4Jw_7ETkrQ/s64/photo.jpg",
      "userId": "12955993600759968137"
     },
     "user_tz": -120
    },
    "id": "nuvPQ3LWUgYV",
    "outputId": "1e35cac5-195c-46c4-e1f1-71c8c7f320c7"
   },
   "outputs": [
    {
     "data": {
      "image/png": "[encoded data removed]",
      "text/plain": [
       "<Figure size 1080x360 with 5 Axes>"
      ]
     },
     "metadata": {},
     "output_type": "display_data"
    }
   ],
   "source": [
    "plt.figure(figsize=(15, 5))\n",
    "\n",
    "plt.subplot(2,3,1)\n",
    "data['age'].plot.hist(bins=20, density=1, grid = True)\n",
    "plt.xlabel('age')\n",
    "\n",
    "plt.subplot(2,3,2)\n",
    "data['education-num'].plot.hist(bins=20, density=1, grid = True)\n",
    "plt.xlabel('education-num')\n",
    "\n",
    "plt.subplot(2,3,3)\n",
    "data['capital-gain'].plot.hist(bins=20, density=1, grid = True)\n",
    "plt.xlabel('capital-gain')\n",
    "\n",
    "plt.subplot(2,3,4)\n",
    "data['capital-loss'].plot.hist(bins=20, density=1, grid = True)\n",
    "plt.xlabel('capital-loss')\n",
    "\n",
    "plt.subplot(2,3,5)\n",
    "data['hours-per-week'].plot.hist(bins=20, density=1, grid = True)\n",
    "plt.xlabel('hours-per-week')\n",
    "\n",
    "plt.show()"
   ]
  },
  {
   "cell_type": "markdown",
   "metadata": {
    "colab_type": "text",
    "id": "Nr9ZhAlPUgYd"
   },
   "source": [
    "**age** Vemos una distribución normal. Tenemos algunos valores muy altos poco representativos. \n",
    "\n",
    "**education-num** Los valores entre 9 y 13 son los mas abundantes\n",
    "\n",
    "**capital-gain** y **capital-loss** en la mayoría de casos su valor es cero. Es posible que estas variables no tengan que estar en el modelo. Más adelante lo podré comprobar.\n",
    "\n",
    "**hours-per-week** como es lógico alrrededor de las 40 horas semanales es el valor predominante. "
   ]
  },
  {
   "cell_type": "code",
   "execution_count": 11,
   "metadata": {
    "colab": {
     "base_uri": "https://localhost:8080/",
     "height": 70
    },
    "colab_type": "code",
    "executionInfo": {
     "elapsed": 766,
     "status": "ok",
     "timestamp": 1559498182276,
     "user": {
      "displayName": "Ivan Rubio",
      "photoUrl": "https://lh5.googleusercontent.com/-Y6n9p9UJ3EY/AAAAAAAAAAI/AAAAAAAAGjU/r4Jw_7ETkrQ/s64/photo.jpg",
      "userId": "12955993600759968137"
     },
     "user_tz": -120
    },
    "id": "T4B5HO2yUgYg",
    "outputId": "e59d4488-41a4-45a7-e89c-3fde962701e0"
   },
   "outputs": [
    {
     "name": "stdout",
     "output_type": "stream",
     "text": [
      "% capital-gain valores = 0: 0.9175719379716394\n",
      "% capital-loss valores = 0: 0.9529811758852309\n",
      "% capital-gain y capital-loss ambos valores = 0: 0.8705531138568704\n"
     ]
    }
   ],
   "source": [
    "print(\"% capital-gain valores = 0: {}\".format(data[(data['capital-gain'] == 0)].shape[0] / data.shape[0]))\n",
    "print(\"% capital-loss valores = 0: {}\".format(data[(data['capital-loss'] == 0)].shape[0] / data.shape[0]))\n",
    "print(\"% capital-gain y capital-loss ambos valores = 0: {}\".format(data[(data['capital-gain'] == 0) & (data['capital-loss'] == 0)].shape[0] / data.shape[0]))"
   ]
  },
  {
   "cell_type": "markdown",
   "metadata": {
    "colab_type": "text",
    "id": "C8eNQkPzUgYn"
   },
   "source": [
    "Para capital gain mas del 90% de los valores es 0\n",
    "\n",
    "En el caso de capital loss es mas del 95%\n",
    "\n",
    "Ambas variables tienen como valor 0 en el 87% de las muestras.\n",
    "\n",
    "Seguramente estas variables deban eliminarse. Por ahora las mantengo y en función de los resultados de los modelos barajaré sacar las variables para entrenar los modelos."
   ]
  },
  {
   "cell_type": "code",
   "execution_count": 12,
   "metadata": {
    "colab": {
     "base_uri": "https://localhost:8080/",
     "height": 773
    },
    "colab_type": "code",
    "executionInfo": {
     "elapsed": 698,
     "status": "ok",
     "timestamp": 1559498184197,
     "user": {
      "displayName": "Ivan Rubio",
      "photoUrl": "https://lh5.googleusercontent.com/-Y6n9p9UJ3EY/AAAAAAAAAAI/AAAAAAAAGjU/r4Jw_7ETkrQ/s64/photo.jpg",
      "userId": "12955993600759968137"
     },
     "user_tz": -120
    },
    "id": "lQwuCGK-UgYp",
    "outputId": "7f562afc-3ba5-44f7-f7e6-067ec15a0c68"
   },
   "outputs": [
    {
     "data": {
      "image/png": "[encoded data removed]",
      "text/plain": [
       "<Figure size 432x288 with 1 Axes>"
      ]
     },
     "metadata": {},
     "output_type": "display_data"
    },
    {
     "data": {
      "image/png": "[encoded data removed]",
      "text/plain": [
       "<Figure size 432x288 with 1 Axes>"
      ]
     },
     "metadata": {},
     "output_type": "display_data"
    },
    {
     "data": {
      "image/png": "[encoded data removed]",
      "text/plain": [
       "<Figure size 432x288 with 1 Axes>"
      ]
     },
     "metadata": {},
     "output_type": "display_data"
    }
   ],
   "source": [
    "plt.boxplot(data['age'])\n",
    "plt.show()\n",
    "\n",
    "plt.boxplot(data['education-num'])\n",
    "plt.show()\n",
    "\n",
    "plt.boxplot(data['hours-per-week'])\n",
    "plt.show()\n"
   ]
  },
  {
   "cell_type": "markdown",
   "metadata": {
    "colab_type": "text",
    "id": "gTSAHa9AUgYw"
   },
   "source": [
    "Vemos que en hours-per-week y age tenemos outliers. Sobre todo en hours-per-week. Seguramente posteriormente haga limpieza de outliers para ajustar mejor los resultados de los modelos"
   ]
  },
  {
   "cell_type": "code",
   "execution_count": 13,
   "metadata": {
    "colab": {
     "base_uri": "https://localhost:8080/",
     "height": 1618
    },
    "colab_type": "code",
    "executionInfo": {
     "elapsed": 606,
     "status": "ok",
     "timestamp": 1559498186099,
     "user": {
      "displayName": "Ivan Rubio",
      "photoUrl": "https://lh5.googleusercontent.com/-Y6n9p9UJ3EY/AAAAAAAAAAI/AAAAAAAAGjU/r4Jw_7ETkrQ/s64/photo.jpg",
      "userId": "12955993600759968137"
     },
     "user_tz": -120
    },
    "id": "sDUhmJYQUgYz",
    "outputId": "89fa12d8-095d-4170-cac4-ac5ffca0d66a"
   },
   "outputs": [
    {
     "data": {
      "text/html": [
       "<div>\n",
       "<style scoped>\n",
       "    .dataframe tbody tr th:only-of-type {\n",
       "        vertical-align: middle;\n",
       "    }\n",
       "\n",
       "    .dataframe tbody tr th {\n",
       "        vertical-align: top;\n",
       "    }\n",
       "\n",
       "    .dataframe thead th {\n",
       "        text-align: right;\n",
       "    }\n",
       "</style>\n",
       "<table border=\"1\" class=\"dataframe\">\n",
       "  <thead>\n",
       "    <tr style=\"text-align: right;\">\n",
       "      <th></th>\n",
       "      <th>education_level</th>\n",
       "      <th>education-num</th>\n",
       "    </tr>\n",
       "  </thead>\n",
       "  <tbody>\n",
       "    <tr>\n",
       "      <th>0</th>\n",
       "      <td>Masters</td>\n",
       "      <td>14.0</td>\n",
       "    </tr>\n",
       "    <tr>\n",
       "      <th>1</th>\n",
       "      <td>Assoc-acdm</td>\n",
       "      <td>12.0</td>\n",
       "    </tr>\n",
       "    <tr>\n",
       "      <th>2</th>\n",
       "      <td>Doctorate</td>\n",
       "      <td>16.0</td>\n",
       "    </tr>\n",
       "    <tr>\n",
       "      <th>3</th>\n",
       "      <td>HS-grad</td>\n",
       "      <td>9.0</td>\n",
       "    </tr>\n",
       "    <tr>\n",
       "      <th>4</th>\n",
       "      <td>Some-college</td>\n",
       "      <td>10.0</td>\n",
       "    </tr>\n",
       "    <tr>\n",
       "      <th>5</th>\n",
       "      <td>Some-college</td>\n",
       "      <td>10.0</td>\n",
       "    </tr>\n",
       "    <tr>\n",
       "      <th>6</th>\n",
       "      <td>Some-college</td>\n",
       "      <td>10.0</td>\n",
       "    </tr>\n",
       "    <tr>\n",
       "      <th>7</th>\n",
       "      <td>HS-grad</td>\n",
       "      <td>9.0</td>\n",
       "    </tr>\n",
       "    <tr>\n",
       "      <th>8</th>\n",
       "      <td>Masters</td>\n",
       "      <td>14.0</td>\n",
       "    </tr>\n",
       "    <tr>\n",
       "      <th>9</th>\n",
       "      <td>Some-college</td>\n",
       "      <td>10.0</td>\n",
       "    </tr>\n",
       "    <tr>\n",
       "      <th>10</th>\n",
       "      <td>Some-college</td>\n",
       "      <td>10.0</td>\n",
       "    </tr>\n",
       "    <tr>\n",
       "      <th>11</th>\n",
       "      <td>Bachelors</td>\n",
       "      <td>13.0</td>\n",
       "    </tr>\n",
       "    <tr>\n",
       "      <th>12</th>\n",
       "      <td>HS-grad</td>\n",
       "      <td>9.0</td>\n",
       "    </tr>\n",
       "    <tr>\n",
       "      <th>13</th>\n",
       "      <td>HS-grad</td>\n",
       "      <td>9.0</td>\n",
       "    </tr>\n",
       "    <tr>\n",
       "      <th>14</th>\n",
       "      <td>HS-grad</td>\n",
       "      <td>9.0</td>\n",
       "    </tr>\n",
       "    <tr>\n",
       "      <th>15</th>\n",
       "      <td>Some-college</td>\n",
       "      <td>10.0</td>\n",
       "    </tr>\n",
       "    <tr>\n",
       "      <th>16</th>\n",
       "      <td>Some-college</td>\n",
       "      <td>10.0</td>\n",
       "    </tr>\n",
       "    <tr>\n",
       "      <th>17</th>\n",
       "      <td>Some-college</td>\n",
       "      <td>10.0</td>\n",
       "    </tr>\n",
       "    <tr>\n",
       "      <th>18</th>\n",
       "      <td>HS-grad</td>\n",
       "      <td>9.0</td>\n",
       "    </tr>\n",
       "    <tr>\n",
       "      <th>19</th>\n",
       "      <td>10th</td>\n",
       "      <td>6.0</td>\n",
       "    </tr>\n",
       "    <tr>\n",
       "      <th>20</th>\n",
       "      <td>HS-grad</td>\n",
       "      <td>9.0</td>\n",
       "    </tr>\n",
       "    <tr>\n",
       "      <th>21</th>\n",
       "      <td>Bachelors</td>\n",
       "      <td>13.0</td>\n",
       "    </tr>\n",
       "    <tr>\n",
       "      <th>22</th>\n",
       "      <td>Prof-school</td>\n",
       "      <td>15.0</td>\n",
       "    </tr>\n",
       "    <tr>\n",
       "      <th>23</th>\n",
       "      <td>HS-grad</td>\n",
       "      <td>9.0</td>\n",
       "    </tr>\n",
       "    <tr>\n",
       "      <th>24</th>\n",
       "      <td>HS-grad</td>\n",
       "      <td>9.0</td>\n",
       "    </tr>\n",
       "    <tr>\n",
       "      <th>25</th>\n",
       "      <td>HS-grad</td>\n",
       "      <td>9.0</td>\n",
       "    </tr>\n",
       "    <tr>\n",
       "      <th>26</th>\n",
       "      <td>Some-college</td>\n",
       "      <td>10.0</td>\n",
       "    </tr>\n",
       "    <tr>\n",
       "      <th>27</th>\n",
       "      <td>HS-grad</td>\n",
       "      <td>9.0</td>\n",
       "    </tr>\n",
       "    <tr>\n",
       "      <th>28</th>\n",
       "      <td>7th-8th</td>\n",
       "      <td>4.0</td>\n",
       "    </tr>\n",
       "    <tr>\n",
       "      <th>29</th>\n",
       "      <td>HS-grad</td>\n",
       "      <td>9.0</td>\n",
       "    </tr>\n",
       "    <tr>\n",
       "      <th>30</th>\n",
       "      <td>Assoc-acdm</td>\n",
       "      <td>12.0</td>\n",
       "    </tr>\n",
       "    <tr>\n",
       "      <th>31</th>\n",
       "      <td>Some-college</td>\n",
       "      <td>10.0</td>\n",
       "    </tr>\n",
       "    <tr>\n",
       "      <th>32</th>\n",
       "      <td>HS-grad</td>\n",
       "      <td>9.0</td>\n",
       "    </tr>\n",
       "    <tr>\n",
       "      <th>33</th>\n",
       "      <td>Bachelors</td>\n",
       "      <td>13.0</td>\n",
       "    </tr>\n",
       "    <tr>\n",
       "      <th>34</th>\n",
       "      <td>HS-grad</td>\n",
       "      <td>9.0</td>\n",
       "    </tr>\n",
       "    <tr>\n",
       "      <th>35</th>\n",
       "      <td>Bachelors</td>\n",
       "      <td>13.0</td>\n",
       "    </tr>\n",
       "    <tr>\n",
       "      <th>36</th>\n",
       "      <td>Some-college</td>\n",
       "      <td>10.0</td>\n",
       "    </tr>\n",
       "    <tr>\n",
       "      <th>37</th>\n",
       "      <td>HS-grad</td>\n",
       "      <td>9.0</td>\n",
       "    </tr>\n",
       "    <tr>\n",
       "      <th>38</th>\n",
       "      <td>HS-grad</td>\n",
       "      <td>9.0</td>\n",
       "    </tr>\n",
       "    <tr>\n",
       "      <th>39</th>\n",
       "      <td>9th</td>\n",
       "      <td>5.0</td>\n",
       "    </tr>\n",
       "    <tr>\n",
       "      <th>40</th>\n",
       "      <td>Bachelors</td>\n",
       "      <td>13.0</td>\n",
       "    </tr>\n",
       "    <tr>\n",
       "      <th>41</th>\n",
       "      <td>1st-4th</td>\n",
       "      <td>2.0</td>\n",
       "    </tr>\n",
       "    <tr>\n",
       "      <th>42</th>\n",
       "      <td>Some-college</td>\n",
       "      <td>10.0</td>\n",
       "    </tr>\n",
       "    <tr>\n",
       "      <th>43</th>\n",
       "      <td>HS-grad</td>\n",
       "      <td>9.0</td>\n",
       "    </tr>\n",
       "    <tr>\n",
       "      <th>44</th>\n",
       "      <td>11th</td>\n",
       "      <td>7.0</td>\n",
       "    </tr>\n",
       "    <tr>\n",
       "      <th>45</th>\n",
       "      <td>Some-college</td>\n",
       "      <td>10.0</td>\n",
       "    </tr>\n",
       "    <tr>\n",
       "      <th>46</th>\n",
       "      <td>HS-grad</td>\n",
       "      <td>9.0</td>\n",
       "    </tr>\n",
       "    <tr>\n",
       "      <th>47</th>\n",
       "      <td>Some-college</td>\n",
       "      <td>10.0</td>\n",
       "    </tr>\n",
       "    <tr>\n",
       "      <th>48</th>\n",
       "      <td>HS-grad</td>\n",
       "      <td>9.0</td>\n",
       "    </tr>\n",
       "    <tr>\n",
       "      <th>49</th>\n",
       "      <td>Some-college</td>\n",
       "      <td>10.0</td>\n",
       "    </tr>\n",
       "  </tbody>\n",
       "</table>\n",
       "</div>"
      ],
      "text/plain": [
       "   education_level  education-num\n",
       "0          Masters           14.0\n",
       "1       Assoc-acdm           12.0\n",
       "2        Doctorate           16.0\n",
       "3          HS-grad            9.0\n",
       "4     Some-college           10.0\n",
       "5     Some-college           10.0\n",
       "6     Some-college           10.0\n",
       "7          HS-grad            9.0\n",
       "8          Masters           14.0\n",
       "9     Some-college           10.0\n",
       "10    Some-college           10.0\n",
       "11       Bachelors           13.0\n",
       "12         HS-grad            9.0\n",
       "13         HS-grad            9.0\n",
       "14         HS-grad            9.0\n",
       "15    Some-college           10.0\n",
       "16    Some-college           10.0\n",
       "17    Some-college           10.0\n",
       "18         HS-grad            9.0\n",
       "19            10th            6.0\n",
       "20         HS-grad            9.0\n",
       "21       Bachelors           13.0\n",
       "22     Prof-school           15.0\n",
       "23         HS-grad            9.0\n",
       "24         HS-grad            9.0\n",
       "25         HS-grad            9.0\n",
       "26    Some-college           10.0\n",
       "27         HS-grad            9.0\n",
       "28         7th-8th            4.0\n",
       "29         HS-grad            9.0\n",
       "30      Assoc-acdm           12.0\n",
       "31    Some-college           10.0\n",
       "32         HS-grad            9.0\n",
       "33       Bachelors           13.0\n",
       "34         HS-grad            9.0\n",
       "35       Bachelors           13.0\n",
       "36    Some-college           10.0\n",
       "37         HS-grad            9.0\n",
       "38         HS-grad            9.0\n",
       "39             9th            5.0\n",
       "40       Bachelors           13.0\n",
       "41         1st-4th            2.0\n",
       "42    Some-college           10.0\n",
       "43         HS-grad            9.0\n",
       "44            11th            7.0\n",
       "45    Some-college           10.0\n",
       "46         HS-grad            9.0\n",
       "47    Some-college           10.0\n",
       "48         HS-grad            9.0\n",
       "49    Some-college           10.0"
      ]
     },
     "execution_count": 13,
     "metadata": {},
     "output_type": "execute_result"
    }
   ],
   "source": [
    "data[['education_level', 'education-num']].head(50)"
   ]
  },
  {
   "cell_type": "markdown",
   "metadata": {
    "colab_type": "text",
    "id": "CJQv1ooFUgY7"
   },
   "source": [
    "Efectivamente vemos que education_level y education-num representan los mismos datos. \n",
    "\n",
    "Por lo tanto eliminamos education_level del dataset"
   ]
  },
  {
   "cell_type": "code",
   "execution_count": 14,
   "metadata": {
    "colab": {
     "base_uri": "https://localhost:8080/",
     "height": 206
    },
    "colab_type": "code",
    "executionInfo": {
     "elapsed": 817,
     "status": "ok",
     "timestamp": 1559498188088,
     "user": {
      "displayName": "Ivan Rubio",
      "photoUrl": "https://lh5.googleusercontent.com/-Y6n9p9UJ3EY/AAAAAAAAAAI/AAAAAAAAGjU/r4Jw_7ETkrQ/s64/photo.jpg",
      "userId": "12955993600759968137"
     },
     "user_tz": -120
    },
    "id": "ziCKE0RtUgY9",
    "outputId": "8e328ff2-7ddf-4e24-c013-f5a452875d33"
   },
   "outputs": [
    {
     "data": {
      "text/html": [
       "<div>\n",
       "<style scoped>\n",
       "    .dataframe tbody tr th:only-of-type {\n",
       "        vertical-align: middle;\n",
       "    }\n",
       "\n",
       "    .dataframe tbody tr th {\n",
       "        vertical-align: top;\n",
       "    }\n",
       "\n",
       "    .dataframe thead th {\n",
       "        text-align: right;\n",
       "    }\n",
       "</style>\n",
       "<table border=\"1\" class=\"dataframe\">\n",
       "  <thead>\n",
       "    <tr style=\"text-align: right;\">\n",
       "      <th></th>\n",
       "      <th>age</th>\n",
       "      <th>workclass</th>\n",
       "      <th>education-num</th>\n",
       "      <th>marital-status</th>\n",
       "      <th>occupation</th>\n",
       "      <th>relationship</th>\n",
       "      <th>race</th>\n",
       "      <th>sex</th>\n",
       "      <th>capital-gain</th>\n",
       "      <th>capital-loss</th>\n",
       "      <th>hours-per-week</th>\n",
       "      <th>native-country</th>\n",
       "      <th>income</th>\n",
       "    </tr>\n",
       "  </thead>\n",
       "  <tbody>\n",
       "    <tr>\n",
       "      <th>0</th>\n",
       "      <td>49</td>\n",
       "      <td>Private</td>\n",
       "      <td>14.0</td>\n",
       "      <td>Divorced</td>\n",
       "      <td>Sales</td>\n",
       "      <td>Unmarried</td>\n",
       "      <td>Other</td>\n",
       "      <td>Female</td>\n",
       "      <td>0.0</td>\n",
       "      <td>0.0</td>\n",
       "      <td>20.0</td>\n",
       "      <td>Peru</td>\n",
       "      <td>&lt;=50K</td>\n",
       "    </tr>\n",
       "    <tr>\n",
       "      <th>1</th>\n",
       "      <td>43</td>\n",
       "      <td>Private</td>\n",
       "      <td>12.0</td>\n",
       "      <td>Divorced</td>\n",
       "      <td>Craft-repair</td>\n",
       "      <td>Not-in-family</td>\n",
       "      <td>White</td>\n",
       "      <td>Male</td>\n",
       "      <td>0.0</td>\n",
       "      <td>0.0</td>\n",
       "      <td>40.0</td>\n",
       "      <td>United-States</td>\n",
       "      <td>&lt;=50K</td>\n",
       "    </tr>\n",
       "    <tr>\n",
       "      <th>2</th>\n",
       "      <td>53</td>\n",
       "      <td>Private</td>\n",
       "      <td>16.0</td>\n",
       "      <td>Married-civ-spouse</td>\n",
       "      <td>Prof-specialty</td>\n",
       "      <td>Wife</td>\n",
       "      <td>White</td>\n",
       "      <td>Female</td>\n",
       "      <td>99999.0</td>\n",
       "      <td>0.0</td>\n",
       "      <td>37.0</td>\n",
       "      <td>United-States</td>\n",
       "      <td>&gt;50K</td>\n",
       "    </tr>\n",
       "    <tr>\n",
       "      <th>3</th>\n",
       "      <td>23</td>\n",
       "      <td>Private</td>\n",
       "      <td>9.0</td>\n",
       "      <td>Married-civ-spouse</td>\n",
       "      <td>Adm-clerical</td>\n",
       "      <td>Wife</td>\n",
       "      <td>White</td>\n",
       "      <td>Female</td>\n",
       "      <td>3908.0</td>\n",
       "      <td>0.0</td>\n",
       "      <td>40.0</td>\n",
       "      <td>United-States</td>\n",
       "      <td>&lt;=50K</td>\n",
       "    </tr>\n",
       "    <tr>\n",
       "      <th>4</th>\n",
       "      <td>32</td>\n",
       "      <td>Private</td>\n",
       "      <td>10.0</td>\n",
       "      <td>Divorced</td>\n",
       "      <td>Handlers-cleaners</td>\n",
       "      <td>Unmarried</td>\n",
       "      <td>Black</td>\n",
       "      <td>Male</td>\n",
       "      <td>0.0</td>\n",
       "      <td>0.0</td>\n",
       "      <td>40.0</td>\n",
       "      <td>Nicaragua</td>\n",
       "      <td>&lt;=50K</td>\n",
       "    </tr>\n",
       "  </tbody>\n",
       "</table>\n",
       "</div>"
      ],
      "text/plain": [
       "   age workclass  education-num       marital-status          occupation  \\\n",
       "0   49   Private           14.0             Divorced               Sales   \n",
       "1   43   Private           12.0             Divorced        Craft-repair   \n",
       "2   53   Private           16.0   Married-civ-spouse      Prof-specialty   \n",
       "3   23   Private            9.0   Married-civ-spouse        Adm-clerical   \n",
       "4   32   Private           10.0             Divorced   Handlers-cleaners   \n",
       "\n",
       "     relationship    race      sex  capital-gain  capital-loss  \\\n",
       "0       Unmarried   Other   Female           0.0           0.0   \n",
       "1   Not-in-family   White     Male           0.0           0.0   \n",
       "2            Wife   White   Female       99999.0           0.0   \n",
       "3            Wife   White   Female        3908.0           0.0   \n",
       "4       Unmarried   Black     Male           0.0           0.0   \n",
       "\n",
       "   hours-per-week  native-country income  \n",
       "0            20.0            Peru  <=50K  \n",
       "1            40.0   United-States  <=50K  \n",
       "2            37.0   United-States   >50K  \n",
       "3            40.0   United-States  <=50K  \n",
       "4            40.0       Nicaragua  <=50K  "
      ]
     },
     "execution_count": 14,
     "metadata": {},
     "output_type": "execute_result"
    }
   ],
   "source": [
    "data = data.drop(['education_level'],axis=1)\n",
    "data.head()"
   ]
  },
  {
   "cell_type": "markdown",
   "metadata": {
    "colab_type": "text",
    "id": "tfX0_d3JUgZG"
   },
   "source": [
    "### Feature Engineering\n",
    "\n",
    "La variable objetivo la vamos a codificar. Cuando el valor sea <=50K podremos un -1 y cuando sea >50K sea 1"
   ]
  },
  {
   "cell_type": "code",
   "execution_count": 15,
   "metadata": {
    "colab": {
     "base_uri": "https://localhost:8080/",
     "height": 35
    },
    "colab_type": "code",
    "executionInfo": {
     "elapsed": 706,
     "status": "ok",
     "timestamp": 1559498190020,
     "user": {
      "displayName": "Ivan Rubio",
      "photoUrl": "https://lh5.googleusercontent.com/-Y6n9p9UJ3EY/AAAAAAAAAAI/AAAAAAAAGjU/r4Jw_7ETkrQ/s64/photo.jpg",
      "userId": "12955993600759968137"
     },
     "user_tz": -120
    },
    "id": "484JUDn4UgZH",
    "outputId": "a186e72d-553f-40b2-bc6b-525f8cf7a94a"
   },
   "outputs": [
    {
     "data": {
      "text/plain": [
       "(array([-1,  1]), array([27211,  8966]))"
      ]
     },
     "execution_count": 15,
     "metadata": {},
     "output_type": "execute_result"
    }
   ],
   "source": [
    "data['income'] = np.where(data['income'] == '<=50K',-1,1)\n",
    "np.unique(data['income'], return_counts=True) # comprovamos que la conversión se ha hecho bien"
   ]
  },
  {
   "cell_type": "code",
   "execution_count": 16,
   "metadata": {
    "colab": {
     "base_uri": "https://localhost:8080/",
     "height": 70
    },
    "colab_type": "code",
    "executionInfo": {
     "elapsed": 379,
     "status": "ok",
     "timestamp": 1559498191237,
     "user": {
      "displayName": "Ivan Rubio",
      "photoUrl": "https://lh5.googleusercontent.com/-Y6n9p9UJ3EY/AAAAAAAAAAI/AAAAAAAAGjU/r4Jw_7ETkrQ/s64/photo.jpg",
      "userId": "12955993600759968137"
     },
     "user_tz": -120
    },
    "id": "mskFZ9xpUgZN",
    "outputId": "d1b601c1-403b-41a3-ce6b-e0d7657faa74"
   },
   "outputs": [
    {
     "data": {
      "text/plain": [
       "Index(['workclass', 'marital-status', 'occupation', 'relationship', 'race',\n",
       "       'sex', 'native-country'],\n",
       "      dtype='object')"
      ]
     },
     "execution_count": 16,
     "metadata": {},
     "output_type": "execute_result"
    }
   ],
   "source": [
    "cols = data.columns[data.dtypes == 'object']\n",
    "cols"
   ]
  },
  {
   "cell_type": "markdown",
   "metadata": {
    "colab_type": "text",
    "id": "3hgAi3oCUgZT"
   },
   "source": [
    "Vamos a estudiar los valores de las variables categóricas"
   ]
  },
  {
   "cell_type": "code",
   "execution_count": 17,
   "metadata": {
    "colab": {
     "base_uri": "https://localhost:8080/",
     "height": 1600
    },
    "colab_type": "code",
    "executionInfo": {
     "elapsed": 935,
     "status": "ok",
     "timestamp": 1559498194010,
     "user": {
      "displayName": "Ivan Rubio",
      "photoUrl": "https://lh5.googleusercontent.com/-Y6n9p9UJ3EY/AAAAAAAAAAI/AAAAAAAAGjU/r4Jw_7ETkrQ/s64/photo.jpg",
      "userId": "12955993600759968137"
     },
     "user_tz": -120
    },
    "id": "-mWjmJKoUgZV",
    "outputId": "420a8bbb-3aa8-4a00-e95f-1be8ae71fa5b"
   },
   "outputs": [
    {
     "name": "stdout",
     "output_type": "stream",
     "text": [
      " Private             26572\n",
      " Self-emp-not-inc     3063\n",
      " Local-gov            2479\n",
      " State-gov            1576\n",
      " Self-emp-inc         1313\n",
      " Federal-gov          1156\n",
      " Without-pay            18\n",
      "Name: workclass, dtype: int64\n",
      " Married-civ-spouse       16872\n",
      " Never-married            11683\n",
      " Divorced                  5059\n",
      " Separated                 1098\n",
      " Widowed                   1002\n",
      " Married-spouse-absent      442\n",
      " Married-AF-spouse           21\n",
      "Name: marital-status, dtype: int64\n",
      " Prof-specialty       4839\n",
      " Craft-repair         4828\n",
      " Exec-managerial      4748\n",
      " Adm-clerical         4461\n",
      " Sales                4312\n",
      " Other-service        3810\n",
      " Machine-op-inspct    2403\n",
      " Transport-moving     1840\n",
      " Handlers-cleaners    1634\n",
      " Farming-fishing      1187\n",
      " Tech-support         1137\n",
      " Protective-serv       782\n",
      " Priv-house-serv       188\n",
      " Armed-Forces            8\n",
      "Name: occupation, dtype: int64\n",
      " Husband           14984\n",
      " Not-in-family      9357\n",
      " Own-child          5299\n",
      " Unmarried          3812\n",
      " Wife               1668\n",
      " Other-relative     1057\n",
      "Name: relationship, dtype: int64\n",
      " White                 31148\n",
      " Black                  3361\n",
      " Asian-Pac-Islander     1050\n",
      " Amer-Indian-Eskimo      340\n",
      " Other                   278\n",
      "Name: race, dtype: int64\n",
      " Male      24495\n",
      " Female    11682\n",
      "Name: sex, dtype: int64\n",
      " United-States                 33032\n",
      " Mexico                          726\n",
      " Philippines                     218\n",
      " Germany                         154\n",
      " Puerto-Rico                     141\n",
      " El-Salvador                     126\n",
      " Canada                          125\n",
      " India                           119\n",
      " Cuba                            105\n",
      " England                          99\n",
      " Jamaica                          88\n",
      " China                            88\n",
      " South                            85\n",
      " Italy                            78\n",
      " Japan                            73\n",
      " Dominican-Republic               73\n",
      " Guatemala                        67\n",
      " Columbia                         66\n",
      " Vietnam                          66\n",
      " Poland                           59\n",
      " Portugal                         52\n",
      " Haiti                            46\n",
      " Iran                             45\n",
      " Nicaragua                        45\n",
      " Taiwan                           41\n",
      " Greece                           39\n",
      " Peru                             37\n",
      " Ecuador                          34\n",
      " France                           29\n",
      " Ireland                          28\n",
      " Thailand                         25\n",
      " Cambodia                         23\n",
      " Hong                             22\n",
      " Trinadad&Tobago                  21\n",
      " Yugoslavia                       20\n",
      " Outlying-US(Guam-USVI-etc)       18\n",
      " Honduras                         17\n",
      " Scotland                         16\n",
      " Laos                             15\n",
      " Hungary                          15\n",
      " Holand-Netherlands                1\n",
      "Name: native-country, dtype: int64\n"
     ]
    }
   ],
   "source": [
    "for col in cols:\n",
    "    print(data[col].value_counts())"
   ]
  },
  {
   "cell_type": "markdown",
   "metadata": {
    "colab_type": "text",
    "id": "pUwMOUdtUgZd"
   },
   "source": [
    "**workclass** La mayoría de valores son de trabajadores por cuenta ajena. Creo que se podrían juntar por un lado los funcionarios (*-gov) y por otro lado los autónomos (self-emp*). Los desempleados son una muestra tan pequeña que quizá se pudan eliminar\n",
    "\n",
    "**native-country** La mayoría de muestras corresponden a Estados Unidos. Seguramente sea aconsejable agrupar todos los valores que no son Estados Unidos en un solo valor. \n",
    "\n",
    "**race** Pasa parecido al pais. Casi todas las muestras son de raza blanca. Seguramente es aconsejable agrupar las muestras que no son raza blanca en un solo valor."
   ]
  },
  {
   "cell_type": "code",
   "execution_count": 18,
   "metadata": {
    "colab": {
     "base_uri": "https://localhost:8080/",
     "height": 195
    },
    "colab_type": "code",
    "executionInfo": {
     "elapsed": 895,
     "status": "ok",
     "timestamp": 1559498196362,
     "user": {
      "displayName": "Ivan Rubio",
      "photoUrl": "https://lh5.googleusercontent.com/-Y6n9p9UJ3EY/AAAAAAAAAAI/AAAAAAAAGjU/r4Jw_7ETkrQ/s64/photo.jpg",
      "userId": "12955993600759968137"
     },
     "user_tz": -120
    },
    "id": "XSsp-HhYUgZe",
    "outputId": "e323f47f-248d-41d3-dc34-4a0c0beec816"
   },
   "outputs": [
    {
     "name": "stdout",
     "output_type": "stream",
     "text": [
      " Private      26572\n",
      "Government     5211\n",
      "Self           4376\n",
      "Name: workclass, dtype: int64\n",
      " White       31132\n",
      "non-White     5027\n",
      "Name: race, dtype: int64\n",
      " United-States       33015\n",
      "non-United-States     3144\n",
      "Name: native-country, dtype: int64\n"
     ]
    }
   ],
   "source": [
    "#workclass\n",
    "data.loc[data.workclass.str.contains(\"gov\"), 'workclass'] = 'Government'\n",
    "data.loc[data.workclass.str.contains(\"Self\"), 'workclass'] = 'Self'\n",
    "data = data[~data.workclass.str.contains('Without-pay')]\n",
    "print(data['workclass'].value_counts())\n",
    "\n",
    "#race\n",
    "data.loc[~data.race.str.contains(\"White\"), 'race'] = 'non-White'\n",
    "print(data['race'].value_counts())\n",
    "\n",
    "#native-country\n",
    "data.loc[~data['native-country'].str.contains(\"United-States\"), 'native-country'] = 'non-United-States'\n",
    "print(data['native-country'].value_counts())"
   ]
  },
  {
   "cell_type": "markdown",
   "metadata": {
    "colab_type": "text",
    "id": "KlIG-Xv_UgZj"
   },
   "source": [
    "Como los datos no pertenecen a una serie temporal, vamos a codificar las variables categóricas de dos valores con LabelEncoder. Las de mas valores vamos a codificarlas con get_dummies"
   ]
  },
  {
   "cell_type": "code",
   "execution_count": 19,
   "metadata": {
    "colab": {},
    "colab_type": "code",
    "id": "S3t5kNhEUgZk"
   },
   "outputs": [],
   "source": [
    "le = LabelEncoder()\n",
    "\n",
    "cols_bin = ['race', 'sex', 'native-country']\n",
    "\n",
    "for col in cols_bin:\n",
    "    data[col] = le.fit_transform(data[col])\n",
    "\n"
   ]
  },
  {
   "cell_type": "code",
   "execution_count": 20,
   "metadata": {
    "colab": {
     "base_uri": "https://localhost:8080/",
     "height": 261
    },
    "colab_type": "code",
    "executionInfo": {
     "elapsed": 836,
     "status": "ok",
     "timestamp": 1559498200881,
     "user": {
      "displayName": "Ivan Rubio",
      "photoUrl": "https://lh5.googleusercontent.com/-Y6n9p9UJ3EY/AAAAAAAAAAI/AAAAAAAAGjU/r4Jw_7ETkrQ/s64/photo.jpg",
      "userId": "12955993600759968137"
     },
     "user_tz": -120
    },
    "id": "bP1MvusLUgZo",
    "outputId": "1136c784-b9e2-4d81-c860-bd7c65f979e4"
   },
   "outputs": [
    {
     "data": {
      "text/html": [
       "<div>\n",
       "<style scoped>\n",
       "    .dataframe tbody tr th:only-of-type {\n",
       "        vertical-align: middle;\n",
       "    }\n",
       "\n",
       "    .dataframe tbody tr th {\n",
       "        vertical-align: top;\n",
       "    }\n",
       "\n",
       "    .dataframe thead th {\n",
       "        text-align: right;\n",
       "    }\n",
       "</style>\n",
       "<table border=\"1\" class=\"dataframe\">\n",
       "  <thead>\n",
       "    <tr style=\"text-align: right;\">\n",
       "      <th></th>\n",
       "      <th>age</th>\n",
       "      <th>education-num</th>\n",
       "      <th>race</th>\n",
       "      <th>sex</th>\n",
       "      <th>capital-gain</th>\n",
       "      <th>capital-loss</th>\n",
       "      <th>hours-per-week</th>\n",
       "      <th>native-country</th>\n",
       "      <th>income</th>\n",
       "      <th>Private</th>\n",
       "      <th>...</th>\n",
       "      <th>Protective-serv</th>\n",
       "      <th>Sales</th>\n",
       "      <th>Tech-support</th>\n",
       "      <th>Transport-moving</th>\n",
       "      <th>Husband</th>\n",
       "      <th>Not-in-family</th>\n",
       "      <th>Other-relative</th>\n",
       "      <th>Own-child</th>\n",
       "      <th>Unmarried</th>\n",
       "      <th>Wife</th>\n",
       "    </tr>\n",
       "  </thead>\n",
       "  <tbody>\n",
       "    <tr>\n",
       "      <th>0</th>\n",
       "      <td>49</td>\n",
       "      <td>14.0</td>\n",
       "      <td>1</td>\n",
       "      <td>0</td>\n",
       "      <td>0.0</td>\n",
       "      <td>0.0</td>\n",
       "      <td>20.0</td>\n",
       "      <td>1</td>\n",
       "      <td>-1</td>\n",
       "      <td>1</td>\n",
       "      <td>...</td>\n",
       "      <td>0</td>\n",
       "      <td>1</td>\n",
       "      <td>0</td>\n",
       "      <td>0</td>\n",
       "      <td>0</td>\n",
       "      <td>0</td>\n",
       "      <td>0</td>\n",
       "      <td>0</td>\n",
       "      <td>1</td>\n",
       "      <td>0</td>\n",
       "    </tr>\n",
       "    <tr>\n",
       "      <th>1</th>\n",
       "      <td>43</td>\n",
       "      <td>12.0</td>\n",
       "      <td>0</td>\n",
       "      <td>1</td>\n",
       "      <td>0.0</td>\n",
       "      <td>0.0</td>\n",
       "      <td>40.0</td>\n",
       "      <td>0</td>\n",
       "      <td>-1</td>\n",
       "      <td>1</td>\n",
       "      <td>...</td>\n",
       "      <td>0</td>\n",
       "      <td>0</td>\n",
       "      <td>0</td>\n",
       "      <td>0</td>\n",
       "      <td>0</td>\n",
       "      <td>1</td>\n",
       "      <td>0</td>\n",
       "      <td>0</td>\n",
       "      <td>0</td>\n",
       "      <td>0</td>\n",
       "    </tr>\n",
       "    <tr>\n",
       "      <th>2</th>\n",
       "      <td>53</td>\n",
       "      <td>16.0</td>\n",
       "      <td>0</td>\n",
       "      <td>0</td>\n",
       "      <td>99999.0</td>\n",
       "      <td>0.0</td>\n",
       "      <td>37.0</td>\n",
       "      <td>0</td>\n",
       "      <td>1</td>\n",
       "      <td>1</td>\n",
       "      <td>...</td>\n",
       "      <td>0</td>\n",
       "      <td>0</td>\n",
       "      <td>0</td>\n",
       "      <td>0</td>\n",
       "      <td>0</td>\n",
       "      <td>0</td>\n",
       "      <td>0</td>\n",
       "      <td>0</td>\n",
       "      <td>0</td>\n",
       "      <td>1</td>\n",
       "    </tr>\n",
       "    <tr>\n",
       "      <th>3</th>\n",
       "      <td>23</td>\n",
       "      <td>9.0</td>\n",
       "      <td>0</td>\n",
       "      <td>0</td>\n",
       "      <td>3908.0</td>\n",
       "      <td>0.0</td>\n",
       "      <td>40.0</td>\n",
       "      <td>0</td>\n",
       "      <td>-1</td>\n",
       "      <td>1</td>\n",
       "      <td>...</td>\n",
       "      <td>0</td>\n",
       "      <td>0</td>\n",
       "      <td>0</td>\n",
       "      <td>0</td>\n",
       "      <td>0</td>\n",
       "      <td>0</td>\n",
       "      <td>0</td>\n",
       "      <td>0</td>\n",
       "      <td>0</td>\n",
       "      <td>1</td>\n",
       "    </tr>\n",
       "    <tr>\n",
       "      <th>4</th>\n",
       "      <td>32</td>\n",
       "      <td>10.0</td>\n",
       "      <td>1</td>\n",
       "      <td>1</td>\n",
       "      <td>0.0</td>\n",
       "      <td>0.0</td>\n",
       "      <td>40.0</td>\n",
       "      <td>1</td>\n",
       "      <td>-1</td>\n",
       "      <td>1</td>\n",
       "      <td>...</td>\n",
       "      <td>0</td>\n",
       "      <td>0</td>\n",
       "      <td>0</td>\n",
       "      <td>0</td>\n",
       "      <td>0</td>\n",
       "      <td>0</td>\n",
       "      <td>0</td>\n",
       "      <td>0</td>\n",
       "      <td>1</td>\n",
       "      <td>0</td>\n",
       "    </tr>\n",
       "  </tbody>\n",
       "</table>\n",
       "<p>5 rows × 39 columns</p>\n",
       "</div>"
      ],
      "text/plain": [
       "   age  education-num  race  sex  capital-gain  capital-loss  hours-per-week  \\\n",
       "0   49           14.0     1    0           0.0           0.0            20.0   \n",
       "1   43           12.0     0    1           0.0           0.0            40.0   \n",
       "2   53           16.0     0    0       99999.0           0.0            37.0   \n",
       "3   23            9.0     0    0        3908.0           0.0            40.0   \n",
       "4   32           10.0     1    1           0.0           0.0            40.0   \n",
       "\n",
       "   native-country  income   Private  ...     Protective-serv   Sales  \\\n",
       "0               1      -1         1  ...                   0       1   \n",
       "1               0      -1         1  ...                   0       0   \n",
       "2               0       1         1  ...                   0       0   \n",
       "3               0      -1         1  ...                   0       0   \n",
       "4               1      -1         1  ...                   0       0   \n",
       "\n",
       "    Tech-support   Transport-moving   Husband   Not-in-family  \\\n",
       "0              0                  0         0               0   \n",
       "1              0                  0         0               1   \n",
       "2              0                  0         0               0   \n",
       "3              0                  0         0               0   \n",
       "4              0                  0         0               0   \n",
       "\n",
       "    Other-relative   Own-child   Unmarried   Wife  \n",
       "0                0           0           1      0  \n",
       "1                0           0           0      0  \n",
       "2                0           0           0      1  \n",
       "3                0           0           0      1  \n",
       "4                0           0           1      0  \n",
       "\n",
       "[5 rows x 39 columns]"
      ]
     },
     "execution_count": 20,
     "metadata": {},
     "output_type": "execute_result"
    }
   ],
   "source": [
    "cols = ['workclass', 'marital-status', 'occupation', 'relationship']\n",
    "\n",
    "for col in cols:\n",
    "    dummy = pd.get_dummies(data[col])\n",
    "    data = pd.concat([data,dummy],axis=1).drop([col],axis=1)\n",
    "\n",
    "\n",
    "data.head()"
   ]
  },
  {
   "cell_type": "code",
   "execution_count": 21,
   "metadata": {
    "colab": {
     "base_uri": "https://localhost:8080/",
     "height": 1273
    },
    "colab_type": "code",
    "executionInfo": {
     "elapsed": 959,
     "status": "ok",
     "timestamp": 1559498203024,
     "user": {
      "displayName": "Ivan Rubio",
      "photoUrl": "https://lh5.googleusercontent.com/-Y6n9p9UJ3EY/AAAAAAAAAAI/AAAAAAAAGjU/r4Jw_7ETkrQ/s64/photo.jpg",
      "userId": "12955993600759968137"
     },
     "user_tz": -120
    },
    "id": "IB8x6NUIUgZt",
    "outputId": "a5f5773c-53fd-4a14-cd01-7482f7b4106c"
   },
   "outputs": [
    {
     "data": {
      "text/html": [
       "<div>\n",
       "<style scoped>\n",
       "    .dataframe tbody tr th:only-of-type {\n",
       "        vertical-align: middle;\n",
       "    }\n",
       "\n",
       "    .dataframe tbody tr th {\n",
       "        vertical-align: top;\n",
       "    }\n",
       "\n",
       "    .dataframe thead th {\n",
       "        text-align: right;\n",
       "    }\n",
       "</style>\n",
       "<table border=\"1\" class=\"dataframe\">\n",
       "  <thead>\n",
       "    <tr style=\"text-align: right;\">\n",
       "      <th></th>\n",
       "      <th>count</th>\n",
       "      <th>mean</th>\n",
       "      <th>std</th>\n",
       "      <th>min</th>\n",
       "      <th>25%</th>\n",
       "      <th>50%</th>\n",
       "      <th>75%</th>\n",
       "      <th>max</th>\n",
       "    </tr>\n",
       "  </thead>\n",
       "  <tbody>\n",
       "    <tr>\n",
       "      <th>age</th>\n",
       "      <td>36159.0</td>\n",
       "      <td>38.595232</td>\n",
       "      <td>13.223460</td>\n",
       "      <td>17.0</td>\n",
       "      <td>28.0</td>\n",
       "      <td>37.0</td>\n",
       "      <td>47.0</td>\n",
       "      <td>90.0</td>\n",
       "    </tr>\n",
       "    <tr>\n",
       "      <th>education-num</th>\n",
       "      <td>36159.0</td>\n",
       "      <td>10.114356</td>\n",
       "      <td>2.554035</td>\n",
       "      <td>1.0</td>\n",
       "      <td>9.0</td>\n",
       "      <td>10.0</td>\n",
       "      <td>13.0</td>\n",
       "      <td>16.0</td>\n",
       "    </tr>\n",
       "    <tr>\n",
       "      <th>race</th>\n",
       "      <td>36159.0</td>\n",
       "      <td>0.139025</td>\n",
       "      <td>0.345977</td>\n",
       "      <td>0.0</td>\n",
       "      <td>0.0</td>\n",
       "      <td>0.0</td>\n",
       "      <td>0.0</td>\n",
       "      <td>1.0</td>\n",
       "    </tr>\n",
       "    <tr>\n",
       "      <th>sex</th>\n",
       "      <td>36159.0</td>\n",
       "      <td>0.677065</td>\n",
       "      <td>0.467604</td>\n",
       "      <td>0.0</td>\n",
       "      <td>0.0</td>\n",
       "      <td>1.0</td>\n",
       "      <td>1.0</td>\n",
       "      <td>1.0</td>\n",
       "    </tr>\n",
       "    <tr>\n",
       "      <th>capital-gain</th>\n",
       "      <td>36159.0</td>\n",
       "      <td>1089.214884</td>\n",
       "      <td>7507.909494</td>\n",
       "      <td>0.0</td>\n",
       "      <td>0.0</td>\n",
       "      <td>0.0</td>\n",
       "      <td>0.0</td>\n",
       "      <td>99999.0</td>\n",
       "    </tr>\n",
       "    <tr>\n",
       "      <th>capital-loss</th>\n",
       "      <td>36159.0</td>\n",
       "      <td>88.124893</td>\n",
       "      <td>404.264633</td>\n",
       "      <td>0.0</td>\n",
       "      <td>0.0</td>\n",
       "      <td>0.0</td>\n",
       "      <td>0.0</td>\n",
       "      <td>4356.0</td>\n",
       "    </tr>\n",
       "    <tr>\n",
       "      <th>hours-per-week</th>\n",
       "      <td>36159.0</td>\n",
       "      <td>40.884980</td>\n",
       "      <td>11.977370</td>\n",
       "      <td>1.0</td>\n",
       "      <td>40.0</td>\n",
       "      <td>40.0</td>\n",
       "      <td>45.0</td>\n",
       "      <td>99.0</td>\n",
       "    </tr>\n",
       "    <tr>\n",
       "      <th>native-country</th>\n",
       "      <td>36159.0</td>\n",
       "      <td>0.086949</td>\n",
       "      <td>0.281765</td>\n",
       "      <td>0.0</td>\n",
       "      <td>0.0</td>\n",
       "      <td>0.0</td>\n",
       "      <td>0.0</td>\n",
       "      <td>1.0</td>\n",
       "    </tr>\n",
       "    <tr>\n",
       "      <th>income</th>\n",
       "      <td>36159.0</td>\n",
       "      <td>-0.504190</td>\n",
       "      <td>0.863605</td>\n",
       "      <td>-1.0</td>\n",
       "      <td>-1.0</td>\n",
       "      <td>-1.0</td>\n",
       "      <td>-1.0</td>\n",
       "      <td>1.0</td>\n",
       "    </tr>\n",
       "    <tr>\n",
       "      <th>Private</th>\n",
       "      <td>36159.0</td>\n",
       "      <td>0.734865</td>\n",
       "      <td>0.441411</td>\n",
       "      <td>0.0</td>\n",
       "      <td>0.0</td>\n",
       "      <td>1.0</td>\n",
       "      <td>1.0</td>\n",
       "      <td>1.0</td>\n",
       "    </tr>\n",
       "    <tr>\n",
       "      <th>Government</th>\n",
       "      <td>36159.0</td>\n",
       "      <td>0.144113</td>\n",
       "      <td>0.351210</td>\n",
       "      <td>0.0</td>\n",
       "      <td>0.0</td>\n",
       "      <td>0.0</td>\n",
       "      <td>0.0</td>\n",
       "      <td>1.0</td>\n",
       "    </tr>\n",
       "    <tr>\n",
       "      <th>Self</th>\n",
       "      <td>36159.0</td>\n",
       "      <td>0.121021</td>\n",
       "      <td>0.326156</td>\n",
       "      <td>0.0</td>\n",
       "      <td>0.0</td>\n",
       "      <td>0.0</td>\n",
       "      <td>0.0</td>\n",
       "      <td>1.0</td>\n",
       "    </tr>\n",
       "    <tr>\n",
       "      <th>Divorced</th>\n",
       "      <td>36159.0</td>\n",
       "      <td>0.139910</td>\n",
       "      <td>0.346898</td>\n",
       "      <td>0.0</td>\n",
       "      <td>0.0</td>\n",
       "      <td>0.0</td>\n",
       "      <td>0.0</td>\n",
       "      <td>1.0</td>\n",
       "    </tr>\n",
       "    <tr>\n",
       "      <th>Married-AF-spouse</th>\n",
       "      <td>36159.0</td>\n",
       "      <td>0.000581</td>\n",
       "      <td>0.024092</td>\n",
       "      <td>0.0</td>\n",
       "      <td>0.0</td>\n",
       "      <td>0.0</td>\n",
       "      <td>0.0</td>\n",
       "      <td>1.0</td>\n",
       "    </tr>\n",
       "    <tr>\n",
       "      <th>Married-civ-spouse</th>\n",
       "      <td>36159.0</td>\n",
       "      <td>0.466302</td>\n",
       "      <td>0.498870</td>\n",
       "      <td>0.0</td>\n",
       "      <td>0.0</td>\n",
       "      <td>0.0</td>\n",
       "      <td>1.0</td>\n",
       "      <td>1.0</td>\n",
       "    </tr>\n",
       "    <tr>\n",
       "      <th>Married-spouse-absent</th>\n",
       "      <td>36159.0</td>\n",
       "      <td>0.012224</td>\n",
       "      <td>0.109885</td>\n",
       "      <td>0.0</td>\n",
       "      <td>0.0</td>\n",
       "      <td>0.0</td>\n",
       "      <td>0.0</td>\n",
       "      <td>1.0</td>\n",
       "    </tr>\n",
       "    <tr>\n",
       "      <th>Never-married</th>\n",
       "      <td>36159.0</td>\n",
       "      <td>0.322935</td>\n",
       "      <td>0.467604</td>\n",
       "      <td>0.0</td>\n",
       "      <td>0.0</td>\n",
       "      <td>0.0</td>\n",
       "      <td>1.0</td>\n",
       "      <td>1.0</td>\n",
       "    </tr>\n",
       "    <tr>\n",
       "      <th>Separated</th>\n",
       "      <td>36159.0</td>\n",
       "      <td>0.030366</td>\n",
       "      <td>0.171594</td>\n",
       "      <td>0.0</td>\n",
       "      <td>0.0</td>\n",
       "      <td>0.0</td>\n",
       "      <td>0.0</td>\n",
       "      <td>1.0</td>\n",
       "    </tr>\n",
       "    <tr>\n",
       "      <th>Widowed</th>\n",
       "      <td>36159.0</td>\n",
       "      <td>0.027683</td>\n",
       "      <td>0.164066</td>\n",
       "      <td>0.0</td>\n",
       "      <td>0.0</td>\n",
       "      <td>0.0</td>\n",
       "      <td>0.0</td>\n",
       "      <td>1.0</td>\n",
       "    </tr>\n",
       "    <tr>\n",
       "      <th>Adm-clerical</th>\n",
       "      <td>36159.0</td>\n",
       "      <td>0.123316</td>\n",
       "      <td>0.328805</td>\n",
       "      <td>0.0</td>\n",
       "      <td>0.0</td>\n",
       "      <td>0.0</td>\n",
       "      <td>0.0</td>\n",
       "      <td>1.0</td>\n",
       "    </tr>\n",
       "    <tr>\n",
       "      <th>Armed-Forces</th>\n",
       "      <td>36159.0</td>\n",
       "      <td>0.000221</td>\n",
       "      <td>0.014873</td>\n",
       "      <td>0.0</td>\n",
       "      <td>0.0</td>\n",
       "      <td>0.0</td>\n",
       "      <td>0.0</td>\n",
       "      <td>1.0</td>\n",
       "    </tr>\n",
       "    <tr>\n",
       "      <th>Craft-repair</th>\n",
       "      <td>36159.0</td>\n",
       "      <td>0.133494</td>\n",
       "      <td>0.340112</td>\n",
       "      <td>0.0</td>\n",
       "      <td>0.0</td>\n",
       "      <td>0.0</td>\n",
       "      <td>0.0</td>\n",
       "      <td>1.0</td>\n",
       "    </tr>\n",
       "    <tr>\n",
       "      <th>Exec-managerial</th>\n",
       "      <td>36159.0</td>\n",
       "      <td>0.131281</td>\n",
       "      <td>0.337712</td>\n",
       "      <td>0.0</td>\n",
       "      <td>0.0</td>\n",
       "      <td>0.0</td>\n",
       "      <td>0.0</td>\n",
       "      <td>1.0</td>\n",
       "    </tr>\n",
       "    <tr>\n",
       "      <th>Farming-fishing</th>\n",
       "      <td>36159.0</td>\n",
       "      <td>0.032634</td>\n",
       "      <td>0.177678</td>\n",
       "      <td>0.0</td>\n",
       "      <td>0.0</td>\n",
       "      <td>0.0</td>\n",
       "      <td>0.0</td>\n",
       "      <td>1.0</td>\n",
       "    </tr>\n",
       "    <tr>\n",
       "      <th>Handlers-cleaners</th>\n",
       "      <td>36159.0</td>\n",
       "      <td>0.045134</td>\n",
       "      <td>0.207601</td>\n",
       "      <td>0.0</td>\n",
       "      <td>0.0</td>\n",
       "      <td>0.0</td>\n",
       "      <td>0.0</td>\n",
       "      <td>1.0</td>\n",
       "    </tr>\n",
       "    <tr>\n",
       "      <th>Machine-op-inspct</th>\n",
       "      <td>36159.0</td>\n",
       "      <td>0.066401</td>\n",
       "      <td>0.248985</td>\n",
       "      <td>0.0</td>\n",
       "      <td>0.0</td>\n",
       "      <td>0.0</td>\n",
       "      <td>0.0</td>\n",
       "      <td>1.0</td>\n",
       "    </tr>\n",
       "    <tr>\n",
       "      <th>Other-service</th>\n",
       "      <td>36159.0</td>\n",
       "      <td>0.105313</td>\n",
       "      <td>0.306960</td>\n",
       "      <td>0.0</td>\n",
       "      <td>0.0</td>\n",
       "      <td>0.0</td>\n",
       "      <td>0.0</td>\n",
       "      <td>1.0</td>\n",
       "    </tr>\n",
       "    <tr>\n",
       "      <th>Priv-house-serv</th>\n",
       "      <td>36159.0</td>\n",
       "      <td>0.005199</td>\n",
       "      <td>0.071919</td>\n",
       "      <td>0.0</td>\n",
       "      <td>0.0</td>\n",
       "      <td>0.0</td>\n",
       "      <td>0.0</td>\n",
       "      <td>1.0</td>\n",
       "    </tr>\n",
       "    <tr>\n",
       "      <th>Prof-specialty</th>\n",
       "      <td>36159.0</td>\n",
       "      <td>0.133826</td>\n",
       "      <td>0.340470</td>\n",
       "      <td>0.0</td>\n",
       "      <td>0.0</td>\n",
       "      <td>0.0</td>\n",
       "      <td>0.0</td>\n",
       "      <td>1.0</td>\n",
       "    </tr>\n",
       "    <tr>\n",
       "      <th>Protective-serv</th>\n",
       "      <td>36159.0</td>\n",
       "      <td>0.021627</td>\n",
       "      <td>0.145463</td>\n",
       "      <td>0.0</td>\n",
       "      <td>0.0</td>\n",
       "      <td>0.0</td>\n",
       "      <td>0.0</td>\n",
       "      <td>1.0</td>\n",
       "    </tr>\n",
       "    <tr>\n",
       "      <th>Sales</th>\n",
       "      <td>36159.0</td>\n",
       "      <td>0.119251</td>\n",
       "      <td>0.324088</td>\n",
       "      <td>0.0</td>\n",
       "      <td>0.0</td>\n",
       "      <td>0.0</td>\n",
       "      <td>0.0</td>\n",
       "      <td>1.0</td>\n",
       "    </tr>\n",
       "    <tr>\n",
       "      <th>Tech-support</th>\n",
       "      <td>36159.0</td>\n",
       "      <td>0.031444</td>\n",
       "      <td>0.174518</td>\n",
       "      <td>0.0</td>\n",
       "      <td>0.0</td>\n",
       "      <td>0.0</td>\n",
       "      <td>0.0</td>\n",
       "      <td>1.0</td>\n",
       "    </tr>\n",
       "    <tr>\n",
       "      <th>Transport-moving</th>\n",
       "      <td>36159.0</td>\n",
       "      <td>0.050859</td>\n",
       "      <td>0.219712</td>\n",
       "      <td>0.0</td>\n",
       "      <td>0.0</td>\n",
       "      <td>0.0</td>\n",
       "      <td>0.0</td>\n",
       "      <td>1.0</td>\n",
       "    </tr>\n",
       "    <tr>\n",
       "      <th>Husband</th>\n",
       "      <td>36159.0</td>\n",
       "      <td>0.414198</td>\n",
       "      <td>0.492590</td>\n",
       "      <td>0.0</td>\n",
       "      <td>0.0</td>\n",
       "      <td>0.0</td>\n",
       "      <td>1.0</td>\n",
       "      <td>1.0</td>\n",
       "    </tr>\n",
       "    <tr>\n",
       "      <th>Not-in-family</th>\n",
       "      <td>36159.0</td>\n",
       "      <td>0.258774</td>\n",
       "      <td>0.437967</td>\n",
       "      <td>0.0</td>\n",
       "      <td>0.0</td>\n",
       "      <td>0.0</td>\n",
       "      <td>1.0</td>\n",
       "      <td>1.0</td>\n",
       "    </tr>\n",
       "    <tr>\n",
       "      <th>Other-relative</th>\n",
       "      <td>36159.0</td>\n",
       "      <td>0.029232</td>\n",
       "      <td>0.168459</td>\n",
       "      <td>0.0</td>\n",
       "      <td>0.0</td>\n",
       "      <td>0.0</td>\n",
       "      <td>0.0</td>\n",
       "      <td>1.0</td>\n",
       "    </tr>\n",
       "    <tr>\n",
       "      <th>Own-child</th>\n",
       "      <td>36159.0</td>\n",
       "      <td>0.146326</td>\n",
       "      <td>0.353438</td>\n",
       "      <td>0.0</td>\n",
       "      <td>0.0</td>\n",
       "      <td>0.0</td>\n",
       "      <td>0.0</td>\n",
       "      <td>1.0</td>\n",
       "    </tr>\n",
       "    <tr>\n",
       "      <th>Unmarried</th>\n",
       "      <td>36159.0</td>\n",
       "      <td>0.105396</td>\n",
       "      <td>0.307067</td>\n",
       "      <td>0.0</td>\n",
       "      <td>0.0</td>\n",
       "      <td>0.0</td>\n",
       "      <td>0.0</td>\n",
       "      <td>1.0</td>\n",
       "    </tr>\n",
       "    <tr>\n",
       "      <th>Wife</th>\n",
       "      <td>36159.0</td>\n",
       "      <td>0.046074</td>\n",
       "      <td>0.209649</td>\n",
       "      <td>0.0</td>\n",
       "      <td>0.0</td>\n",
       "      <td>0.0</td>\n",
       "      <td>0.0</td>\n",
       "      <td>1.0</td>\n",
       "    </tr>\n",
       "  </tbody>\n",
       "</table>\n",
       "</div>"
      ],
      "text/plain": [
       "                          count         mean          std   min   25%   50%  \\\n",
       "age                     36159.0    38.595232    13.223460  17.0  28.0  37.0   \n",
       "education-num           36159.0    10.114356     2.554035   1.0   9.0  10.0   \n",
       "race                    36159.0     0.139025     0.345977   0.0   0.0   0.0   \n",
       "sex                     36159.0     0.677065     0.467604   0.0   0.0   1.0   \n",
       "capital-gain            36159.0  1089.214884  7507.909494   0.0   0.0   0.0   \n",
       "capital-loss            36159.0    88.124893   404.264633   0.0   0.0   0.0   \n",
       "hours-per-week          36159.0    40.884980    11.977370   1.0  40.0  40.0   \n",
       "native-country          36159.0     0.086949     0.281765   0.0   0.0   0.0   \n",
       "income                  36159.0    -0.504190     0.863605  -1.0  -1.0  -1.0   \n",
       " Private                36159.0     0.734865     0.441411   0.0   0.0   1.0   \n",
       "Government              36159.0     0.144113     0.351210   0.0   0.0   0.0   \n",
       "Self                    36159.0     0.121021     0.326156   0.0   0.0   0.0   \n",
       " Divorced               36159.0     0.139910     0.346898   0.0   0.0   0.0   \n",
       " Married-AF-spouse      36159.0     0.000581     0.024092   0.0   0.0   0.0   \n",
       " Married-civ-spouse     36159.0     0.466302     0.498870   0.0   0.0   0.0   \n",
       " Married-spouse-absent  36159.0     0.012224     0.109885   0.0   0.0   0.0   \n",
       " Never-married          36159.0     0.322935     0.467604   0.0   0.0   0.0   \n",
       " Separated              36159.0     0.030366     0.171594   0.0   0.0   0.0   \n",
       " Widowed                36159.0     0.027683     0.164066   0.0   0.0   0.0   \n",
       " Adm-clerical           36159.0     0.123316     0.328805   0.0   0.0   0.0   \n",
       " Armed-Forces           36159.0     0.000221     0.014873   0.0   0.0   0.0   \n",
       " Craft-repair           36159.0     0.133494     0.340112   0.0   0.0   0.0   \n",
       " Exec-managerial        36159.0     0.131281     0.337712   0.0   0.0   0.0   \n",
       " Farming-fishing        36159.0     0.032634     0.177678   0.0   0.0   0.0   \n",
       " Handlers-cleaners      36159.0     0.045134     0.207601   0.0   0.0   0.0   \n",
       " Machine-op-inspct      36159.0     0.066401     0.248985   0.0   0.0   0.0   \n",
       " Other-service          36159.0     0.105313     0.306960   0.0   0.0   0.0   \n",
       " Priv-house-serv        36159.0     0.005199     0.071919   0.0   0.0   0.0   \n",
       " Prof-specialty         36159.0     0.133826     0.340470   0.0   0.0   0.0   \n",
       " Protective-serv        36159.0     0.021627     0.145463   0.0   0.0   0.0   \n",
       " Sales                  36159.0     0.119251     0.324088   0.0   0.0   0.0   \n",
       " Tech-support           36159.0     0.031444     0.174518   0.0   0.0   0.0   \n",
       " Transport-moving       36159.0     0.050859     0.219712   0.0   0.0   0.0   \n",
       " Husband                36159.0     0.414198     0.492590   0.0   0.0   0.0   \n",
       " Not-in-family          36159.0     0.258774     0.437967   0.0   0.0   0.0   \n",
       " Other-relative         36159.0     0.029232     0.168459   0.0   0.0   0.0   \n",
       " Own-child              36159.0     0.146326     0.353438   0.0   0.0   0.0   \n",
       " Unmarried              36159.0     0.105396     0.307067   0.0   0.0   0.0   \n",
       " Wife                   36159.0     0.046074     0.209649   0.0   0.0   0.0   \n",
       "\n",
       "                         75%      max  \n",
       "age                     47.0     90.0  \n",
       "education-num           13.0     16.0  \n",
       "race                     0.0      1.0  \n",
       "sex                      1.0      1.0  \n",
       "capital-gain             0.0  99999.0  \n",
       "capital-loss             0.0   4356.0  \n",
       "hours-per-week          45.0     99.0  \n",
       "native-country           0.0      1.0  \n",
       "income                  -1.0      1.0  \n",
       " Private                 1.0      1.0  \n",
       "Government               0.0      1.0  \n",
       "Self                     0.0      1.0  \n",
       " Divorced                0.0      1.0  \n",
       " Married-AF-spouse       0.0      1.0  \n",
       " Married-civ-spouse      1.0      1.0  \n",
       " Married-spouse-absent   0.0      1.0  \n",
       " Never-married           1.0      1.0  \n",
       " Separated               0.0      1.0  \n",
       " Widowed                 0.0      1.0  \n",
       " Adm-clerical            0.0      1.0  \n",
       " Armed-Forces            0.0      1.0  \n",
       " Craft-repair            0.0      1.0  \n",
       " Exec-managerial         0.0      1.0  \n",
       " Farming-fishing         0.0      1.0  \n",
       " Handlers-cleaners       0.0      1.0  \n",
       " Machine-op-inspct       0.0      1.0  \n",
       " Other-service           0.0      1.0  \n",
       " Priv-house-serv         0.0      1.0  \n",
       " Prof-specialty          0.0      1.0  \n",
       " Protective-serv         0.0      1.0  \n",
       " Sales                   0.0      1.0  \n",
       " Tech-support            0.0      1.0  \n",
       " Transport-moving        0.0      1.0  \n",
       " Husband                 1.0      1.0  \n",
       " Not-in-family           1.0      1.0  \n",
       " Other-relative          0.0      1.0  \n",
       " Own-child               0.0      1.0  \n",
       " Unmarried               0.0      1.0  \n",
       " Wife                    0.0      1.0  "
      ]
     },
     "execution_count": 21,
     "metadata": {},
     "output_type": "execute_result"
    }
   ],
   "source": [
    "data.describe().T"
   ]
  },
  {
   "cell_type": "markdown",
   "metadata": {
    "colab_type": "text",
    "id": "T5zdxIIeUgZ0"
   },
   "source": [
    "#### Pintamos histogramas para cada clase"
   ]
  },
  {
   "cell_type": "code",
   "execution_count": 22,
   "metadata": {
    "colab": {
     "base_uri": "https://localhost:8080/",
     "height": 1151
    },
    "colab_type": "code",
    "executionInfo": {
     "elapsed": 8985,
     "status": "ok",
     "timestamp": 1559498214233,
     "user": {
      "displayName": "Ivan Rubio",
      "photoUrl": "https://lh5.googleusercontent.com/-Y6n9p9UJ3EY/AAAAAAAAAAI/AAAAAAAAGjU/r4Jw_7ETkrQ/s64/photo.jpg",
      "userId": "12955993600759968137"
     },
     "user_tz": -120
    },
    "id": "BDBAh3oOUgZ7",
    "outputId": "57455746-c767-42b8-89af-15cb33fce256"
   },
   "outputs": [
    {
     "data": {
      "image/png": "[encoded data removed]",
      "text/plain": [
       "<Figure size 1440x1440 with 38 Axes>"
      ]
     },
     "metadata": {},
     "output_type": "display_data"
    }
   ],
   "source": [
    "# Pintamos histogramas para cada clase\n",
    "plt.figure(figsize=(20,20))\n",
    "\n",
    "idx_0 =  data['income'] == -1\n",
    "idx_1 =  data['income'] == 1\n",
    "\n",
    "# your code here\n",
    "for i,feature in enumerate(data.columns.drop(['income'])):\n",
    "    plt.subplot(8,5,i+1)   \n",
    "    plt.hist(data.ix[idx_0,feature],density=0, bins = 20, alpha=0.75,label='y=0')\n",
    "    plt.hist(data.ix[idx_1,feature],density=0, bins= 20, facecolor='red', alpha=0.75,label='y=1')\n",
    "    plt.legend()\n",
    "    plt.title(feature)\n",
    "\n",
    "plt.show()"
   ]
  },
  {
   "cell_type": "markdown",
   "metadata": {
    "colab_type": "text",
    "id": "PXZ0STBMUgaA"
   },
   "source": [
    "### Correlación entre variables"
   ]
  },
  {
   "cell_type": "code",
   "execution_count": 23,
   "metadata": {
    "colab": {
     "base_uri": "https://localhost:8080/",
     "height": 703
    },
    "colab_type": "code",
    "executionInfo": {
     "elapsed": 2182,
     "status": "ok",
     "timestamp": 1559498215269,
     "user": {
      "displayName": "Ivan Rubio",
      "photoUrl": "https://lh5.googleusercontent.com/-Y6n9p9UJ3EY/AAAAAAAAAAI/AAAAAAAAGjU/r4Jw_7ETkrQ/s64/photo.jpg",
      "userId": "12955993600759968137"
     },
     "user_tz": -120
    },
    "id": "oGSW7iNLUgaC",
    "outputId": "b50779f2-72c3-437b-9b23-56f6976920f2"
   },
   "outputs": [
    {
     "data": {
      "image/png": "[encoded data removed]",
      "text/plain": [
       "<Figure size 864x720 with 2 Axes>"
      ]
     },
     "metadata": {},
     "output_type": "display_data"
    }
   ],
   "source": [
    "import seaborn as sns\n",
    "\n",
    "# Compute the correlation matrix\n",
    "corr = np.abs(data.drop(['income'], axis=1).corr())\n",
    "\n",
    "# Generate a mask for the upper triangle\n",
    "mask = np.zeros_like(corr, dtype=np.bool)\n",
    "mask[np.triu_indices_from(mask)] = True\n",
    "\n",
    "# Set up the matplotlib figure\n",
    "f, ax = plt.subplots(figsize=(12, 10))\n",
    "\n",
    "# Draw the heatmap with the mask and correct aspect ratio\n",
    "sns.heatmap(corr, mask=mask,vmin = 0.0, vmax=1.0, center=0.5,\n",
    "            linewidths=.1, cmap=\"YlGnBu\", cbar_kws={\"shrink\": .8})\n",
    "\n",
    "plt.show()"
   ]
  },
  {
   "cell_type": "markdown",
   "metadata": {
    "colab_type": "text",
    "id": "Cr7J-ljQUgaJ"
   },
   "source": [
    "Vemos una gran correlación entre Married-civ-spouse y husband. Tiene bastante lógica. De eliminar una eliminaría Married-civ-spouse que parece que tiene bastante correlación también con Never-married. Por ahora conservo todas. "
   ]
  },
  {
   "cell_type": "markdown",
   "metadata": {
    "colab_type": "text",
    "id": "2wVeRJ-JUgaJ"
   },
   "source": [
    "### División de variables."
   ]
  },
  {
   "cell_type": "code",
   "execution_count": 24,
   "metadata": {
    "colab": {
     "base_uri": "https://localhost:8080/",
     "height": 88
    },
    "colab_type": "code",
    "executionInfo": {
     "elapsed": 554,
     "status": "ok",
     "timestamp": 1559498218894,
     "user": {
      "displayName": "Ivan Rubio",
      "photoUrl": "https://lh5.googleusercontent.com/-Y6n9p9UJ3EY/AAAAAAAAAAI/AAAAAAAAGjU/r4Jw_7ETkrQ/s64/photo.jpg",
      "userId": "12955993600759968137"
     },
     "user_tz": -120
    },
    "id": "jHWy3EGcUgaM",
    "outputId": "7c0ca3c0-5e86-40e3-8e7e-ea27bc50a76e"
   },
   "outputs": [
    {
     "name": "stdout",
     "output_type": "stream",
     "text": [
      "Datos train:  (27119, 38)\n",
      "Datos test:   (9040, 38)\n",
      "Propocion train:-0.504\n",
      "Propocion test: -0.504\n"
     ]
    }
   ],
   "source": [
    "# preparamos los datos\n",
    "features = data.columns.drop(['income'])\n",
    "X = data[features].values\n",
    "y = data['income'].values\n",
    "\n",
    "X_train, X_test, y_train, y_test = train_test_split(X, y, test_size = 0.25, stratify = y, random_state=0)\n",
    "\n",
    "print('Datos train: ', X_train.shape)\n",
    "print('Datos test:  ', X_test.shape)\n",
    "\n",
    "print('Propocion train:%0.3f'%np.mean(y_train))\n",
    "print('Propocion test: %0.3f'%np.mean(y_test))"
   ]
  },
  {
   "cell_type": "markdown",
   "metadata": {
    "colab_type": "text",
    "id": "qEEkMxyVUgaP"
   },
   "source": [
    "Voy a probar distintos modelos de clasificación, empezando por los más sencillos y terminando con los más complejos. "
   ]
  },
  {
   "cell_type": "markdown",
   "metadata": {
    "colab_type": "text",
    "id": "-uSuzdCZUgaR"
   },
   "source": [
    "### KNN"
   ]
  },
  {
   "cell_type": "code",
   "execution_count": null,
   "metadata": {
    "colab": {
     "base_uri": "https://localhost:8080/",
     "height": 529
    },
    "colab_type": "code",
    "executionInfo": {
     "elapsed": 160951,
     "status": "error",
     "timestamp": 1559500812045,
     "user": {
      "displayName": "Ivan Rubio",
      "photoUrl": "https://lh5.googleusercontent.com/-Y6n9p9UJ3EY/AAAAAAAAAAI/AAAAAAAAGjU/r4Jw_7ETkrQ/s64/photo.jpg",
      "userId": "12955993600759968137"
     },
     "user_tz": -120
    },
    "id": "PG4qCcmUUgaS",
    "outputId": "bb7b6044-a492-41be-e7b7-e1724ecccde3"
   },
   "outputs": [],
   "source": [
    "vecinosIni = 10\n",
    "vecinosFin = 20\n",
    "nVecinos = range(vecinosIni, vecinosFin, 1)\n",
    "\n",
    "param_grid = {'n_neighbors':  np.arange(vecinosIni, vecinosFin, 1)}\n",
    "\n",
    "grid = GridSearchCV(KNeighborsClassifier(), scoring= 'accuracy', param_grid=param_grid, cv = 10).fit(X_train, y_train)\n",
    "print(\"best mean cross-validation score: {:.3f}\".format(grid.best_score_))\n",
    "print(\"best parameters: {}\".format(grid.best_params_))\n",
    "\n",
    "scores = np.array(grid.cv_results_['mean_test_score']) \n",
    "stdvalues = np.array(grid.cv_results_['std_test_score'])\n",
    "plt.plot(nVecinos,scores,'-o')\n",
    "plt.errorbar(nVecinos, scores, yerr=stdvalues, ecolor='g')\n",
    "plt.xlabel('# vecinos')\n",
    "plt.ylabel('10-Fold ACC')\n",
    "plt.grid()\n",
    "plt.show()\n",
    "\n",
    "print(\"acc (train): {:.2f}\".format(grid.score(X_train, y_train)))\n",
    "print(\"acc (test): {:.2f}\".format(grid.score(X_test, y_test)))"
   ]
  },
  {
   "cell_type": "code",
   "execution_count": null,
   "metadata": {
    "colab": {
     "base_uri": "https://localhost:8080/",
     "height": 578
    },
    "colab_type": "code",
    "executionInfo": {
     "elapsed": 3837,
     "status": "ok",
     "timestamp": 1559499125553,
     "user": {
      "displayName": "Ivan Rubio",
      "photoUrl": "https://lh5.googleusercontent.com/-Y6n9p9UJ3EY/AAAAAAAAAAI/AAAAAAAAGjU/r4Jw_7ETkrQ/s64/photo.jpg",
      "userId": "12955993600759968137"
     },
     "user_tz": -120
    },
    "id": "rnPqEr2KVm9s",
    "outputId": "7744c23d-0729-42aa-b041-bf1adde121a2"
   },
   "outputs": [],
   "source": [
    "y_pred = grid.predict(X_test)\n",
    "\n",
    "confmatKNN_test = confusion_matrix(y_test, y_pred)\n",
    "plot_confusion_matrix(confmatKNN_test)\n",
    "calcula_metricas(confmatKNN_test)"
   ]
  },
  {
   "cell_type": "markdown",
   "metadata": {
    "colab_type": "text",
    "id": "XCh_d0gOch1F"
   },
   "source": [
    "Como podemos ver, pese a obtener un buen accuracy exactitud (0.85), el algoritmo no se comparta bien. La sensibilidad es muy baja. Probaremos ahora con regresión logistica\n"
   ]
  },
  {
   "cell_type": "code",
   "execution_count": null,
   "metadata": {
    "colab": {
     "base_uri": "https://localhost:8080/",
     "height": 340
    },
    "colab_type": "code",
    "executionInfo": {
     "elapsed": 36335,
     "status": "ok",
     "timestamp": 1559500996059,
     "user": {
      "displayName": "Ivan Rubio",
      "photoUrl": "https://lh5.googleusercontent.com/-Y6n9p9UJ3EY/AAAAAAAAAAI/AAAAAAAAGjU/r4Jw_7ETkrQ/s64/photo.jpg",
      "userId": "12955993600759968137"
     },
     "user_tz": -120
    },
    "id": "Ty-0_Qh_fHXX",
    "outputId": "5825306a-f871-418d-aac5-ab13a192a680"
   },
   "outputs": [],
   "source": [
    "vectorC = np.logspace(-3, , 20)\n",
    "param_grid = {'C': vectorC}\n",
    "\n",
    "grid = GridSearchCV(LogisticRegression(fit_intercept=False), scoring= 'accuracy', param_grid=param_grid, cv = 10)\n",
    "grid.fit(X_train, y_train)\n",
    "\n",
    "print(\"best mean cross-validation score: {:.3f}\".format(grid.best_score_))\n",
    "print(\"best parameters: {}\".format(grid.best_params_))\n",
    "print(\"test-set score: {:.2f}\".format(grid.score(X_test, y_test)))\n",
    "\n",
    "scores = np.array(grid.cv_results_['mean_test_score'])\n",
    "plt.semilogx(vectorC,scores,'-o')\n",
    "plt.xlabel('C')\n",
    "plt.ylabel('10-Fold ACC')\n",
    "plt.show()"
   ]
  },
  {
   "cell_type": "code",
   "execution_count": null,
   "metadata": {
    "colab": {},
    "colab_type": "code",
    "id": "crOaRULggH2I"
   },
   "outputs": [],
   "source": [
    "y_pred = grid.predict(X_test)\n",
    "\n",
    "confmatKNN_test = confusion_matrix(y_test, y_pred)\n",
    "plot_confusion_matrix(confmatKNN_test)\n",
    "calcula_metricas(confmatKNN_test)"
   ]
  }
 ],
 "metadata": {
  "accelerator": "GPU",
  "colab": {
   "collapsed_sections": [],
   "name": "Un problema de clasificación.ipynb",
   "provenance": [],
   "version": "0.3.2"
  },
  "kernelspec": {
   "display_name": "Python 3",
   "language": "python",
   "name": "python3"
  },
  "language_info": {
   "codemirror_mode": {
    "name": "ipython",
    "version": 3
   },
   "file_extension": ".py",
   "mimetype": "text/x-python",
   "name": "python",
   "nbconvert_exporter": "python",
   "pygments_lexer": "ipython3",
   "version": "3.6.5"
  }
 },
 "nbformat": 4,
 "nbformat_minor": 1
}
