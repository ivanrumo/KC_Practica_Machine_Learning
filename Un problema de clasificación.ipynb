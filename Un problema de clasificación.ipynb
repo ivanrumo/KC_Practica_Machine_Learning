{
 "cells": [
  {
   "cell_type": "markdown",
   "metadata": {
    "colab_type": "text",
    "id": "yVc86v0mUgW9"
   },
   "source": [
    "Archivos: census_train.csv, census_test.csv\n",
    "Este conjunto de datos es una versión modificada del utilizado en el artículo [Scaling Up the\n",
    "Accuracy of Naive-Bayes Classifiers: a Decision-Tree Hybrid](https://www.aaai.org/Papers/KDD/1996/KDD96-033.pdf), escrito por Ron Kohavi. Los datos originales se pueden encontrar en el [UC Irvine Machine Learning Repository](https://archive.ics.uci.edu/ml/datasets/Census+Income).\n",
    "\n",
    "El objetivo es predecir si los ingresos de una persona superan o no los 50.000$ (variable\n",
    "income). Para ello, se tienen 13 características:\n",
    "\n",
    "* age: Edad\n",
    "* workclass: tipo de ocupación (Private, Self-emp-not-inc, Self-emp-inc, Federal-gov, Local-gov, State-gov, Without-pay, Never-worked)\n",
    "* education_level: Nivel educativo (Bachelors, Some-college, 11th, HS-grad, Prof-school, Assoc-acdm, Assoc-voc, 9th, 7th-8th, 12th, Masters, 1st-4th, 10th, Doctorate, 5th-6th, Preschool)\n",
    "* education-num: Número de años de educación completados.\n",
    "* marital-status: estado civil (Married-civ-spouse, Divorced, Never-married, Separated, Widowed, Married-spouse-absent, Married-AF-spouse)\n",
    "* occupation: ocupación (Tech-support, Craft-repair, Other-service, Sales, Exec-managerial, Prof-specialty, Handlers-cleaners, Machine-op-inspct, Adm-clerical, Farming-fishing, Transport-moving, Priv-house-serv, Protective-serv, Armed-Forces)\n",
    "* relationship: familia (Wife, Own-child, Husband, Not-in-family, Other-relative, Unmarried)\n",
    "* race : ​ raza (White, Asian-Pac-Islander, Amer-Indian-Eskimo, Other, Black)\n",
    "* sex ​ : Género (Female, Male)\n",
    "* capital-gain : ​ Ganancia de capitales\n",
    "* capital-loss : ​ Pérdida de capitales\n",
    "* hours-per-week ​ : Promedio de horas trabajadas por semana\n",
    "* native-country : ​ País de origen (United-States, Cambodia, England, Puerto-Rico, Canada, Germany, Outlying-US(Guam-USVI-etc), India, Japan, Greece, South, China, Cuba, Iran, Honduras, Philippines, Italy, Poland, Jamaica, Vietnam, Mexico, Portugal, Ireland, France, Dominican-Republic, Laos, Ecuador, Taiwan, Haiti, Columbia, Hungary, Guatemala, Nicaragua, Scotland, Thailand, Yugoslavia, El-Salvador, Trinidad&Tobago, Peru, Hong, Holand-Netherlands)"
   ]
  },
  {
   "cell_type": "markdown",
   "metadata": {
    "colab_type": "text",
    "id": "bNIrmMqlUgXD"
   },
   "source": [
    "### Realizamos los imports necesarios y creamos las funciones necesarias"
   ]
  },
  {
   "cell_type": "code",
   "execution_count": 1,
   "metadata": {
    "colab": {},
    "colab_type": "code",
    "id": "91WU-I7DUgXF"
   },
   "outputs": [],
   "source": [
    "import numpy as np\n",
    "import pandas as pd\n",
    "\n",
    "import matplotlib.pyplot as plt\n",
    "from matplotlib.colors import ListedColormap\n",
    "%matplotlib inline\n",
    "\n",
    "from sklearn import preprocessing\n",
    "from sklearn.preprocessing import LabelEncoder, StandardScaler\n",
    "\n",
    "cm = plt.cm.RdBu\n",
    "cm_bright = ListedColormap(['#FF0000', '#0000FF'])\n",
    "\n",
    "import warnings\n",
    "warnings.filterwarnings('ignore')\n",
    "\n",
    "from sklearn.model_selection import train_test_split\n",
    "\n",
    "from sklearn.neighbors import KNeighborsClassifier\n",
    "from sklearn.metrics import accuracy_score\n",
    "from sklearn.model_selection import GridSearchCV\n",
    "\n",
    "from sklearn.metrics import confusion_matrix\n",
    "\n",
    "from sklearn.linear_model import LogisticRegression\n",
    "\n",
    "from sklearn.feature_selection import f_classif, mutual_info_classif\n",
    "\n",
    "from sklearn.tree import DecisionTreeClassifier\n",
    "\n",
    "from sklearn.metrics import roc_curve, auc\n",
    "\n",
    "from sklearn.ensemble import RandomForestClassifier\n",
    "\n",
    "from sklearn.ensemble import GradientBoostingClassifier\n",
    "\n",
    "from sklearn.svm import SVC\n"
   ]
  },
  {
   "cell_type": "code",
   "execution_count": 2,
   "metadata": {
    "colab": {},
    "colab_type": "code",
    "id": "pYfPctWjYpeB"
   },
   "outputs": [],
   "source": [
    "def plot_confusion_matrix(confmat):\n",
    "    fig, ax = plt.subplots(figsize=(3, 3))\n",
    "    ax.matshow(confmat, cmap=plt.cm.Blues, alpha=0.5)\n",
    "    for i in range(confmat.shape[0]):\n",
    "        for j in range(confmat.shape[1]):\n",
    "            ax.text(x=j, y=i, s=confmat[i, j], va='center', ha='center')\n",
    "\n",
    "    plt.xlabel('predicted label')\n",
    "    plt.ylabel('true label')\n",
    "\n",
    "    plt.tight_layout()\n",
    "    plt.show()"
   ]
  },
  {
   "cell_type": "code",
   "execution_count": 3,
   "metadata": {
    "colab": {},
    "colab_type": "code",
    "id": "ji6TZy8wY_yE"
   },
   "outputs": [],
   "source": [
    "def calcula_metricas(confmat):\n",
    "    \n",
    "    tn, fp, fn, tp = confmat.ravel()\n",
    "\n",
    "    acc = (tp+tn)/(tn + fp + fn + tp)\n",
    "    sen = tp/(tp+fn)\n",
    "    esp = tn/(tn+fp)\n",
    "    ppv = tp/(tp+fp)\n",
    "    fsc = 2*(sen*ppv/(sen+ppv))\n",
    "\n",
    "    print('ACC: ', acc)\n",
    "    print('SEN: ', sen)\n",
    "    print('ESP: ', esp)\n",
    "    print('PPV: ', ppv)\n",
    "    print('FSC: ', fsc)\n",
    "    \n",
    "    plt.bar(range(5),[acc,sen,esp,ppv,fsc])\n",
    "    plt.xticks(range(5),['ACC','SEN','ESP','PPV','FSC'])\n",
    "    plt.plot([-1, 6], [1, 1], color=(0.6, 0.6, 0.6), linestyle='--')\n",
    "    plt.xlim((-0.5,4.5))\n",
    "    plt.ylim((0,1.1))\n",
    "    plt.title('Metricas')\n",
    "    plt.show()"
   ]
  },
  {
   "cell_type": "markdown",
   "metadata": {
    "colab_type": "text",
    "id": "rl-YeSlEUgXR"
   },
   "source": [
    "### Análisis exploratorio"
   ]
  },
  {
   "cell_type": "code",
   "execution_count": 4,
   "metadata": {
    "colab": {
     "base_uri": "https://localhost:8080/",
     "height": 433
    },
    "colab_type": "code",
    "executionInfo": {
     "elapsed": 3718,
     "status": "ok",
     "timestamp": 1559897529938,
     "user": {
      "displayName": "Ivan Rubio",
      "photoUrl": "https://lh5.googleusercontent.com/-Y6n9p9UJ3EY/AAAAAAAAAAI/AAAAAAAAGjU/r4Jw_7ETkrQ/s64/photo.jpg",
      "userId": "12955993600759968137"
     },
     "user_tz": -120
    },
    "id": "dshtRas-UgXU",
    "outputId": "53b811d4-6100-4476-87a1-38b32f3422f6"
   },
   "outputs": [
    {
     "data": {
      "text/html": [
       "<div>\n",
       "<style scoped>\n",
       "    .dataframe tbody tr th:only-of-type {\n",
       "        vertical-align: middle;\n",
       "    }\n",
       "\n",
       "    .dataframe tbody tr th {\n",
       "        vertical-align: top;\n",
       "    }\n",
       "\n",
       "    .dataframe thead th {\n",
       "        text-align: right;\n",
       "    }\n",
       "</style>\n",
       "<table border=\"1\" class=\"dataframe\">\n",
       "  <thead>\n",
       "    <tr style=\"text-align: right;\">\n",
       "      <th></th>\n",
       "      <th>age</th>\n",
       "      <th>workclass</th>\n",
       "      <th>education_level</th>\n",
       "      <th>education-num</th>\n",
       "      <th>marital-status</th>\n",
       "      <th>occupation</th>\n",
       "      <th>relationship</th>\n",
       "      <th>race</th>\n",
       "      <th>sex</th>\n",
       "      <th>capital-gain</th>\n",
       "      <th>capital-loss</th>\n",
       "      <th>hours-per-week</th>\n",
       "      <th>native-country</th>\n",
       "      <th>income</th>\n",
       "    </tr>\n",
       "  </thead>\n",
       "  <tbody>\n",
       "    <tr>\n",
       "      <th>0</th>\n",
       "      <td>49</td>\n",
       "      <td>Private</td>\n",
       "      <td>Masters</td>\n",
       "      <td>14.0</td>\n",
       "      <td>Divorced</td>\n",
       "      <td>Sales</td>\n",
       "      <td>Unmarried</td>\n",
       "      <td>Other</td>\n",
       "      <td>Female</td>\n",
       "      <td>0.0</td>\n",
       "      <td>0.0</td>\n",
       "      <td>20.0</td>\n",
       "      <td>Peru</td>\n",
       "      <td>&lt;=50K</td>\n",
       "    </tr>\n",
       "    <tr>\n",
       "      <th>1</th>\n",
       "      <td>43</td>\n",
       "      <td>Private</td>\n",
       "      <td>Assoc-acdm</td>\n",
       "      <td>12.0</td>\n",
       "      <td>Divorced</td>\n",
       "      <td>Craft-repair</td>\n",
       "      <td>Not-in-family</td>\n",
       "      <td>White</td>\n",
       "      <td>Male</td>\n",
       "      <td>0.0</td>\n",
       "      <td>0.0</td>\n",
       "      <td>40.0</td>\n",
       "      <td>United-States</td>\n",
       "      <td>&lt;=50K</td>\n",
       "    </tr>\n",
       "    <tr>\n",
       "      <th>2</th>\n",
       "      <td>53</td>\n",
       "      <td>Private</td>\n",
       "      <td>Doctorate</td>\n",
       "      <td>16.0</td>\n",
       "      <td>Married-civ-spouse</td>\n",
       "      <td>Prof-specialty</td>\n",
       "      <td>Wife</td>\n",
       "      <td>White</td>\n",
       "      <td>Female</td>\n",
       "      <td>99999.0</td>\n",
       "      <td>0.0</td>\n",
       "      <td>37.0</td>\n",
       "      <td>United-States</td>\n",
       "      <td>&gt;50K</td>\n",
       "    </tr>\n",
       "    <tr>\n",
       "      <th>3</th>\n",
       "      <td>23</td>\n",
       "      <td>Private</td>\n",
       "      <td>HS-grad</td>\n",
       "      <td>9.0</td>\n",
       "      <td>Married-civ-spouse</td>\n",
       "      <td>Adm-clerical</td>\n",
       "      <td>Wife</td>\n",
       "      <td>White</td>\n",
       "      <td>Female</td>\n",
       "      <td>3908.0</td>\n",
       "      <td>0.0</td>\n",
       "      <td>40.0</td>\n",
       "      <td>United-States</td>\n",
       "      <td>&lt;=50K</td>\n",
       "    </tr>\n",
       "    <tr>\n",
       "      <th>4</th>\n",
       "      <td>32</td>\n",
       "      <td>Private</td>\n",
       "      <td>Some-college</td>\n",
       "      <td>10.0</td>\n",
       "      <td>Divorced</td>\n",
       "      <td>Handlers-cleaners</td>\n",
       "      <td>Unmarried</td>\n",
       "      <td>Black</td>\n",
       "      <td>Male</td>\n",
       "      <td>0.0</td>\n",
       "      <td>0.0</td>\n",
       "      <td>40.0</td>\n",
       "      <td>Nicaragua</td>\n",
       "      <td>&lt;=50K</td>\n",
       "    </tr>\n",
       "    <tr>\n",
       "      <th>5</th>\n",
       "      <td>29</td>\n",
       "      <td>Federal-gov</td>\n",
       "      <td>Some-college</td>\n",
       "      <td>10.0</td>\n",
       "      <td>Married-spouse-absent</td>\n",
       "      <td>Adm-clerical</td>\n",
       "      <td>Own-child</td>\n",
       "      <td>White</td>\n",
       "      <td>Female</td>\n",
       "      <td>0.0</td>\n",
       "      <td>0.0</td>\n",
       "      <td>40.0</td>\n",
       "      <td>United-States</td>\n",
       "      <td>&lt;=50K</td>\n",
       "    </tr>\n",
       "    <tr>\n",
       "      <th>6</th>\n",
       "      <td>51</td>\n",
       "      <td>Private</td>\n",
       "      <td>Some-college</td>\n",
       "      <td>10.0</td>\n",
       "      <td>Never-married</td>\n",
       "      <td>Adm-clerical</td>\n",
       "      <td>Own-child</td>\n",
       "      <td>White</td>\n",
       "      <td>Female</td>\n",
       "      <td>0.0</td>\n",
       "      <td>0.0</td>\n",
       "      <td>40.0</td>\n",
       "      <td>United-States</td>\n",
       "      <td>&lt;=50K</td>\n",
       "    </tr>\n",
       "    <tr>\n",
       "      <th>7</th>\n",
       "      <td>33</td>\n",
       "      <td>Self-emp-inc</td>\n",
       "      <td>HS-grad</td>\n",
       "      <td>9.0</td>\n",
       "      <td>Married-civ-spouse</td>\n",
       "      <td>Exec-managerial</td>\n",
       "      <td>Husband</td>\n",
       "      <td>White</td>\n",
       "      <td>Male</td>\n",
       "      <td>0.0</td>\n",
       "      <td>0.0</td>\n",
       "      <td>50.0</td>\n",
       "      <td>United-States</td>\n",
       "      <td>&lt;=50K</td>\n",
       "    </tr>\n",
       "    <tr>\n",
       "      <th>8</th>\n",
       "      <td>35</td>\n",
       "      <td>Local-gov</td>\n",
       "      <td>Masters</td>\n",
       "      <td>14.0</td>\n",
       "      <td>Married-civ-spouse</td>\n",
       "      <td>Prof-specialty</td>\n",
       "      <td>Husband</td>\n",
       "      <td>White</td>\n",
       "      <td>Male</td>\n",
       "      <td>0.0</td>\n",
       "      <td>0.0</td>\n",
       "      <td>40.0</td>\n",
       "      <td>United-States</td>\n",
       "      <td>&lt;=50K</td>\n",
       "    </tr>\n",
       "    <tr>\n",
       "      <th>9</th>\n",
       "      <td>39</td>\n",
       "      <td>Private</td>\n",
       "      <td>Some-college</td>\n",
       "      <td>10.0</td>\n",
       "      <td>Married-civ-spouse</td>\n",
       "      <td>Sales</td>\n",
       "      <td>Husband</td>\n",
       "      <td>White</td>\n",
       "      <td>Male</td>\n",
       "      <td>0.0</td>\n",
       "      <td>0.0</td>\n",
       "      <td>40.0</td>\n",
       "      <td>United-States</td>\n",
       "      <td>&lt;=50K</td>\n",
       "    </tr>\n",
       "  </tbody>\n",
       "</table>\n",
       "</div>"
      ],
      "text/plain": [
       "   age      workclass education_level  education-num          marital-status  \\\n",
       "0   49        Private         Masters           14.0                Divorced   \n",
       "1   43        Private      Assoc-acdm           12.0                Divorced   \n",
       "2   53        Private       Doctorate           16.0      Married-civ-spouse   \n",
       "3   23        Private         HS-grad            9.0      Married-civ-spouse   \n",
       "4   32        Private    Some-college           10.0                Divorced   \n",
       "5   29    Federal-gov    Some-college           10.0   Married-spouse-absent   \n",
       "6   51        Private    Some-college           10.0           Never-married   \n",
       "7   33   Self-emp-inc         HS-grad            9.0      Married-civ-spouse   \n",
       "8   35      Local-gov         Masters           14.0      Married-civ-spouse   \n",
       "9   39        Private    Some-college           10.0      Married-civ-spouse   \n",
       "\n",
       "           occupation    relationship    race      sex  capital-gain  \\\n",
       "0               Sales       Unmarried   Other   Female           0.0   \n",
       "1        Craft-repair   Not-in-family   White     Male           0.0   \n",
       "2      Prof-specialty            Wife   White   Female       99999.0   \n",
       "3        Adm-clerical            Wife   White   Female        3908.0   \n",
       "4   Handlers-cleaners       Unmarried   Black     Male           0.0   \n",
       "5        Adm-clerical       Own-child   White   Female           0.0   \n",
       "6        Adm-clerical       Own-child   White   Female           0.0   \n",
       "7     Exec-managerial         Husband   White     Male           0.0   \n",
       "8      Prof-specialty         Husband   White     Male           0.0   \n",
       "9               Sales         Husband   White     Male           0.0   \n",
       "\n",
       "   capital-loss  hours-per-week  native-country income  \n",
       "0           0.0            20.0            Peru  <=50K  \n",
       "1           0.0            40.0   United-States  <=50K  \n",
       "2           0.0            37.0   United-States   >50K  \n",
       "3           0.0            40.0   United-States  <=50K  \n",
       "4           0.0            40.0       Nicaragua  <=50K  \n",
       "5           0.0            40.0   United-States  <=50K  \n",
       "6           0.0            40.0   United-States  <=50K  \n",
       "7           0.0            50.0   United-States  <=50K  \n",
       "8           0.0            40.0   United-States  <=50K  \n",
       "9           0.0            40.0   United-States  <=50K  "
      ]
     },
     "execution_count": 4,
     "metadata": {},
     "output_type": "execute_result"
    }
   ],
   "source": [
    "# cargamos el fichero de datos y mostramos las primeras filas para tomar una primera impresión de los datos\n",
    "data = pd.read_csv('https://github.com/ivanrumo/KC_Practica_Machine_Learning/blob/master/data/census_train.csv?raw=true')#'data/census_train.csv')\n",
    "data.head(10)"
   ]
  },
  {
   "cell_type": "markdown",
   "metadata": {
    "colab_type": "text",
    "id": "LbWMTX55UgXg"
   },
   "source": [
    "Vemos algunas variables que pueden ser categóricas, algunos valores aprimera vista dispares, etc.\n",
    "education_level y education-num parece que representan la mismo información. "
   ]
  },
  {
   "cell_type": "code",
   "execution_count": 5,
   "metadata": {
    "colab": {
     "base_uri": "https://localhost:8080/",
     "height": 34
    },
    "colab_type": "code",
    "executionInfo": {
     "elapsed": 3695,
     "status": "ok",
     "timestamp": 1559897529941,
     "user": {
      "displayName": "Ivan Rubio",
      "photoUrl": "https://lh5.googleusercontent.com/-Y6n9p9UJ3EY/AAAAAAAAAAI/AAAAAAAAGjU/r4Jw_7ETkrQ/s64/photo.jpg",
      "userId": "12955993600759968137"
     },
     "user_tz": -120
    },
    "id": "XWEhZcQqUgXh",
    "outputId": "8e574337-2388-4745-b0d3-046cc9b8796a"
   },
   "outputs": [
    {
     "data": {
      "text/plain": [
       "(36177, 14)"
      ]
     },
     "execution_count": 5,
     "metadata": {},
     "output_type": "execute_result"
    }
   ],
   "source": [
    "data.shape"
   ]
  },
  {
   "cell_type": "markdown",
   "metadata": {
    "colab_type": "text",
    "id": "oUKFBj6fUgXq"
   },
   "source": [
    "vemos que tenemos 13 variables (+ la objetivo) y mas de 36.000 muestras"
   ]
  },
  {
   "cell_type": "code",
   "execution_count": 6,
   "metadata": {
    "colab": {
     "base_uri": "https://localhost:8080/",
     "height": 69
    },
    "colab_type": "code",
    "executionInfo": {
     "elapsed": 3674,
     "status": "ok",
     "timestamp": 1559897529944,
     "user": {
      "displayName": "Ivan Rubio",
      "photoUrl": "https://lh5.googleusercontent.com/-Y6n9p9UJ3EY/AAAAAAAAAAI/AAAAAAAAGjU/r4Jw_7ETkrQ/s64/photo.jpg",
      "userId": "12955993600759968137"
     },
     "user_tz": -120
    },
    "id": "By1vEgxOUgXs",
    "outputId": "a25160eb-8d3b-4009-bb96-d7f15cc000bc"
   },
   "outputs": [
    {
     "data": {
      "text/plain": [
       "<=50K    27211\n",
       ">50K      8966\n",
       "Name: income, dtype: int64"
      ]
     },
     "execution_count": 6,
     "metadata": {},
     "output_type": "execute_result"
    }
   ],
   "source": [
    "data['income'].value_counts()"
   ]
  },
  {
   "cell_type": "markdown",
   "metadata": {
    "colab_type": "text",
    "id": "2byYBWlXUgX0"
   },
   "source": [
    "La variable está desbalanceada. **Mas del 75% gana menos de $50K**"
   ]
  },
  {
   "cell_type": "code",
   "execution_count": 7,
   "metadata": {
    "colab": {
     "base_uri": "https://localhost:8080/",
     "height": 278
    },
    "colab_type": "code",
    "executionInfo": {
     "elapsed": 3653,
     "status": "ok",
     "timestamp": 1559897529945,
     "user": {
      "displayName": "Ivan Rubio",
      "photoUrl": "https://lh5.googleusercontent.com/-Y6n9p9UJ3EY/AAAAAAAAAAI/AAAAAAAAGjU/r4Jw_7ETkrQ/s64/photo.jpg",
      "userId": "12955993600759968137"
     },
     "user_tz": -120
    },
    "id": "CrKogry_UgX4",
    "outputId": "d2722c83-99a7-4a8b-f432-9e1944127cf7"
   },
   "outputs": [
    {
     "data": {
      "text/plain": [
       "age                  int64\n",
       "workclass           object\n",
       "education_level     object\n",
       "education-num      float64\n",
       "marital-status      object\n",
       "occupation          object\n",
       "relationship        object\n",
       "race                object\n",
       "sex                 object\n",
       "capital-gain       float64\n",
       "capital-loss       float64\n",
       "hours-per-week     float64\n",
       "native-country      object\n",
       "income              object\n",
       "dtype: object"
      ]
     },
     "execution_count": 7,
     "metadata": {},
     "output_type": "execute_result"
    }
   ],
   "source": [
    "data.dtypes"
   ]
  },
  {
   "cell_type": "markdown",
   "metadata": {
    "colab_type": "text",
    "id": "sAHn6H_MUgYA"
   },
   "source": [
    "confirmamos que tenemos varias variables de texto y tenemos que explorar sus valores para comprobar si con categóricas"
   ]
  },
  {
   "cell_type": "code",
   "execution_count": 8,
   "metadata": {
    "colab": {
     "base_uri": "https://localhost:8080/",
     "height": 278
    },
    "colab_type": "code",
    "executionInfo": {
     "elapsed": 3635,
     "status": "ok",
     "timestamp": 1559897529946,
     "user": {
      "displayName": "Ivan Rubio",
      "photoUrl": "https://lh5.googleusercontent.com/-Y6n9p9UJ3EY/AAAAAAAAAAI/AAAAAAAAGjU/r4Jw_7ETkrQ/s64/photo.jpg",
      "userId": "12955993600759968137"
     },
     "user_tz": -120
    },
    "id": "EbU3HOgmUgYB",
    "outputId": "a777dfca-88ec-44be-98f6-2f3fe161f8e4"
   },
   "outputs": [
    {
     "data": {
      "text/plain": [
       "age                False\n",
       "workclass          False\n",
       "education_level    False\n",
       "education-num      False\n",
       "marital-status     False\n",
       "occupation         False\n",
       "relationship       False\n",
       "race               False\n",
       "sex                False\n",
       "capital-gain       False\n",
       "capital-loss       False\n",
       "hours-per-week     False\n",
       "native-country     False\n",
       "income             False\n",
       "dtype: bool"
      ]
     },
     "execution_count": 8,
     "metadata": {},
     "output_type": "execute_result"
    }
   ],
   "source": [
    "data.isnull().any()"
   ]
  },
  {
   "cell_type": "markdown",
   "metadata": {
    "colab_type": "text",
    "id": "brHL783tUgYL"
   },
   "source": [
    "por suerte no tenemos valores nulos"
   ]
  },
  {
   "cell_type": "code",
   "execution_count": 9,
   "metadata": {
    "colab": {
     "base_uri": "https://localhost:8080/",
     "height": 206
    },
    "colab_type": "code",
    "executionInfo": {
     "elapsed": 3616,
     "status": "ok",
     "timestamp": 1559897529948,
     "user": {
      "displayName": "Ivan Rubio",
      "photoUrl": "https://lh5.googleusercontent.com/-Y6n9p9UJ3EY/AAAAAAAAAAI/AAAAAAAAGjU/r4Jw_7ETkrQ/s64/photo.jpg",
      "userId": "12955993600759968137"
     },
     "user_tz": -120
    },
    "id": "7t0gXyIWUgYM",
    "outputId": "1bcd7936-953f-4eeb-a4d1-7b8b64212dcb"
   },
   "outputs": [
    {
     "data": {
      "text/html": [
       "<div>\n",
       "<style scoped>\n",
       "    .dataframe tbody tr th:only-of-type {\n",
       "        vertical-align: middle;\n",
       "    }\n",
       "\n",
       "    .dataframe tbody tr th {\n",
       "        vertical-align: top;\n",
       "    }\n",
       "\n",
       "    .dataframe thead th {\n",
       "        text-align: right;\n",
       "    }\n",
       "</style>\n",
       "<table border=\"1\" class=\"dataframe\">\n",
       "  <thead>\n",
       "    <tr style=\"text-align: right;\">\n",
       "      <th></th>\n",
       "      <th>count</th>\n",
       "      <th>mean</th>\n",
       "      <th>std</th>\n",
       "      <th>min</th>\n",
       "      <th>25%</th>\n",
       "      <th>50%</th>\n",
       "      <th>75%</th>\n",
       "      <th>max</th>\n",
       "    </tr>\n",
       "  </thead>\n",
       "  <tbody>\n",
       "    <tr>\n",
       "      <th>age</th>\n",
       "      <td>36177.0</td>\n",
       "      <td>38.598751</td>\n",
       "      <td>13.229011</td>\n",
       "      <td>17.0</td>\n",
       "      <td>28.0</td>\n",
       "      <td>37.0</td>\n",
       "      <td>47.0</td>\n",
       "      <td>90.0</td>\n",
       "    </tr>\n",
       "    <tr>\n",
       "      <th>education-num</th>\n",
       "      <td>36177.0</td>\n",
       "      <td>10.113663</td>\n",
       "      <td>2.553911</td>\n",
       "      <td>1.0</td>\n",
       "      <td>9.0</td>\n",
       "      <td>10.0</td>\n",
       "      <td>13.0</td>\n",
       "      <td>16.0</td>\n",
       "    </tr>\n",
       "    <tr>\n",
       "      <th>capital-gain</th>\n",
       "      <td>36177.0</td>\n",
       "      <td>1088.861735</td>\n",
       "      <td>7506.099972</td>\n",
       "      <td>0.0</td>\n",
       "      <td>0.0</td>\n",
       "      <td>0.0</td>\n",
       "      <td>0.0</td>\n",
       "      <td>99999.0</td>\n",
       "    </tr>\n",
       "    <tr>\n",
       "      <th>capital-loss</th>\n",
       "      <td>36177.0</td>\n",
       "      <td>88.133206</td>\n",
       "      <td>404.279205</td>\n",
       "      <td>0.0</td>\n",
       "      <td>0.0</td>\n",
       "      <td>0.0</td>\n",
       "      <td>0.0</td>\n",
       "      <td>4356.0</td>\n",
       "    </tr>\n",
       "    <tr>\n",
       "      <th>hours-per-week</th>\n",
       "      <td>36177.0</td>\n",
       "      <td>40.881582</td>\n",
       "      <td>11.981588</td>\n",
       "      <td>1.0</td>\n",
       "      <td>40.0</td>\n",
       "      <td>40.0</td>\n",
       "      <td>45.0</td>\n",
       "      <td>99.0</td>\n",
       "    </tr>\n",
       "  </tbody>\n",
       "</table>\n",
       "</div>"
      ],
      "text/plain": [
       "                  count         mean          std   min   25%   50%   75%  \\\n",
       "age             36177.0    38.598751    13.229011  17.0  28.0  37.0  47.0   \n",
       "education-num   36177.0    10.113663     2.553911   1.0   9.0  10.0  13.0   \n",
       "capital-gain    36177.0  1088.861735  7506.099972   0.0   0.0   0.0   0.0   \n",
       "capital-loss    36177.0    88.133206   404.279205   0.0   0.0   0.0   0.0   \n",
       "hours-per-week  36177.0    40.881582    11.981588   1.0  40.0  40.0  45.0   \n",
       "\n",
       "                    max  \n",
       "age                90.0  \n",
       "education-num      16.0  \n",
       "capital-gain    99999.0  \n",
       "capital-loss     4356.0  \n",
       "hours-per-week     99.0  "
      ]
     },
     "execution_count": 9,
     "metadata": {},
     "output_type": "execute_result"
    }
   ],
   "source": [
    "data.describe().T"
   ]
  },
  {
   "cell_type": "markdown",
   "metadata": {
    "colab_type": "text",
    "id": "tA862A2jUgYU"
   },
   "source": [
    "Las variables capital-gain, capital-loss y hours-per-week tienen valores máximos muy altos. \n",
    "Tengo que comprobar mas adelante si tenemos outliers"
   ]
  },
  {
   "cell_type": "code",
   "execution_count": 10,
   "metadata": {
    "colab": {
     "base_uri": "https://localhost:8080/",
     "height": 338
    },
    "colab_type": "code",
    "executionInfo": {
     "elapsed": 5459,
     "status": "ok",
     "timestamp": 1559897531808,
     "user": {
      "displayName": "Ivan Rubio",
      "photoUrl": "https://lh5.googleusercontent.com/-Y6n9p9UJ3EY/AAAAAAAAAAI/AAAAAAAAGjU/r4Jw_7ETkrQ/s64/photo.jpg",
      "userId": "12955993600759968137"
     },
     "user_tz": -120
    },
    "id": "nuvPQ3LWUgYV",
    "outputId": "e7ffbd5c-5bbf-4150-b02e-da18004055c4"
   },
   "outputs": [
    {
     "data": {
      "image/png": "[encoded data removed]",
      "text/plain": [
       "<Figure size 1080x360 with 5 Axes>"
      ]
     },
     "metadata": {
      "needs_background": "light"
     },
     "output_type": "display_data"
    }
   ],
   "source": [
    "plt.figure(figsize=(15, 5))\n",
    "\n",
    "plt.subplot(2,3,1)\n",
    "data['age'].plot.hist(bins=20, density=1, grid = True)\n",
    "plt.xlabel('age')\n",
    "\n",
    "plt.subplot(2,3,2)\n",
    "data['education-num'].plot.hist(bins=20, density=1, grid = True)\n",
    "plt.xlabel('education-num')\n",
    "\n",
    "plt.subplot(2,3,3)\n",
    "data['capital-gain'].plot.hist(bins=20, density=1, grid = True)\n",
    "plt.xlabel('capital-gain')\n",
    "\n",
    "plt.subplot(2,3,4)\n",
    "data['capital-loss'].plot.hist(bins=20, density=1, grid = True)\n",
    "plt.xlabel('capital-loss')\n",
    "\n",
    "plt.subplot(2,3,5)\n",
    "data['hours-per-week'].plot.hist(bins=20, density=1, grid = True)\n",
    "plt.xlabel('hours-per-week')\n",
    "\n",
    "plt.show()"
   ]
  },
  {
   "cell_type": "markdown",
   "metadata": {
    "colab_type": "text",
    "id": "Nr9ZhAlPUgYd"
   },
   "source": [
    "**age** Vemos una distribución normal. Tenemos algunos valores muy altos poco representativos. \n",
    "\n",
    "**education-num** Los valores entre 9 y 13 son los mas abundantes\n",
    "\n",
    "**capital-gain** y **capital-loss** en la mayoría de casos su valor es cero. Es posible que estas variables no tengan que estar en el modelo. Más adelante lo podré comprobar.\n",
    "\n",
    "**hours-per-week** como es lógico alrrededor de las 40 horas semanales es el valor predominante. "
   ]
  },
  {
   "cell_type": "code",
   "execution_count": 11,
   "metadata": {
    "colab": {
     "base_uri": "https://localhost:8080/",
     "height": 69
    },
    "colab_type": "code",
    "executionInfo": {
     "elapsed": 5444,
     "status": "ok",
     "timestamp": 1559897531813,
     "user": {
      "displayName": "Ivan Rubio",
      "photoUrl": "https://lh5.googleusercontent.com/-Y6n9p9UJ3EY/AAAAAAAAAAI/AAAAAAAAGjU/r4Jw_7ETkrQ/s64/photo.jpg",
      "userId": "12955993600759968137"
     },
     "user_tz": -120
    },
    "id": "T4B5HO2yUgYg",
    "outputId": "945b4364-129d-4ebc-aebb-f1ebaa084ab6"
   },
   "outputs": [
    {
     "name": "stdout",
     "output_type": "stream",
     "text": [
      "% capital-gain valores = 0: 0.9175719379716394\n",
      "% capital-loss valores = 0: 0.9529811758852309\n",
      "% capital-gain y capital-loss ambos valores = 0: 0.8705531138568704\n"
     ]
    }
   ],
   "source": [
    "print(\"% capital-gain valores = 0: {}\".format(data[(data['capital-gain'] == 0)].shape[0] / data.shape[0]))\n",
    "print(\"% capital-loss valores = 0: {}\".format(data[(data['capital-loss'] == 0)].shape[0] / data.shape[0]))\n",
    "print(\"% capital-gain y capital-loss ambos valores = 0: {}\".format(data[(data['capital-gain'] == 0) & (data['capital-loss'] == 0)].shape[0] / data.shape[0]))"
   ]
  },
  {
   "cell_type": "markdown",
   "metadata": {
    "colab_type": "text",
    "id": "C8eNQkPzUgYn"
   },
   "source": [
    "Para capital gain mas del 90% de los valores es 0\n",
    "\n",
    "En el caso de capital loss es mas del 95%\n",
    "\n",
    "Ambas variables tienen como valor 0 en el 87% de las muestras.\n",
    "\n",
    "Seguramente estas variables deban eliminarse. Por ahora las mantengo y en función de los resultados de los modelos barajaré sacar las variables para entrenar los modelos.\n",
    "\n",
    "---\n",
    "\n",
    "He probado a eliminar estas variables y he obtenido peores modelos, así que al final mantengo estas variables. Parece que en las muestras que si tienen valor son útiles para el modelo predictorio"
   ]
  },
  {
   "cell_type": "code",
   "execution_count": 12,
   "metadata": {},
   "outputs": [],
   "source": [
    "#data = data.drop(['capital-gain'],axis=1)\n",
    "#data = data.drop(['capital-loss'],axis=1)"
   ]
  },
  {
   "cell_type": "code",
   "execution_count": 13,
   "metadata": {
    "colab": {
     "base_uri": "https://localhost:8080/",
     "height": 773
    },
    "colab_type": "code",
    "executionInfo": {
     "elapsed": 5426,
     "status": "ok",
     "timestamp": 1559897531818,
     "user": {
      "displayName": "Ivan Rubio",
      "photoUrl": "https://lh5.googleusercontent.com/-Y6n9p9UJ3EY/AAAAAAAAAAI/AAAAAAAAGjU/r4Jw_7ETkrQ/s64/photo.jpg",
      "userId": "12955993600759968137"
     },
     "user_tz": -120
    },
    "id": "lQwuCGK-UgYp",
    "outputId": "62dfc533-d373-4f6f-800f-052e9b1e57b5"
   },
   "outputs": [
    {
     "data": {
      "image/png": "[encoded data removed]",
      "text/plain": [
       "<Figure size 432x288 with 1 Axes>"
      ]
     },
     "metadata": {
      "needs_background": "light"
     },
     "output_type": "display_data"
    },
    {
     "data": {
      "image/png": "[encoded data removed]",
      "text/plain": [
       "<Figure size 432x288 with 1 Axes>"
      ]
     },
     "metadata": {
      "needs_background": "light"
     },
     "output_type": "display_data"
    },
    {
     "data": {
      "image/png": "[encoded data removed]",
      "text/plain": [
       "<Figure size 432x288 with 1 Axes>"
      ]
     },
     "metadata": {
      "needs_background": "light"
     },
     "output_type": "display_data"
    }
   ],
   "source": [
    "plt.boxplot(data['age'])\n",
    "plt.show()\n",
    "\n",
    "plt.boxplot(data['education-num'])\n",
    "plt.show()\n",
    "\n",
    "plt.boxplot(data['hours-per-week'])\n",
    "plt.show()\n"
   ]
  },
  {
   "cell_type": "markdown",
   "metadata": {
    "colab_type": "text",
    "id": "gTSAHa9AUgYw"
   },
   "source": [
    "Vemos que en hours-per-week y age tenemos outliers. Sobre todo en hours-per-week. Seguramente posteriormente haga limpieza de outliers para ajustar mejor los resultados de los modelos\n",
    "\n",
    "---\n",
    "He hecho pruebas quitando los outliers y obtengo peores resultados. Así que mantengo todas las muestras"
   ]
  },
  {
   "cell_type": "code",
   "execution_count": 14,
   "metadata": {
    "colab": {
     "base_uri": "https://localhost:8080/",
     "height": 1618
    },
    "colab_type": "code",
    "executionInfo": {
     "elapsed": 5410,
     "status": "ok",
     "timestamp": 1559897531820,
     "user": {
      "displayName": "Ivan Rubio",
      "photoUrl": "https://lh5.googleusercontent.com/-Y6n9p9UJ3EY/AAAAAAAAAAI/AAAAAAAAGjU/r4Jw_7ETkrQ/s64/photo.jpg",
      "userId": "12955993600759968137"
     },
     "user_tz": -120
    },
    "id": "sDUhmJYQUgYz",
    "outputId": "82c36c4b-13a0-415c-b4ea-ae6883ad1625"
   },
   "outputs": [
    {
     "data": {
      "text/html": [
       "<div>\n",
       "<style scoped>\n",
       "    .dataframe tbody tr th:only-of-type {\n",
       "        vertical-align: middle;\n",
       "    }\n",
       "\n",
       "    .dataframe tbody tr th {\n",
       "        vertical-align: top;\n",
       "    }\n",
       "\n",
       "    .dataframe thead th {\n",
       "        text-align: right;\n",
       "    }\n",
       "</style>\n",
       "<table border=\"1\" class=\"dataframe\">\n",
       "  <thead>\n",
       "    <tr style=\"text-align: right;\">\n",
       "      <th></th>\n",
       "      <th>education_level</th>\n",
       "      <th>education-num</th>\n",
       "    </tr>\n",
       "  </thead>\n",
       "  <tbody>\n",
       "    <tr>\n",
       "      <th>0</th>\n",
       "      <td>Masters</td>\n",
       "      <td>14.0</td>\n",
       "    </tr>\n",
       "    <tr>\n",
       "      <th>1</th>\n",
       "      <td>Assoc-acdm</td>\n",
       "      <td>12.0</td>\n",
       "    </tr>\n",
       "    <tr>\n",
       "      <th>2</th>\n",
       "      <td>Doctorate</td>\n",
       "      <td>16.0</td>\n",
       "    </tr>\n",
       "    <tr>\n",
       "      <th>3</th>\n",
       "      <td>HS-grad</td>\n",
       "      <td>9.0</td>\n",
       "    </tr>\n",
       "    <tr>\n",
       "      <th>4</th>\n",
       "      <td>Some-college</td>\n",
       "      <td>10.0</td>\n",
       "    </tr>\n",
       "    <tr>\n",
       "      <th>5</th>\n",
       "      <td>Some-college</td>\n",
       "      <td>10.0</td>\n",
       "    </tr>\n",
       "    <tr>\n",
       "      <th>6</th>\n",
       "      <td>Some-college</td>\n",
       "      <td>10.0</td>\n",
       "    </tr>\n",
       "    <tr>\n",
       "      <th>7</th>\n",
       "      <td>HS-grad</td>\n",
       "      <td>9.0</td>\n",
       "    </tr>\n",
       "    <tr>\n",
       "      <th>8</th>\n",
       "      <td>Masters</td>\n",
       "      <td>14.0</td>\n",
       "    </tr>\n",
       "    <tr>\n",
       "      <th>9</th>\n",
       "      <td>Some-college</td>\n",
       "      <td>10.0</td>\n",
       "    </tr>\n",
       "    <tr>\n",
       "      <th>10</th>\n",
       "      <td>Some-college</td>\n",
       "      <td>10.0</td>\n",
       "    </tr>\n",
       "    <tr>\n",
       "      <th>11</th>\n",
       "      <td>Bachelors</td>\n",
       "      <td>13.0</td>\n",
       "    </tr>\n",
       "    <tr>\n",
       "      <th>12</th>\n",
       "      <td>HS-grad</td>\n",
       "      <td>9.0</td>\n",
       "    </tr>\n",
       "    <tr>\n",
       "      <th>13</th>\n",
       "      <td>HS-grad</td>\n",
       "      <td>9.0</td>\n",
       "    </tr>\n",
       "    <tr>\n",
       "      <th>14</th>\n",
       "      <td>HS-grad</td>\n",
       "      <td>9.0</td>\n",
       "    </tr>\n",
       "    <tr>\n",
       "      <th>15</th>\n",
       "      <td>Some-college</td>\n",
       "      <td>10.0</td>\n",
       "    </tr>\n",
       "    <tr>\n",
       "      <th>16</th>\n",
       "      <td>Some-college</td>\n",
       "      <td>10.0</td>\n",
       "    </tr>\n",
       "    <tr>\n",
       "      <th>17</th>\n",
       "      <td>Some-college</td>\n",
       "      <td>10.0</td>\n",
       "    </tr>\n",
       "    <tr>\n",
       "      <th>18</th>\n",
       "      <td>HS-grad</td>\n",
       "      <td>9.0</td>\n",
       "    </tr>\n",
       "    <tr>\n",
       "      <th>19</th>\n",
       "      <td>10th</td>\n",
       "      <td>6.0</td>\n",
       "    </tr>\n",
       "    <tr>\n",
       "      <th>20</th>\n",
       "      <td>HS-grad</td>\n",
       "      <td>9.0</td>\n",
       "    </tr>\n",
       "    <tr>\n",
       "      <th>21</th>\n",
       "      <td>Bachelors</td>\n",
       "      <td>13.0</td>\n",
       "    </tr>\n",
       "    <tr>\n",
       "      <th>22</th>\n",
       "      <td>Prof-school</td>\n",
       "      <td>15.0</td>\n",
       "    </tr>\n",
       "    <tr>\n",
       "      <th>23</th>\n",
       "      <td>HS-grad</td>\n",
       "      <td>9.0</td>\n",
       "    </tr>\n",
       "    <tr>\n",
       "      <th>24</th>\n",
       "      <td>HS-grad</td>\n",
       "      <td>9.0</td>\n",
       "    </tr>\n",
       "    <tr>\n",
       "      <th>25</th>\n",
       "      <td>HS-grad</td>\n",
       "      <td>9.0</td>\n",
       "    </tr>\n",
       "    <tr>\n",
       "      <th>26</th>\n",
       "      <td>Some-college</td>\n",
       "      <td>10.0</td>\n",
       "    </tr>\n",
       "    <tr>\n",
       "      <th>27</th>\n",
       "      <td>HS-grad</td>\n",
       "      <td>9.0</td>\n",
       "    </tr>\n",
       "    <tr>\n",
       "      <th>28</th>\n",
       "      <td>7th-8th</td>\n",
       "      <td>4.0</td>\n",
       "    </tr>\n",
       "    <tr>\n",
       "      <th>29</th>\n",
       "      <td>HS-grad</td>\n",
       "      <td>9.0</td>\n",
       "    </tr>\n",
       "    <tr>\n",
       "      <th>30</th>\n",
       "      <td>Assoc-acdm</td>\n",
       "      <td>12.0</td>\n",
       "    </tr>\n",
       "    <tr>\n",
       "      <th>31</th>\n",
       "      <td>Some-college</td>\n",
       "      <td>10.0</td>\n",
       "    </tr>\n",
       "    <tr>\n",
       "      <th>32</th>\n",
       "      <td>HS-grad</td>\n",
       "      <td>9.0</td>\n",
       "    </tr>\n",
       "    <tr>\n",
       "      <th>33</th>\n",
       "      <td>Bachelors</td>\n",
       "      <td>13.0</td>\n",
       "    </tr>\n",
       "    <tr>\n",
       "      <th>34</th>\n",
       "      <td>HS-grad</td>\n",
       "      <td>9.0</td>\n",
       "    </tr>\n",
       "    <tr>\n",
       "      <th>35</th>\n",
       "      <td>Bachelors</td>\n",
       "      <td>13.0</td>\n",
       "    </tr>\n",
       "    <tr>\n",
       "      <th>36</th>\n",
       "      <td>Some-college</td>\n",
       "      <td>10.0</td>\n",
       "    </tr>\n",
       "    <tr>\n",
       "      <th>37</th>\n",
       "      <td>HS-grad</td>\n",
       "      <td>9.0</td>\n",
       "    </tr>\n",
       "    <tr>\n",
       "      <th>38</th>\n",
       "      <td>HS-grad</td>\n",
       "      <td>9.0</td>\n",
       "    </tr>\n",
       "    <tr>\n",
       "      <th>39</th>\n",
       "      <td>9th</td>\n",
       "      <td>5.0</td>\n",
       "    </tr>\n",
       "    <tr>\n",
       "      <th>40</th>\n",
       "      <td>Bachelors</td>\n",
       "      <td>13.0</td>\n",
       "    </tr>\n",
       "    <tr>\n",
       "      <th>41</th>\n",
       "      <td>1st-4th</td>\n",
       "      <td>2.0</td>\n",
       "    </tr>\n",
       "    <tr>\n",
       "      <th>42</th>\n",
       "      <td>Some-college</td>\n",
       "      <td>10.0</td>\n",
       "    </tr>\n",
       "    <tr>\n",
       "      <th>43</th>\n",
       "      <td>HS-grad</td>\n",
       "      <td>9.0</td>\n",
       "    </tr>\n",
       "    <tr>\n",
       "      <th>44</th>\n",
       "      <td>11th</td>\n",
       "      <td>7.0</td>\n",
       "    </tr>\n",
       "    <tr>\n",
       "      <th>45</th>\n",
       "      <td>Some-college</td>\n",
       "      <td>10.0</td>\n",
       "    </tr>\n",
       "    <tr>\n",
       "      <th>46</th>\n",
       "      <td>HS-grad</td>\n",
       "      <td>9.0</td>\n",
       "    </tr>\n",
       "    <tr>\n",
       "      <th>47</th>\n",
       "      <td>Some-college</td>\n",
       "      <td>10.0</td>\n",
       "    </tr>\n",
       "    <tr>\n",
       "      <th>48</th>\n",
       "      <td>HS-grad</td>\n",
       "      <td>9.0</td>\n",
       "    </tr>\n",
       "    <tr>\n",
       "      <th>49</th>\n",
       "      <td>Some-college</td>\n",
       "      <td>10.0</td>\n",
       "    </tr>\n",
       "  </tbody>\n",
       "</table>\n",
       "</div>"
      ],
      "text/plain": [
       "   education_level  education-num\n",
       "0          Masters           14.0\n",
       "1       Assoc-acdm           12.0\n",
       "2        Doctorate           16.0\n",
       "3          HS-grad            9.0\n",
       "4     Some-college           10.0\n",
       "5     Some-college           10.0\n",
       "6     Some-college           10.0\n",
       "7          HS-grad            9.0\n",
       "8          Masters           14.0\n",
       "9     Some-college           10.0\n",
       "10    Some-college           10.0\n",
       "11       Bachelors           13.0\n",
       "12         HS-grad            9.0\n",
       "13         HS-grad            9.0\n",
       "14         HS-grad            9.0\n",
       "15    Some-college           10.0\n",
       "16    Some-college           10.0\n",
       "17    Some-college           10.0\n",
       "18         HS-grad            9.0\n",
       "19            10th            6.0\n",
       "20         HS-grad            9.0\n",
       "21       Bachelors           13.0\n",
       "22     Prof-school           15.0\n",
       "23         HS-grad            9.0\n",
       "24         HS-grad            9.0\n",
       "25         HS-grad            9.0\n",
       "26    Some-college           10.0\n",
       "27         HS-grad            9.0\n",
       "28         7th-8th            4.0\n",
       "29         HS-grad            9.0\n",
       "30      Assoc-acdm           12.0\n",
       "31    Some-college           10.0\n",
       "32         HS-grad            9.0\n",
       "33       Bachelors           13.0\n",
       "34         HS-grad            9.0\n",
       "35       Bachelors           13.0\n",
       "36    Some-college           10.0\n",
       "37         HS-grad            9.0\n",
       "38         HS-grad            9.0\n",
       "39             9th            5.0\n",
       "40       Bachelors           13.0\n",
       "41         1st-4th            2.0\n",
       "42    Some-college           10.0\n",
       "43         HS-grad            9.0\n",
       "44            11th            7.0\n",
       "45    Some-college           10.0\n",
       "46         HS-grad            9.0\n",
       "47    Some-college           10.0\n",
       "48         HS-grad            9.0\n",
       "49    Some-college           10.0"
      ]
     },
     "execution_count": 14,
     "metadata": {},
     "output_type": "execute_result"
    }
   ],
   "source": [
    "data[['education_level', 'education-num']].head(50)"
   ]
  },
  {
   "cell_type": "markdown",
   "metadata": {
    "colab_type": "text",
    "id": "CJQv1ooFUgY7"
   },
   "source": [
    "Efectivamente vemos que education_level y education-num representan los mismos datos. \n",
    "\n",
    "Por lo tanto eliminamos education_level del dataset"
   ]
  },
  {
   "cell_type": "code",
   "execution_count": 15,
   "metadata": {
    "colab": {
     "base_uri": "https://localhost:8080/",
     "height": 206
    },
    "colab_type": "code",
    "executionInfo": {
     "elapsed": 5397,
     "status": "ok",
     "timestamp": 1559897531829,
     "user": {
      "displayName": "Ivan Rubio",
      "photoUrl": "https://lh5.googleusercontent.com/-Y6n9p9UJ3EY/AAAAAAAAAAI/AAAAAAAAGjU/r4Jw_7ETkrQ/s64/photo.jpg",
      "userId": "12955993600759968137"
     },
     "user_tz": -120
    },
    "id": "ziCKE0RtUgY9",
    "outputId": "5471685b-af47-4527-aaca-757161138bbd"
   },
   "outputs": [
    {
     "data": {
      "text/html": [
       "<div>\n",
       "<style scoped>\n",
       "    .dataframe tbody tr th:only-of-type {\n",
       "        vertical-align: middle;\n",
       "    }\n",
       "\n",
       "    .dataframe tbody tr th {\n",
       "        vertical-align: top;\n",
       "    }\n",
       "\n",
       "    .dataframe thead th {\n",
       "        text-align: right;\n",
       "    }\n",
       "</style>\n",
       "<table border=\"1\" class=\"dataframe\">\n",
       "  <thead>\n",
       "    <tr style=\"text-align: right;\">\n",
       "      <th></th>\n",
       "      <th>age</th>\n",
       "      <th>workclass</th>\n",
       "      <th>education-num</th>\n",
       "      <th>marital-status</th>\n",
       "      <th>occupation</th>\n",
       "      <th>relationship</th>\n",
       "      <th>race</th>\n",
       "      <th>sex</th>\n",
       "      <th>capital-gain</th>\n",
       "      <th>capital-loss</th>\n",
       "      <th>hours-per-week</th>\n",
       "      <th>native-country</th>\n",
       "      <th>income</th>\n",
       "    </tr>\n",
       "  </thead>\n",
       "  <tbody>\n",
       "    <tr>\n",
       "      <th>0</th>\n",
       "      <td>49</td>\n",
       "      <td>Private</td>\n",
       "      <td>14.0</td>\n",
       "      <td>Divorced</td>\n",
       "      <td>Sales</td>\n",
       "      <td>Unmarried</td>\n",
       "      <td>Other</td>\n",
       "      <td>Female</td>\n",
       "      <td>0.0</td>\n",
       "      <td>0.0</td>\n",
       "      <td>20.0</td>\n",
       "      <td>Peru</td>\n",
       "      <td>&lt;=50K</td>\n",
       "    </tr>\n",
       "    <tr>\n",
       "      <th>1</th>\n",
       "      <td>43</td>\n",
       "      <td>Private</td>\n",
       "      <td>12.0</td>\n",
       "      <td>Divorced</td>\n",
       "      <td>Craft-repair</td>\n",
       "      <td>Not-in-family</td>\n",
       "      <td>White</td>\n",
       "      <td>Male</td>\n",
       "      <td>0.0</td>\n",
       "      <td>0.0</td>\n",
       "      <td>40.0</td>\n",
       "      <td>United-States</td>\n",
       "      <td>&lt;=50K</td>\n",
       "    </tr>\n",
       "    <tr>\n",
       "      <th>2</th>\n",
       "      <td>53</td>\n",
       "      <td>Private</td>\n",
       "      <td>16.0</td>\n",
       "      <td>Married-civ-spouse</td>\n",
       "      <td>Prof-specialty</td>\n",
       "      <td>Wife</td>\n",
       "      <td>White</td>\n",
       "      <td>Female</td>\n",
       "      <td>99999.0</td>\n",
       "      <td>0.0</td>\n",
       "      <td>37.0</td>\n",
       "      <td>United-States</td>\n",
       "      <td>&gt;50K</td>\n",
       "    </tr>\n",
       "    <tr>\n",
       "      <th>3</th>\n",
       "      <td>23</td>\n",
       "      <td>Private</td>\n",
       "      <td>9.0</td>\n",
       "      <td>Married-civ-spouse</td>\n",
       "      <td>Adm-clerical</td>\n",
       "      <td>Wife</td>\n",
       "      <td>White</td>\n",
       "      <td>Female</td>\n",
       "      <td>3908.0</td>\n",
       "      <td>0.0</td>\n",
       "      <td>40.0</td>\n",
       "      <td>United-States</td>\n",
       "      <td>&lt;=50K</td>\n",
       "    </tr>\n",
       "    <tr>\n",
       "      <th>4</th>\n",
       "      <td>32</td>\n",
       "      <td>Private</td>\n",
       "      <td>10.0</td>\n",
       "      <td>Divorced</td>\n",
       "      <td>Handlers-cleaners</td>\n",
       "      <td>Unmarried</td>\n",
       "      <td>Black</td>\n",
       "      <td>Male</td>\n",
       "      <td>0.0</td>\n",
       "      <td>0.0</td>\n",
       "      <td>40.0</td>\n",
       "      <td>Nicaragua</td>\n",
       "      <td>&lt;=50K</td>\n",
       "    </tr>\n",
       "  </tbody>\n",
       "</table>\n",
       "</div>"
      ],
      "text/plain": [
       "   age workclass  education-num       marital-status          occupation  \\\n",
       "0   49   Private           14.0             Divorced               Sales   \n",
       "1   43   Private           12.0             Divorced        Craft-repair   \n",
       "2   53   Private           16.0   Married-civ-spouse      Prof-specialty   \n",
       "3   23   Private            9.0   Married-civ-spouse        Adm-clerical   \n",
       "4   32   Private           10.0             Divorced   Handlers-cleaners   \n",
       "\n",
       "     relationship    race      sex  capital-gain  capital-loss  \\\n",
       "0       Unmarried   Other   Female           0.0           0.0   \n",
       "1   Not-in-family   White     Male           0.0           0.0   \n",
       "2            Wife   White   Female       99999.0           0.0   \n",
       "3            Wife   White   Female        3908.0           0.0   \n",
       "4       Unmarried   Black     Male           0.0           0.0   \n",
       "\n",
       "   hours-per-week  native-country income  \n",
       "0            20.0            Peru  <=50K  \n",
       "1            40.0   United-States  <=50K  \n",
       "2            37.0   United-States   >50K  \n",
       "3            40.0   United-States  <=50K  \n",
       "4            40.0       Nicaragua  <=50K  "
      ]
     },
     "execution_count": 15,
     "metadata": {},
     "output_type": "execute_result"
    }
   ],
   "source": [
    "data = data.drop(['education_level'],axis=1)\n",
    "data.head()"
   ]
  },
  {
   "cell_type": "markdown",
   "metadata": {
    "colab_type": "text",
    "id": "tfX0_d3JUgZG"
   },
   "source": [
    "### Feature Engineering\n",
    "\n",
    "La variable objetivo la vamos a codificar. Cuando el valor sea <=50K podremos un 0 y cuando sea >50K sea 1"
   ]
  },
  {
   "cell_type": "code",
   "execution_count": 16,
   "metadata": {
    "colab": {
     "base_uri": "https://localhost:8080/",
     "height": 34
    },
    "colab_type": "code",
    "executionInfo": {
     "elapsed": 5381,
     "status": "ok",
     "timestamp": 1559897531830,
     "user": {
      "displayName": "Ivan Rubio",
      "photoUrl": "https://lh5.googleusercontent.com/-Y6n9p9UJ3EY/AAAAAAAAAAI/AAAAAAAAGjU/r4Jw_7ETkrQ/s64/photo.jpg",
      "userId": "12955993600759968137"
     },
     "user_tz": -120
    },
    "id": "484JUDn4UgZH",
    "outputId": "24243373-b450-48d6-97e6-f869a84ec2c7"
   },
   "outputs": [
    {
     "data": {
      "text/plain": [
       "(array([0, 1]), array([27211,  8966]))"
      ]
     },
     "execution_count": 16,
     "metadata": {},
     "output_type": "execute_result"
    }
   ],
   "source": [
    "data['income'] = np.where(data['income'] == '<=50K',0,1)\n",
    "np.unique(data['income'], return_counts=True) # comprovamos que la conversión se ha hecho bien"
   ]
  },
  {
   "cell_type": "code",
   "execution_count": 17,
   "metadata": {
    "colab": {
     "base_uri": "https://localhost:8080/",
     "height": 69
    },
    "colab_type": "code",
    "executionInfo": {
     "elapsed": 5365,
     "status": "ok",
     "timestamp": 1559897531834,
     "user": {
      "displayName": "Ivan Rubio",
      "photoUrl": "https://lh5.googleusercontent.com/-Y6n9p9UJ3EY/AAAAAAAAAAI/AAAAAAAAGjU/r4Jw_7ETkrQ/s64/photo.jpg",
      "userId": "12955993600759968137"
     },
     "user_tz": -120
    },
    "id": "mskFZ9xpUgZN",
    "outputId": "aa5869b4-905d-4589-880c-d8a3952e6ec3"
   },
   "outputs": [
    {
     "data": {
      "text/plain": [
       "Index(['workclass', 'marital-status', 'occupation', 'relationship', 'race',\n",
       "       'sex', 'native-country'],\n",
       "      dtype='object')"
      ]
     },
     "execution_count": 17,
     "metadata": {},
     "output_type": "execute_result"
    }
   ],
   "source": [
    "cols = data.columns[data.dtypes == 'object']\n",
    "cols"
   ]
  },
  {
   "cell_type": "markdown",
   "metadata": {
    "colab_type": "text",
    "id": "3hgAi3oCUgZT"
   },
   "source": [
    "Vamos a estudiar los valores de las variables categóricas"
   ]
  },
  {
   "cell_type": "code",
   "execution_count": 18,
   "metadata": {
    "colab": {
     "base_uri": "https://localhost:8080/",
     "height": 1563
    },
    "colab_type": "code",
    "executionInfo": {
     "elapsed": 5346,
     "status": "ok",
     "timestamp": 1559897531835,
     "user": {
      "displayName": "Ivan Rubio",
      "photoUrl": "https://lh5.googleusercontent.com/-Y6n9p9UJ3EY/AAAAAAAAAAI/AAAAAAAAGjU/r4Jw_7ETkrQ/s64/photo.jpg",
      "userId": "12955993600759968137"
     },
     "user_tz": -120
    },
    "id": "-mWjmJKoUgZV",
    "outputId": "80ce8320-87c2-4a7a-b127-029c3be373b8"
   },
   "outputs": [
    {
     "name": "stdout",
     "output_type": "stream",
     "text": [
      " Private             26572\n",
      " Self-emp-not-inc     3063\n",
      " Local-gov            2479\n",
      " State-gov            1576\n",
      " Self-emp-inc         1313\n",
      " Federal-gov          1156\n",
      " Without-pay            18\n",
      "Name: workclass, dtype: int64\n",
      " Married-civ-spouse       16872\n",
      " Never-married            11683\n",
      " Divorced                  5059\n",
      " Separated                 1098\n",
      " Widowed                   1002\n",
      " Married-spouse-absent      442\n",
      " Married-AF-spouse           21\n",
      "Name: marital-status, dtype: int64\n",
      " Prof-specialty       4839\n",
      " Craft-repair         4828\n",
      " Exec-managerial      4748\n",
      " Adm-clerical         4461\n",
      " Sales                4312\n",
      " Other-service        3810\n",
      " Machine-op-inspct    2403\n",
      " Transport-moving     1840\n",
      " Handlers-cleaners    1634\n",
      " Farming-fishing      1187\n",
      " Tech-support         1137\n",
      " Protective-serv       782\n",
      " Priv-house-serv       188\n",
      " Armed-Forces            8\n",
      "Name: occupation, dtype: int64\n",
      " Husband           14984\n",
      " Not-in-family      9357\n",
      " Own-child          5299\n",
      " Unmarried          3812\n",
      " Wife               1668\n",
      " Other-relative     1057\n",
      "Name: relationship, dtype: int64\n",
      " White                 31148\n",
      " Black                  3361\n",
      " Asian-Pac-Islander     1050\n",
      " Amer-Indian-Eskimo      340\n",
      " Other                   278\n",
      "Name: race, dtype: int64\n",
      " Male      24495\n",
      " Female    11682\n",
      "Name: sex, dtype: int64\n",
      " United-States                 33032\n",
      " Mexico                          726\n",
      " Philippines                     218\n",
      " Germany                         154\n",
      " Puerto-Rico                     141\n",
      " El-Salvador                     126\n",
      " Canada                          125\n",
      " India                           119\n",
      " Cuba                            105\n",
      " England                          99\n",
      " Jamaica                          88\n",
      " China                            88\n",
      " South                            85\n",
      " Italy                            78\n",
      " Dominican-Republic               73\n",
      " Japan                            73\n",
      " Guatemala                        67\n",
      " Columbia                         66\n",
      " Vietnam                          66\n",
      " Poland                           59\n",
      " Portugal                         52\n",
      " Haiti                            46\n",
      " Nicaragua                        45\n",
      " Iran                             45\n",
      " Taiwan                           41\n",
      " Greece                           39\n",
      " Peru                             37\n",
      " Ecuador                          34\n",
      " France                           29\n",
      " Ireland                          28\n",
      " Thailand                         25\n",
      " Cambodia                         23\n",
      " Hong                             22\n",
      " Trinadad&Tobago                  21\n",
      " Yugoslavia                       20\n",
      " Outlying-US(Guam-USVI-etc)       18\n",
      " Honduras                         17\n",
      " Scotland                         16\n",
      " Hungary                          15\n",
      " Laos                             15\n",
      " Holand-Netherlands                1\n",
      "Name: native-country, dtype: int64\n"
     ]
    }
   ],
   "source": [
    "for col in cols:\n",
    "    print(data[col].value_counts())"
   ]
  },
  {
   "cell_type": "markdown",
   "metadata": {
    "colab_type": "text",
    "id": "pUwMOUdtUgZd"
   },
   "source": [
    "**workclass** La mayoría de valores son de trabajadores por cuenta ajena. Creo que se podrían juntar por un lado los funcionarios (*-gov) y por otro lado los autónomos (self-emp*). Los desempleados son una muestra tan pequeña que quizá se pudan eliminar\n",
    "\n",
    "**native-country** La mayoría de muestras corresponden a Estados Unidos. Seguramente sea aconsejable agrupar todos los valores que no son Estados Unidos en un solo valor. \n",
    "\n",
    "**race** Pasa parecido al pais. Casi todas las muestras son de raza blanca. Seguramente es aconsejable agrupar las muestras que no son raza blanca en un solo valor."
   ]
  },
  {
   "cell_type": "code",
   "execution_count": 19,
   "metadata": {
    "colab": {
     "base_uri": "https://localhost:8080/",
     "height": 191
    },
    "colab_type": "code",
    "executionInfo": {
     "elapsed": 5736,
     "status": "ok",
     "timestamp": 1559897532244,
     "user": {
      "displayName": "Ivan Rubio",
      "photoUrl": "https://lh5.googleusercontent.com/-Y6n9p9UJ3EY/AAAAAAAAAAI/AAAAAAAAGjU/r4Jw_7ETkrQ/s64/photo.jpg",
      "userId": "12955993600759968137"
     },
     "user_tz": -120
    },
    "id": "XSsp-HhYUgZe",
    "outputId": "0589f498-8221-43da-d487-b4c87ad7f7b5"
   },
   "outputs": [
    {
     "data": {
      "text/plain": [
       "'\\ndata.loc[data.workclass.str.contains(\"gov\"), \\'workclass\\'] = \\'Government\\'\\ndata.loc[data.workclass.str.contains(\"Self\"), \\'workclass\\'] = \\'Self\\'\\ndata = data[~data.workclass.str.contains(\\'Without-pay\\')]\\nprint(data[\\'workclass\\'].value_counts())\\n\\n#race\\ndata.loc[~data.race.str.contains(\"White\"), \\'race\\'] = \\'non-White\\'\\nprint(data[\\'race\\'].value_counts())\\n\\n#native-country\\ndata.loc[~data[\\'native-country\\'].str.contains(\"United-States\"), \\'native-country\\'] = \\'non-United-States\\'\\nprint(data[\\'native-country\\'].value_counts())'"
      ]
     },
     "execution_count": 19,
     "metadata": {},
     "output_type": "execute_result"
    }
   ],
   "source": [
    "#workclass\n",
    "'''\n",
    "data.loc[data.workclass.str.contains(\"gov\"), 'workclass'] = 'Government'\n",
    "data.loc[data.workclass.str.contains(\"Self\"), 'workclass'] = 'Self'\n",
    "data = data[~data.workclass.str.contains('Without-pay')]\n",
    "print(data['workclass'].value_counts())\n",
    "\n",
    "#race\n",
    "data.loc[~data.race.str.contains(\"White\"), 'race'] = 'non-White'\n",
    "print(data['race'].value_counts())\n",
    "\n",
    "#native-country\n",
    "data.loc[~data['native-country'].str.contains(\"United-States\"), 'native-country'] = 'non-United-States'\n",
    "print(data['native-country'].value_counts())'''"
   ]
  },
  {
   "cell_type": "markdown",
   "metadata": {},
   "source": [
    "Mantengo los datos como vienen en el dataset. Con las tranformaciones obtengo modelos algo peores. Así que mantengo los valores como vienen de origen "
   ]
  },
  {
   "cell_type": "markdown",
   "metadata": {
    "colab_type": "text",
    "id": "KlIG-Xv_UgZj"
   },
   "source": [
    "~~Como los datos no pertenecen a una serie temporal, vamos a codificar las variables categóricas de dos valores con LabelEncoder. Las de mas valores vamos a codificarlas con get_dummies~~\n",
    "\n",
    "Al final codifico todas las variables categóricas con LabelEncoder. Así obtengo mejores resultados."
   ]
  },
  {
   "cell_type": "code",
   "execution_count": 20,
   "metadata": {
    "colab": {},
    "colab_type": "code",
    "id": "S3t5kNhEUgZk"
   },
   "outputs": [],
   "source": [
    "le = LabelEncoder()\n",
    "\n",
    "cols_bin = ['race', 'sex', 'native-country', 'workclass', 'marital-status', 'occupation', 'relationship']\n",
    "\n",
    "for col in cols_bin:\n",
    "    data[col] = le.fit_transform(data[col])\n",
    "\n"
   ]
  },
  {
   "cell_type": "code",
   "execution_count": 21,
   "metadata": {
    "colab": {
     "base_uri": "https://localhost:8080/",
     "height": 261
    },
    "colab_type": "code",
    "executionInfo": {
     "elapsed": 5728,
     "status": "ok",
     "timestamp": 1559897532256,
     "user": {
      "displayName": "Ivan Rubio",
      "photoUrl": "https://lh5.googleusercontent.com/-Y6n9p9UJ3EY/AAAAAAAAAAI/AAAAAAAAGjU/r4Jw_7ETkrQ/s64/photo.jpg",
      "userId": "12955993600759968137"
     },
     "user_tz": -120
    },
    "id": "bP1MvusLUgZo",
    "outputId": "beed7e78-c976-446c-de12-7794cdc5c68e"
   },
   "outputs": [
    {
     "data": {
      "text/plain": [
       "\"\\ncols = ['workclass', 'marital-status', 'occupation', 'relationship']\\n\\nfor col in cols:\\n    dummy = pd.get_dummies(data[col])\\n    data = pd.concat([data,dummy],axis=1).drop([col],axis=1)\\n\\n\\ndata.head()\""
      ]
     },
     "execution_count": 21,
     "metadata": {},
     "output_type": "execute_result"
    }
   ],
   "source": [
    "'''\n",
    "cols = ['workclass', 'marital-status', 'occupation', 'relationship']\n",
    "\n",
    "for col in cols:\n",
    "    dummy = pd.get_dummies(data[col])\n",
    "    data = pd.concat([data,dummy],axis=1).drop([col],axis=1)\n",
    "\n",
    "\n",
    "data.head()'''"
   ]
  },
  {
   "cell_type": "code",
   "execution_count": 22,
   "metadata": {
    "colab": {
     "base_uri": "https://localhost:8080/",
     "height": 1273
    },
    "colab_type": "code",
    "executionInfo": {
     "elapsed": 5710,
     "status": "ok",
     "timestamp": 1559897532258,
     "user": {
      "displayName": "Ivan Rubio",
      "photoUrl": "https://lh5.googleusercontent.com/-Y6n9p9UJ3EY/AAAAAAAAAAI/AAAAAAAAGjU/r4Jw_7ETkrQ/s64/photo.jpg",
      "userId": "12955993600759968137"
     },
     "user_tz": -120
    },
    "id": "IB8x6NUIUgZt",
    "outputId": "e5755868-2c7f-499b-d047-60ef68d480a5"
   },
   "outputs": [
    {
     "data": {
      "text/html": [
       "<div>\n",
       "<style scoped>\n",
       "    .dataframe tbody tr th:only-of-type {\n",
       "        vertical-align: middle;\n",
       "    }\n",
       "\n",
       "    .dataframe tbody tr th {\n",
       "        vertical-align: top;\n",
       "    }\n",
       "\n",
       "    .dataframe thead th {\n",
       "        text-align: right;\n",
       "    }\n",
       "</style>\n",
       "<table border=\"1\" class=\"dataframe\">\n",
       "  <thead>\n",
       "    <tr style=\"text-align: right;\">\n",
       "      <th></th>\n",
       "      <th>count</th>\n",
       "      <th>mean</th>\n",
       "      <th>std</th>\n",
       "      <th>min</th>\n",
       "      <th>25%</th>\n",
       "      <th>50%</th>\n",
       "      <th>75%</th>\n",
       "      <th>max</th>\n",
       "    </tr>\n",
       "  </thead>\n",
       "  <tbody>\n",
       "    <tr>\n",
       "      <th>age</th>\n",
       "      <td>36177.0</td>\n",
       "      <td>38.598751</td>\n",
       "      <td>13.229011</td>\n",
       "      <td>17.0</td>\n",
       "      <td>28.0</td>\n",
       "      <td>37.0</td>\n",
       "      <td>47.0</td>\n",
       "      <td>90.0</td>\n",
       "    </tr>\n",
       "    <tr>\n",
       "      <th>workclass</th>\n",
       "      <td>36177.0</td>\n",
       "      <td>2.205877</td>\n",
       "      <td>0.963834</td>\n",
       "      <td>0.0</td>\n",
       "      <td>2.0</td>\n",
       "      <td>2.0</td>\n",
       "      <td>2.0</td>\n",
       "      <td>6.0</td>\n",
       "    </tr>\n",
       "    <tr>\n",
       "      <th>education-num</th>\n",
       "      <td>36177.0</td>\n",
       "      <td>10.113663</td>\n",
       "      <td>2.553911</td>\n",
       "      <td>1.0</td>\n",
       "      <td>9.0</td>\n",
       "      <td>10.0</td>\n",
       "      <td>13.0</td>\n",
       "      <td>16.0</td>\n",
       "    </tr>\n",
       "    <tr>\n",
       "      <th>marital-status</th>\n",
       "      <td>36177.0</td>\n",
       "      <td>2.579678</td>\n",
       "      <td>1.498088</td>\n",
       "      <td>0.0</td>\n",
       "      <td>2.0</td>\n",
       "      <td>2.0</td>\n",
       "      <td>4.0</td>\n",
       "      <td>6.0</td>\n",
       "    </tr>\n",
       "    <tr>\n",
       "      <th>occupation</th>\n",
       "      <td>36177.0</td>\n",
       "      <td>5.964701</td>\n",
       "      <td>4.026909</td>\n",
       "      <td>0.0</td>\n",
       "      <td>2.0</td>\n",
       "      <td>6.0</td>\n",
       "      <td>9.0</td>\n",
       "      <td>13.0</td>\n",
       "    </tr>\n",
       "    <tr>\n",
       "      <th>relationship</th>\n",
       "      <td>36177.0</td>\n",
       "      <td>1.408519</td>\n",
       "      <td>1.596411</td>\n",
       "      <td>0.0</td>\n",
       "      <td>0.0</td>\n",
       "      <td>1.0</td>\n",
       "      <td>3.0</td>\n",
       "      <td>5.0</td>\n",
       "    </tr>\n",
       "    <tr>\n",
       "      <th>race</th>\n",
       "      <td>36177.0</td>\n",
       "      <td>3.681842</td>\n",
       "      <td>0.830472</td>\n",
       "      <td>0.0</td>\n",
       "      <td>4.0</td>\n",
       "      <td>4.0</td>\n",
       "      <td>4.0</td>\n",
       "      <td>4.0</td>\n",
       "    </tr>\n",
       "    <tr>\n",
       "      <th>sex</th>\n",
       "      <td>36177.0</td>\n",
       "      <td>0.677088</td>\n",
       "      <td>0.467596</td>\n",
       "      <td>0.0</td>\n",
       "      <td>0.0</td>\n",
       "      <td>1.0</td>\n",
       "      <td>1.0</td>\n",
       "      <td>1.0</td>\n",
       "    </tr>\n",
       "    <tr>\n",
       "      <th>capital-gain</th>\n",
       "      <td>36177.0</td>\n",
       "      <td>1088.861735</td>\n",
       "      <td>7506.099972</td>\n",
       "      <td>0.0</td>\n",
       "      <td>0.0</td>\n",
       "      <td>0.0</td>\n",
       "      <td>0.0</td>\n",
       "      <td>99999.0</td>\n",
       "    </tr>\n",
       "    <tr>\n",
       "      <th>capital-loss</th>\n",
       "      <td>36177.0</td>\n",
       "      <td>88.133206</td>\n",
       "      <td>404.279205</td>\n",
       "      <td>0.0</td>\n",
       "      <td>0.0</td>\n",
       "      <td>0.0</td>\n",
       "      <td>0.0</td>\n",
       "      <td>4356.0</td>\n",
       "    </tr>\n",
       "    <tr>\n",
       "      <th>hours-per-week</th>\n",
       "      <td>36177.0</td>\n",
       "      <td>40.881582</td>\n",
       "      <td>11.981588</td>\n",
       "      <td>1.0</td>\n",
       "      <td>40.0</td>\n",
       "      <td>40.0</td>\n",
       "      <td>45.0</td>\n",
       "      <td>99.0</td>\n",
       "    </tr>\n",
       "    <tr>\n",
       "      <th>native-country</th>\n",
       "      <td>36177.0</td>\n",
       "      <td>36.404843</td>\n",
       "      <td>6.066464</td>\n",
       "      <td>0.0</td>\n",
       "      <td>38.0</td>\n",
       "      <td>38.0</td>\n",
       "      <td>38.0</td>\n",
       "      <td>40.0</td>\n",
       "    </tr>\n",
       "    <tr>\n",
       "      <th>income</th>\n",
       "      <td>36177.0</td>\n",
       "      <td>0.247837</td>\n",
       "      <td>0.431763</td>\n",
       "      <td>0.0</td>\n",
       "      <td>0.0</td>\n",
       "      <td>0.0</td>\n",
       "      <td>0.0</td>\n",
       "      <td>1.0</td>\n",
       "    </tr>\n",
       "  </tbody>\n",
       "</table>\n",
       "</div>"
      ],
      "text/plain": [
       "                  count         mean          std   min   25%   50%   75%  \\\n",
       "age             36177.0    38.598751    13.229011  17.0  28.0  37.0  47.0   \n",
       "workclass       36177.0     2.205877     0.963834   0.0   2.0   2.0   2.0   \n",
       "education-num   36177.0    10.113663     2.553911   1.0   9.0  10.0  13.0   \n",
       "marital-status  36177.0     2.579678     1.498088   0.0   2.0   2.0   4.0   \n",
       "occupation      36177.0     5.964701     4.026909   0.0   2.0   6.0   9.0   \n",
       "relationship    36177.0     1.408519     1.596411   0.0   0.0   1.0   3.0   \n",
       "race            36177.0     3.681842     0.830472   0.0   4.0   4.0   4.0   \n",
       "sex             36177.0     0.677088     0.467596   0.0   0.0   1.0   1.0   \n",
       "capital-gain    36177.0  1088.861735  7506.099972   0.0   0.0   0.0   0.0   \n",
       "capital-loss    36177.0    88.133206   404.279205   0.0   0.0   0.0   0.0   \n",
       "hours-per-week  36177.0    40.881582    11.981588   1.0  40.0  40.0  45.0   \n",
       "native-country  36177.0    36.404843     6.066464   0.0  38.0  38.0  38.0   \n",
       "income          36177.0     0.247837     0.431763   0.0   0.0   0.0   0.0   \n",
       "\n",
       "                    max  \n",
       "age                90.0  \n",
       "workclass           6.0  \n",
       "education-num      16.0  \n",
       "marital-status      6.0  \n",
       "occupation         13.0  \n",
       "relationship        5.0  \n",
       "race                4.0  \n",
       "sex                 1.0  \n",
       "capital-gain    99999.0  \n",
       "capital-loss     4356.0  \n",
       "hours-per-week     99.0  \n",
       "native-country     40.0  \n",
       "income              1.0  "
      ]
     },
     "execution_count": 22,
     "metadata": {},
     "output_type": "execute_result"
    }
   ],
   "source": [
    "data.describe().T"
   ]
  },
  {
   "cell_type": "markdown",
   "metadata": {
    "colab_type": "text",
    "id": "T5zdxIIeUgZ0"
   },
   "source": [
    "#### Pintamos histogramas para cada clase"
   ]
  },
  {
   "cell_type": "code",
   "execution_count": 23,
   "metadata": {
    "colab": {
     "base_uri": "https://localhost:8080/",
     "height": 1151
    },
    "colab_type": "code",
    "executionInfo": {
     "elapsed": 18093,
     "status": "ok",
     "timestamp": 1559897544660,
     "user": {
      "displayName": "Ivan Rubio",
      "photoUrl": "https://lh5.googleusercontent.com/-Y6n9p9UJ3EY/AAAAAAAAAAI/AAAAAAAAGjU/r4Jw_7ETkrQ/s64/photo.jpg",
      "userId": "12955993600759968137"
     },
     "user_tz": -120
    },
    "id": "BDBAh3oOUgZ7",
    "outputId": "6fa533a7-df36-4684-fd76-e5caf17ac590"
   },
   "outputs": [
    {
     "data": {
      "image/png": "[encoded data removed]",
      "text/plain": [
       "<Figure size 1440x1440 with 12 Axes>"
      ]
     },
     "metadata": {
      "needs_background": "light"
     },
     "output_type": "display_data"
    }
   ],
   "source": [
    "# Pintamos histogramas para cada clase\n",
    "plt.figure(figsize=(20,20))\n",
    "\n",
    "idx_0 =  data['income'] == 0\n",
    "idx_1 =  data['income'] == 1\n",
    "\n",
    "# your code here\n",
    "for i,feature in enumerate(data.columns.drop(['income'])):\n",
    "    plt.subplot(4,4,i+1)   \n",
    "    plt.hist(data.ix[idx_0,feature],density=0, bins = 20, alpha=0.75,label='y=0')\n",
    "    plt.hist(data.ix[idx_1,feature],density=0, bins= 20, facecolor='red', alpha=0.75,label='y=1')\n",
    "    plt.legend()\n",
    "    plt.title(feature)\n",
    "\n",
    "plt.show()"
   ]
  },
  {
   "cell_type": "markdown",
   "metadata": {
    "colab_type": "text",
    "id": "PXZ0STBMUgaA"
   },
   "source": [
    "### Correlación entre variables"
   ]
  },
  {
   "cell_type": "code",
   "execution_count": 24,
   "metadata": {
    "colab": {
     "base_uri": "https://localhost:8080/",
     "height": 703
    },
    "colab_type": "code",
    "executionInfo": {
     "elapsed": 19311,
     "status": "ok",
     "timestamp": 1559897545895,
     "user": {
      "displayName": "Ivan Rubio",
      "photoUrl": "https://lh5.googleusercontent.com/-Y6n9p9UJ3EY/AAAAAAAAAAI/AAAAAAAAGjU/r4Jw_7ETkrQ/s64/photo.jpg",
      "userId": "12955993600759968137"
     },
     "user_tz": -120
    },
    "id": "oGSW7iNLUgaC",
    "outputId": "4b85cf55-7f67-40de-c100-ec99bda2fbfc"
   },
   "outputs": [
    {
     "data": {
      "image/png": "[encoded data removed]",
      "text/plain": [
       "<Figure size 864x720 with 2 Axes>"
      ]
     },
     "metadata": {
      "needs_background": "light"
     },
     "output_type": "display_data"
    }
   ],
   "source": [
    "import seaborn as sns\n",
    "\n",
    "# Compute the correlation matrix\n",
    "corr = np.abs(data.drop(['income'], axis=1).corr())\n",
    "\n",
    "# Generate a mask for the upper triangle\n",
    "mask = np.zeros_like(corr, dtype=np.bool)\n",
    "mask[np.triu_indices_from(mask)] = True\n",
    "\n",
    "# Set up the matplotlib figure\n",
    "f, ax = plt.subplots(figsize=(12, 10))\n",
    "\n",
    "# Draw the heatmap with the mask and correct aspect ratio\n",
    "sns.heatmap(corr, mask=mask,vmin = 0.0, vmax=1.0, center=0.5,\n",
    "            linewidths=.1, cmap=\"YlGnBu\", cbar_kws={\"shrink\": .8})\n",
    "\n",
    "plt.show()"
   ]
  },
  {
   "cell_type": "markdown",
   "metadata": {
    "colab_type": "text",
    "id": "Cr7J-ljQUgaJ"
   },
   "source": [
    "~~Vemos una gran correlación entre Married-civ-spouse y husband. Tiene bastante lógica. De eliminar una eliminaría Married-civ-spouse que parece que tiene bastante correlación también con Never-married. Por ahora conservo todas. ~~\n",
    "Veo algo de correlación entre relationship y sex, pero tampoco es muy alta, así que no hago nada con ninguna de las dos. "
   ]
  },
  {
   "cell_type": "code",
   "execution_count": 25,
   "metadata": {},
   "outputs": [],
   "source": [
    "#data = data.drop([' Married-civ-spouse'], axis = 1)"
   ]
  },
  {
   "cell_type": "markdown",
   "metadata": {
    "colab_type": "text",
    "id": "2wVeRJ-JUgaJ"
   },
   "source": [
    "### División de variables."
   ]
  },
  {
   "cell_type": "code",
   "execution_count": 26,
   "metadata": {
    "colab": {
     "base_uri": "https://localhost:8080/",
     "height": 86
    },
    "colab_type": "code",
    "executionInfo": {
     "elapsed": 19301,
     "status": "ok",
     "timestamp": 1559897545901,
     "user": {
      "displayName": "Ivan Rubio",
      "photoUrl": "https://lh5.googleusercontent.com/-Y6n9p9UJ3EY/AAAAAAAAAAI/AAAAAAAAGjU/r4Jw_7ETkrQ/s64/photo.jpg",
      "userId": "12955993600759968137"
     },
     "user_tz": -120
    },
    "id": "jHWy3EGcUgaM",
    "outputId": "e88abfb9-8fcb-4360-9230-dec140202593"
   },
   "outputs": [
    {
     "name": "stdout",
     "output_type": "stream",
     "text": [
      "Datos train:  (27132, 12)\n",
      "Datos test:   (9045, 12)\n",
      "Propocion train:0.248\n",
      "Propocion test: 0.248\n"
     ]
    }
   ],
   "source": [
    "# preparamos los datos\n",
    "features = data.columns.drop(['income'])\n",
    "X = data[features].values\n",
    "y = data['income'].values\n",
    "\n",
    "X_train, X_test, y_train, y_test = train_test_split(X, y, test_size = 0.25, stratify = y, random_state=0)\n",
    "\n",
    "scaler = StandardScaler().fit(X_train)\n",
    "X_train = scaler.transform(X_train)\n",
    "X_test  = scaler.transform(X_test)\n",
    "\n",
    "print('Datos train: ', X_train.shape)\n",
    "print('Datos test:  ', X_test.shape)\n",
    "\n",
    "print('Propocion train:%0.3f'%np.mean(y_train))\n",
    "print('Propocion test: %0.3f'%np.mean(y_test))"
   ]
  },
  {
   "cell_type": "markdown",
   "metadata": {
    "colab_type": "text",
    "id": "eyuJ7GwXjcHc"
   },
   "source": [
    "### Selección de características.\n",
    "\n",
    "Vamos a estudiar que variables son mas relevantes para la variable objetivo"
   ]
  },
  {
   "cell_type": "code",
   "execution_count": 27,
   "metadata": {
    "colab": {
     "base_uri": "https://localhost:8080/",
     "height": 458
    },
    "colab_type": "code",
    "executionInfo": {
     "elapsed": 30471,
     "status": "ok",
     "timestamp": 1559897557092,
     "user": {
      "displayName": "Ivan Rubio",
      "photoUrl": "https://lh5.googleusercontent.com/-Y6n9p9UJ3EY/AAAAAAAAAAI/AAAAAAAAGjU/r4Jw_7ETkrQ/s64/photo.jpg",
      "userId": "12955993600759968137"
     },
     "user_tz": -120
    },
    "id": "5-arbfZ6jzCI",
    "outputId": "4e9d598b-a3eb-4e0d-dbb3-62c839f2c8e9"
   },
   "outputs": [
    {
     "data": {
      "image/png": "[encoded data removed]",
      "text/plain": [
       "<Figure size 720x360 with 2 Axes>"
      ]
     },
     "metadata": {
      "needs_background": "light"
     },
     "output_type": "display_data"
    }
   ],
   "source": [
    "# do calculations\n",
    "f_test, _ = f_classif(X_train, y_train)\n",
    "f_test /= np.max(f_test)\n",
    "\n",
    "mi = mutual_info_classif(X_train, y_train)\n",
    "mi /= np.max(mi)\n",
    "\n",
    "# do some plotting\n",
    "plt.figure(figsize=(10, 5))\n",
    "\n",
    "plt.subplot(1,2,1)\n",
    "plt.bar(range(X.shape[1]),f_test,  align=\"center\")\n",
    "plt.xticks(range(X.shape[1]), features, rotation = 90)\n",
    "plt.xlabel('features')\n",
    "plt.ylabel('Ranking')\n",
    "plt.title('$F-test$ score')\n",
    "\n",
    "\n",
    "plt.subplot(1,2,2)\n",
    "plt.bar(range(X.shape[1]),mi,  align=\"center\")\n",
    "plt.xticks(range(X.shape[1]), features, rotation = 90)\n",
    "plt.xlabel('features')\n",
    "plt.ylabel('Ranking')\n",
    "plt.title('Mutual information score')\n",
    "\n",
    "plt.show()"
   ]
  },
  {
   "cell_type": "markdown",
   "metadata": {
    "colab_type": "text",
    "id": "2ubmG0U2k8h8"
   },
   "source": [
    "Vemos que hay algunas variables que no afectan mucho. Nos quedamos con las que tienen un valor superior a 0.5"
   ]
  },
  {
   "cell_type": "code",
   "execution_count": 28,
   "metadata": {
    "colab": {
     "base_uri": "https://localhost:8080/",
     "height": 124
    },
    "colab_type": "code",
    "executionInfo": {
     "elapsed": 30458,
     "status": "ok",
     "timestamp": 1559897557098,
     "user": {
      "displayName": "Ivan Rubio",
      "photoUrl": "https://lh5.googleusercontent.com/-Y6n9p9UJ3EY/AAAAAAAAAAI/AAAAAAAAGjU/r4Jw_7ETkrQ/s64/photo.jpg",
      "userId": "12955993600759968137"
     },
     "user_tz": -120
    },
    "id": "OI3UoP2elFaa",
    "outputId": "8e3a1003-0923-4d8f-a022-90a5449ab998"
   },
   "outputs": [
    {
     "name": "stdout",
     "output_type": "stream",
     "text": [
      "Caracteristicas seleccionadas ['age', 'education-num', 'marital-status', 'relationship', 'sex', 'capital-gain', 'capital-loss', 'hours-per-week', 'occupation', 'workclass', 'race', 'native-country']\n",
      "Datos train:  (27132, 12)\n",
      "Datos test:   (9045, 12)\n",
      "Propocion train:0.248\n",
      "Propocion test: 0.248\n"
     ]
    }
   ],
   "source": [
    "features_sel = features[f_test>.05].tolist() + list(set(features[mi > .05].tolist()) - set(features[f_test > .05].tolist()))\n",
    "\n",
    "print(\"Caracteristicas seleccionadas {}\".format(features_sel))\n",
    "\n",
    "X = data[features_sel].values\n",
    "y = data['income'].values\n",
    "\n",
    "X_train, X_test, y_train, y_test = train_test_split(X, y, test_size = 0.25, stratify = y, random_state=0)\n",
    "\n",
    "scaler = StandardScaler().fit(X_train)\n",
    "X_train = scaler.transform(X_train)\n",
    "X_test  = scaler.transform(X_test)\n",
    "\n",
    "print('Datos train: ', X_train.shape)\n",
    "print('Datos test:  ', X_test.shape)\n",
    "\n",
    "print('Propocion train:%0.3f'%np.mean(y_train))\n",
    "print('Propocion test: %0.3f'%np.mean(y_test))"
   ]
  },
  {
   "cell_type": "markdown",
   "metadata": {
    "colab_type": "text",
    "id": "qEEkMxyVUgaP"
   },
   "source": [
    "### Búsqueda del modelo óptimo\n",
    "\n",
    "Voy a probar distintos modelos de clasificación, empezando por los más sencillos y terminando con los más complejos. "
   ]
  },
  {
   "cell_type": "markdown",
   "metadata": {
    "colab_type": "text",
    "id": "-uSuzdCZUgaR"
   },
   "source": [
    "#### KNN"
   ]
  },
  {
   "cell_type": "code",
   "execution_count": 29,
   "metadata": {
    "colab": {
     "base_uri": "https://localhost:8080/",
     "height": 352
    },
    "colab_type": "code",
    "executionInfo": {
     "elapsed": 248088,
     "status": "ok",
     "timestamp": 1559581343155,
     "user": {
      "displayName": "Ivan Rubio",
      "photoUrl": "https://lh5.googleusercontent.com/-Y6n9p9UJ3EY/AAAAAAAAAAI/AAAAAAAAGjU/r4Jw_7ETkrQ/s64/photo.jpg",
      "userId": "12955993600759968137"
     },
     "user_tz": -120
    },
    "id": "PG4qCcmUUgaS",
    "outputId": "51a1445a-c701-495e-8fc7-8d6185b0c6cb"
   },
   "outputs": [
    {
     "name": "stdout",
     "output_type": "stream",
     "text": [
      "best mean cross-validation score: 0.836\n",
      "best parameters: {'n_neighbors': 14}\n"
     ]
    },
    {
     "data": {
      "image/png": "[encoded data removed]",
      "text/plain": [
       "<Figure size 432x288 with 1 Axes>"
      ]
     },
     "metadata": {
      "needs_background": "light"
     },
     "output_type": "display_data"
    },
    {
     "name": "stdout",
     "output_type": "stream",
     "text": [
      "acc (train): 0.86\n",
      "acc (test): 0.84\n"
     ]
    }
   ],
   "source": [
    "#vecinosIni = 1\n",
    "#vecinosFin = 16\n",
    "\n",
    "#vecinosIni = 10\n",
    "#vecinosFin = 30\n",
    "\n",
    "vecinosIni = 5\n",
    "vecinosFin = 15\n",
    "nVecinos = range(vecinosIni, vecinosFin, 1)\n",
    "\n",
    "param_grid = {'n_neighbors':  np.arange(vecinosIni, vecinosFin, 1)}\n",
    "\n",
    "grid = GridSearchCV(KNeighborsClassifier(), scoring= 'accuracy', param_grid=param_grid, cv = 10, n_jobs=8).fit(X_train, y_train)\n",
    "print(\"best mean cross-validation score: {:.3f}\".format(grid.best_score_))\n",
    "print(\"best parameters: {}\".format(grid.best_params_))\n",
    "\n",
    "scores = np.array(grid.cv_results_['mean_test_score']) \n",
    "stdvalues = np.array(grid.cv_results_['std_test_score'])\n",
    "plt.plot(nVecinos,scores,'-o')\n",
    "plt.errorbar(nVecinos, scores, yerr=stdvalues, ecolor='g')\n",
    "plt.xlabel('# vecinos')\n",
    "plt.ylabel('10-Fold ACC')\n",
    "plt.grid()\n",
    "plt.show()\n",
    "\n",
    "print(\"acc (train): {:.2f}\".format(grid.score(X_train, y_train)))\n",
    "print(\"acc (test): {:.2f}\".format(grid.score(X_test, y_test)))"
   ]
  },
  {
   "cell_type": "code",
   "execution_count": 30,
   "metadata": {
    "colab": {
     "base_uri": "https://localhost:8080/",
     "height": 576
    },
    "colab_type": "code",
    "executionInfo": {
     "elapsed": 3366,
     "status": "ok",
     "timestamp": 1559582375289,
     "user": {
      "displayName": "Ivan Rubio",
      "photoUrl": "https://lh5.googleusercontent.com/-Y6n9p9UJ3EY/AAAAAAAAAAI/AAAAAAAAGjU/r4Jw_7ETkrQ/s64/photo.jpg",
      "userId": "12955993600759968137"
     },
     "user_tz": -120
    },
    "id": "rnPqEr2KVm9s",
    "outputId": "3af757ca-1533-4bdb-e729-3b9d25a1fab5"
   },
   "outputs": [
    {
     "data": {
      "image/png": "[encoded data removed]",
      "text/plain": [
       "<Figure size 216x216 with 1 Axes>"
      ]
     },
     "metadata": {
      "needs_background": "light"
     },
     "output_type": "display_data"
    },
    {
     "name": "stdout",
     "output_type": "stream",
     "text": [
      "ACC:  0.8360420121614152\n",
      "SEN:  0.56021409455843\n",
      "ESP:  0.9269439952961929\n",
      "PPV:  0.7164860239589276\n",
      "FSC:  0.6287859824780976\n"
     ]
    },
    {
     "data": {
      "image/png": "[encoded data removed]",
      "text/plain": [
       "<Figure size 432x288 with 1 Axes>"
      ]
     },
     "metadata": {
      "needs_background": "light"
     },
     "output_type": "display_data"
    }
   ],
   "source": [
    "y_pred = grid.predict(X_test)\n",
    "\n",
    "confmatKNN_test = confusion_matrix(y_test, y_pred)\n",
    "plot_confusion_matrix(confmatKNN_test)\n",
    "calcula_metricas(confmatKNN_test)"
   ]
  },
  {
   "cell_type": "markdown",
   "metadata": {
    "colab_type": "text",
    "id": "XCh_d0gOch1F"
   },
   "source": [
    "Como podemos ver, pese a obtener un buen accuracy exactitud (0.85), el algoritmo no se comparta bien. La sensibilidad es algo baja. Probaremos ahora con regresión logistica\n"
   ]
  },
  {
   "cell_type": "markdown",
   "metadata": {
    "colab_type": "text",
    "id": "8SRADnV6u35a"
   },
   "source": [
    "#### Regresión logistica"
   ]
  },
  {
   "cell_type": "code",
   "execution_count": 31,
   "metadata": {
    "colab": {
     "base_uri": "https://localhost:8080/",
     "height": 358
    },
    "colab_type": "code",
    "executionInfo": {
     "elapsed": 56276,
     "status": "ok",
     "timestamp": 1559588465297,
     "user": {
      "displayName": "Ivan Rubio",
      "photoUrl": "https://lh5.googleusercontent.com/-Y6n9p9UJ3EY/AAAAAAAAAAI/AAAAAAAAGjU/r4Jw_7ETkrQ/s64/photo.jpg",
      "userId": "12955993600759968137"
     },
     "user_tz": -120
    },
    "id": "Ty-0_Qh_fHXX",
    "outputId": "e7717b40-a2e8-4566-c90f-9807abfd2c72"
   },
   "outputs": [
    {
     "name": "stdout",
     "output_type": "stream",
     "text": [
      "best mean cross-validation score: 0.767\n",
      "best parameters: {'C': 26.366508987303554}\n"
     ]
    },
    {
     "data": {
      "image/png": "[encoded data removed]",
      "text/plain": [
       "<Figure size 432x288 with 1 Axes>"
      ]
     },
     "metadata": {
      "needs_background": "light"
     },
     "output_type": "display_data"
    },
    {
     "name": "stdout",
     "output_type": "stream",
     "text": [
      "acc (train): 0.77\n",
      "acc (test): 0.76\n"
     ]
    }
   ],
   "source": [
    "#vectorC = np.logspace(-10, 2, 20)\n",
    "vectorC = np.logspace(-3, 3, 20)\n",
    "param_grid = {'C': vectorC}\n",
    "\n",
    "grid = GridSearchCV(LogisticRegression(class_weight = 'balanced', random_state = 0), scoring= 'accuracy', param_grid=param_grid, cv = 10, n_jobs=8)\n",
    "grid.fit(X_train, y_train)\n",
    "\n",
    "print(\"best mean cross-validation score: {:.3f}\".format(grid.best_score_))\n",
    "print(\"best parameters: {}\".format(grid.best_params_))\n",
    "\n",
    "scores = np.array(grid.cv_results_['mean_test_score'])\n",
    "plt.semilogx(vectorC,scores,'-o')\n",
    "plt.xlabel('C')\n",
    "plt.ylabel('10-Fold ACC')\n",
    "plt.show()\n",
    "\n",
    "print(\"acc (train): {:.2f}\".format(grid.score(X_train, y_train)))\n",
    "print(\"acc (test): {:.2f}\".format(grid.score(X_test, y_test)))"
   ]
  },
  {
   "cell_type": "code",
   "execution_count": 32,
   "metadata": {
    "colab": {
     "base_uri": "https://localhost:8080/",
     "height": 578
    },
    "colab_type": "code",
    "executionInfo": {
     "elapsed": 1386,
     "status": "ok",
     "timestamp": 1559588512691,
     "user": {
      "displayName": "Ivan Rubio",
      "photoUrl": "https://lh5.googleusercontent.com/-Y6n9p9UJ3EY/AAAAAAAAAAI/AAAAAAAAGjU/r4Jw_7ETkrQ/s64/photo.jpg",
      "userId": "12955993600759968137"
     },
     "user_tz": -120
    },
    "id": "crOaRULggH2I",
    "outputId": "529c138f-1368-4cab-8cae-71fd51c1b018"
   },
   "outputs": [
    {
     "data": {
      "image/png": "[encoded data removed]",
      "text/plain": [
       "<Figure size 216x216 with 1 Axes>"
      ]
     },
     "metadata": {
      "needs_background": "light"
     },
     "output_type": "display_data"
    },
    {
     "name": "stdout",
     "output_type": "stream",
     "text": [
      "ACC:  0.8086235489220563\n",
      "SEN:  0.5677966101694916\n",
      "ESP:  0.8879905923857122\n",
      "PPV:  0.6255528255528255\n",
      "FSC:  0.5952770633621697\n"
     ]
    },
    {
     "data": {
      "image/png": "[encoded data removed]",
      "text/plain": [
       "<Figure size 432x288 with 1 Axes>"
      ]
     },
     "metadata": {
      "needs_background": "light"
     },
     "output_type": "display_data"
    }
   ],
   "source": [
    "lr = LogisticRegression(fit_intercept=False, C =grid.best_params_['C']).fit(X_train, y_train)\n",
    "\n",
    "y_pred = lr.predict(X_test)\n",
    "\n",
    "confmatKNN_test = confusion_matrix(y_test, y_pred)\n",
    "plot_confusion_matrix(confmatKNN_test)\n",
    "calcula_metricas(confmatKNN_test)"
   ]
  },
  {
   "cell_type": "code",
   "execution_count": 33,
   "metadata": {
    "colab": {
     "base_uri": "https://localhost:8080/",
     "height": 283
    },
    "colab_type": "code",
    "executionInfo": {
     "elapsed": 831,
     "status": "ok",
     "timestamp": 1559588567824,
     "user": {
      "displayName": "Ivan Rubio",
      "photoUrl": "https://lh5.googleusercontent.com/-Y6n9p9UJ3EY/AAAAAAAAAAI/AAAAAAAAGjU/r4Jw_7ETkrQ/s64/photo.jpg",
      "userId": "12955993600759968137"
     },
     "user_tz": -120
    },
    "id": "G3gN-gh8uC8b",
    "outputId": "f39fae10-be76-412d-97cc-2030c90afb0c"
   },
   "outputs": [
    {
     "data": {
      "image/png": "[encoded data removed]",
      "text/plain": [
       "<Figure size 432x288 with 1 Axes>"
      ]
     },
     "metadata": {
      "needs_background": "light"
     },
     "output_type": "display_data"
    }
   ],
   "source": [
    "y_prob = lr.predict_proba(X_test)[:,1]\n",
    "\n",
    "ejex, ejey, _ = roc_curve(y_test, y_prob)\n",
    "roc_auc = auc(ejex, ejey)\n",
    "\n",
    "plt.figure()\n",
    "plt.plot(ejex, ejey, color='darkorange',lw=2, label='AUC = %0.2f' % roc_auc)\n",
    "\n",
    "plt.plot([0, 1], [0, 1], color=(0.6, 0.6, 0.6), linestyle='--')\n",
    "plt.plot([0, 0, 1],[0, 1, 1],lw=2, linestyle=':',color='black',label='Clasificador perfecto')\n",
    "\n",
    "plt.xlim([-0.05, 1.05])\n",
    "plt.ylim([-0.05, 1.05])\n",
    "\n",
    "plt.xlabel('FPR (1-ESP)')\n",
    "plt.ylabel('SEN')\n",
    "plt.legend(loc=\"lower right\")\n",
    "plt.show()"
   ]
  },
  {
   "cell_type": "markdown",
   "metadata": {
    "colab_type": "text",
    "id": "SFbeS2zSifH9"
   },
   "source": [
    "Observamos peores resultados que con KNN. Mas verdaderos positivos, pero también mas falsos positivos y falsos negativos. Verdaderos negativos también tenemos menos."
   ]
  },
  {
   "cell_type": "markdown",
   "metadata": {},
   "source": [
    "#### Arbol de decisión"
   ]
  },
  {
   "cell_type": "code",
   "execution_count": 34,
   "metadata": {
    "colab": {
     "base_uri": "https://localhost:8080/",
     "height": 355
    },
    "colab_type": "code",
    "executionInfo": {
     "elapsed": 14132,
     "status": "ok",
     "timestamp": 1559588696493,
     "user": {
      "displayName": "Ivan Rubio",
      "photoUrl": "https://lh5.googleusercontent.com/-Y6n9p9UJ3EY/AAAAAAAAAAI/AAAAAAAAGjU/r4Jw_7ETkrQ/s64/photo.jpg",
      "userId": "12955993600759968137"
     },
     "user_tz": -120
    },
    "id": "sd-HMWNJig39",
    "outputId": "4a69cfa2-ff9a-43b6-e7e1-5196cc996fee"
   },
   "outputs": [
    {
     "name": "stdout",
     "output_type": "stream",
     "text": [
      "best mean cross-validation score: 0.802\n",
      "best parameters: {'max_depth': 20.0}\n"
     ]
    },
    {
     "data": {
      "image/png": "[encoded data removed]",
      "text/plain": [
       "<Figure size 432x288 with 1 Axes>"
      ]
     },
     "metadata": {
      "needs_background": "light"
     },
     "output_type": "display_data"
    },
    {
     "name": "stdout",
     "output_type": "stream",
     "text": [
      "acc (train): 0.90\n",
      "acc (test): 0.81\n"
     ]
    }
   ],
   "source": [
    "max_depth = np.linspace(1,20,20)\n",
    "param_grid = {'max_depth': max_depth}\n",
    "\n",
    "grid = GridSearchCV(DecisionTreeClassifier(class_weight = 'balanced', random_state = 0), \n",
    "                    scoring = 'accuracy', \n",
    "                    param_grid = param_grid, \n",
    "                    cv = 10, \n",
    "                    n_jobs=8)\n",
    "\n",
    "grid.fit(X_train, y_train)\n",
    "print(\"best mean cross-validation score: {:.3f}\".format(grid.best_score_))\n",
    "print(\"best parameters: {}\".format(grid.best_params_))\n",
    "\n",
    "scores = np.array(grid.cv_results_['mean_test_score']) \n",
    "stdvalues = np.array(grid.cv_results_['std_test_score'])\n",
    "plt.plot(max_depth,scores,'-o')\n",
    "plt.errorbar(max_depth, scores, yerr=stdvalues, ecolor='g')\n",
    "plt.xlabel('# max_depth')\n",
    "plt.ylabel('10-Fold ACC')\n",
    "plt.grid()\n",
    "plt.show()\n",
    "\n",
    "print(\"acc (train): {:.2f}\".format(grid.score(X_train, y_train)))\n",
    "print(\"acc (test): {:.2f}\".format(grid.score(X_test, y_test)))"
   ]
  },
  {
   "cell_type": "code",
   "execution_count": 35,
   "metadata": {
    "colab": {
     "base_uri": "https://localhost:8080/",
     "height": 578
    },
    "colab_type": "code",
    "executionInfo": {
     "elapsed": 764,
     "status": "ok",
     "timestamp": 1559588703231,
     "user": {
      "displayName": "Ivan Rubio",
      "photoUrl": "https://lh5.googleusercontent.com/-Y6n9p9UJ3EY/AAAAAAAAAAI/AAAAAAAAGjU/r4Jw_7ETkrQ/s64/photo.jpg",
      "userId": "12955993600759968137"
     },
     "user_tz": -120
    },
    "id": "1KaFC7eZSG1E",
    "outputId": "a9d40c88-f03c-4674-9d63-9c7abb62a078"
   },
   "outputs": [
    {
     "data": {
      "image/png": "[encoded data removed]",
      "text/plain": [
       "<Figure size 216x216 with 1 Axes>"
      ]
     },
     "metadata": {
      "needs_background": "light"
     },
     "output_type": "display_data"
    },
    {
     "name": "stdout",
     "output_type": "stream",
     "text": [
      "ACC:  0.8348258706467662\n",
      "SEN:  0.6342551293487957\n",
      "ESP:  0.9009260620314568\n",
      "PPV:  0.6784351145038168\n",
      "FSC:  0.6556016597510373\n"
     ]
    },
    {
     "data": {
      "image/png": "[encoded data removed]",
      "text/plain": [
       "<Figure size 432x288 with 1 Axes>"
      ]
     },
     "metadata": {
      "needs_background": "light"
     },
     "output_type": "display_data"
    }
   ],
   "source": [
    "dt = DecisionTreeClassifier(max_depth = grid.best_params_['max_depth'], random_state = 0).fit(X_train, y_train)\n",
    "\n",
    "y_pred = dt.predict(X_test)\n",
    "\n",
    "confmatKNN_test = confusion_matrix(y_test, y_pred)\n",
    "plot_confusion_matrix(confmatKNN_test)\n",
    "calcula_metricas(confmatKNN_test)"
   ]
  },
  {
   "cell_type": "code",
   "execution_count": 36,
   "metadata": {
    "colab": {
     "base_uri": "https://localhost:8080/",
     "height": 283
    },
    "colab_type": "code",
    "executionInfo": {
     "elapsed": 769,
     "status": "ok",
     "timestamp": 1559588705498,
     "user": {
      "displayName": "Ivan Rubio",
      "photoUrl": "https://lh5.googleusercontent.com/-Y6n9p9UJ3EY/AAAAAAAAAAI/AAAAAAAAGjU/r4Jw_7ETkrQ/s64/photo.jpg",
      "userId": "12955993600759968137"
     },
     "user_tz": -120
    },
    "id": "8DKA0a4NVUH2",
    "outputId": "c7c6ecd9-e981-4f59-e125-693f53ec0605"
   },
   "outputs": [
    {
     "data": {
      "image/png": "[encoded data removed]",
      "text/plain": [
       "<Figure size 432x288 with 1 Axes>"
      ]
     },
     "metadata": {
      "needs_background": "light"
     },
     "output_type": "display_data"
    }
   ],
   "source": [
    "y_prob = dt.predict_proba(X_test)[:,1]\n",
    "\n",
    "ejex, ejey, _ = roc_curve(y_test, y_prob)\n",
    "roc_auc = auc(ejex, ejey)\n",
    "\n",
    "plt.figure()\n",
    "plt.plot(ejex, ejey, color='darkorange',lw=2, label='AUC = %0.2f' % roc_auc)\n",
    "\n",
    "plt.plot([0, 1], [0, 1], color=(0.6, 0.6, 0.6), linestyle='--')\n",
    "plt.plot([0, 0, 1],[0, 1, 1],lw=2, linestyle=':',color='black',label='Clasificador perfecto')\n",
    "\n",
    "plt.xlim([-0.05, 1.05])\n",
    "plt.ylim([-0.05, 1.05])\n",
    "\n",
    "plt.xlabel('FPR (1-ESP)')\n",
    "plt.ylabel('SEN')\n",
    "plt.legend(loc=\"lower right\")\n",
    "plt.show()"
   ]
  },
  {
   "cell_type": "code",
   "execution_count": 37,
   "metadata": {
    "colab": {
     "base_uri": "https://localhost:8080/",
     "height": 595
    },
    "colab_type": "code",
    "executionInfo": {
     "elapsed": 986,
     "status": "ok",
     "timestamp": 1559589091098,
     "user": {
      "displayName": "Ivan Rubio",
      "photoUrl": "https://lh5.googleusercontent.com/-Y6n9p9UJ3EY/AAAAAAAAAAI/AAAAAAAAGjU/r4Jw_7ETkrQ/s64/photo.jpg",
      "userId": "12955993600759968137"
     },
     "user_tz": -120
    },
    "id": "TIvGdT2qwJE5",
    "outputId": "ef2a4867-105e-46be-cb8e-e60db52235f2"
   },
   "outputs": [
    {
     "data": {
      "image/png": "[encoded data removed]",
      "text/plain": [
       "<Figure size 720x720 with 1 Axes>"
      ]
     },
     "metadata": {
      "needs_background": "light"
     },
     "output_type": "display_data"
    }
   ],
   "source": [
    "importances = dt.feature_importances_\n",
    "importances = importances / np.max(importances)\n",
    "\n",
    "indices = np.argsort(importances)[::-1]\n",
    "\n",
    "plt.figure(figsize=(10,10))\n",
    "plt.barh(range(X_train.shape[1]),importances[indices])\n",
    "plt.yticks(range(X_train.shape[1]),features[indices])\n",
    "plt.show()"
   ]
  },
  {
   "cell_type": "markdown",
   "metadata": {
    "colab_type": "text",
    "id": "o-lxZ5CivIaw"
   },
   "source": [
    "Obtenemos unos valores muy similares a KNN. "
   ]
  },
  {
   "cell_type": "markdown",
   "metadata": {
    "colab_type": "text",
    "id": "nYnyYzzCv_5n"
   },
   "source": [
    "#### RandomForestClassifier"
   ]
  },
  {
   "cell_type": "code",
   "execution_count": 38,
   "metadata": {
    "colab": {
     "base_uri": "https://localhost:8080/",
     "height": 353
    },
    "colab_type": "code",
    "executionInfo": {
     "elapsed": 474458,
     "status": "ok",
     "timestamp": 1559675107547,
     "user": {
      "displayName": "Ivan Rubio",
      "photoUrl": "https://lh5.googleusercontent.com/-Y6n9p9UJ3EY/AAAAAAAAAAI/AAAAAAAAGjU/r4Jw_7ETkrQ/s64/photo.jpg",
      "userId": "12955993600759968137"
     },
     "user_tz": -120
    },
    "id": "hMhvW1SXwjkj",
    "outputId": "0d00ac02-10a0-4ea6-ced0-aae0d602e055"
   },
   "outputs": [
    {
     "name": "stderr",
     "output_type": "stream",
     "text": [
      "/home/ivan/scr/Python/anaconda3/lib/python3.6/site-packages/joblib/externals/loky/process_executor.py:706: UserWarning: A worker stopped while some jobs were given to the executor. This can be caused by a too short worker timeout or by a memory leak.\n",
      "  \"timeout or by a memory leak.\", UserWarning\n",
      "/home/ivan/scr/Python/anaconda3/lib/python3.6/site-packages/joblib/externals/loky/process_executor.py:706: UserWarning: A worker stopped while some jobs were given to the executor. This can be caused by a too short worker timeout or by a memory leak.\n",
      "  \"timeout or by a memory leak.\", UserWarning\n"
     ]
    },
    {
     "name": "stdout",
     "output_type": "stream",
     "text": [
      "best mean cross-validation score: 0.845\n",
      "best parameters: {'max_depth': 29}\n"
     ]
    },
    {
     "data": {
      "image/png": "[encoded data removed]",
      "text/plain": [
       "<Figure size 432x288 with 1 Axes>"
      ]
     },
     "metadata": {
      "needs_background": "light"
     },
     "output_type": "display_data"
    },
    {
     "name": "stdout",
     "output_type": "stream",
     "text": [
      "acc (train): 0.97\n",
      "acc (test): 0.84\n"
     ]
    }
   ],
   "source": [
    "#max_depth = range(1,20)\n",
    "max_depth = range(15,30)\n",
    "tuned_parameters = {'max_depth': max_depth}\n",
    "\n",
    "grid = GridSearchCV(RandomForestClassifier(class_weight = 'balanced',\n",
    "                                           random_state=0, \n",
    "                                           n_estimators=200, \n",
    "                                           max_features='sqrt'), \n",
    "                                           param_grid=tuned_parameters,\n",
    "                                           cv=10, \n",
    "                                           n_jobs=8) \n",
    "grid.fit(X_train, y_train)\n",
    "\n",
    "print(\"best mean cross-validation score: {:.3f}\".format(grid.best_score_))\n",
    "print(\"best parameters: {}\".format(grid.best_params_))\n",
    "\n",
    "scores = np.array(grid.cv_results_['mean_test_score']) \n",
    "stdvalues = np.array(grid.cv_results_['std_test_score'])\n",
    "plt.plot(max_depth,scores,'-o')\n",
    "plt.errorbar(max_depth, scores, yerr=stdvalues, ecolor='g')\n",
    "plt.xlabel('# max_depth')\n",
    "plt.ylabel('10-Fold ACC')\n",
    "plt.grid()\n",
    "plt.show()\n",
    "\n",
    "print(\"acc (train): {:.2f}\".format(grid.score(X_train, y_train)))\n",
    "print(\"acc (test): {:.2f}\".format(grid.score(X_test, y_test)))"
   ]
  },
  {
   "cell_type": "code",
   "execution_count": 39,
   "metadata": {
    "colab": {
     "base_uri": "https://localhost:8080/",
     "height": 578
    },
    "colab_type": "code",
    "executionInfo": {
     "elapsed": 1014,
     "status": "ok",
     "timestamp": 1559589989861,
     "user": {
      "displayName": "Ivan Rubio",
      "photoUrl": "https://lh5.googleusercontent.com/-Y6n9p9UJ3EY/AAAAAAAAAAI/AAAAAAAAGjU/r4Jw_7ETkrQ/s64/photo.jpg",
      "userId": "12955993600759968137"
     },
     "user_tz": -120
    },
    "id": "zppF0Fk_xgLf",
    "outputId": "e749075c-5e2e-4815-bdeb-46388d6d8367"
   },
   "outputs": [
    {
     "data": {
      "image/png": "[encoded data removed]",
      "text/plain": [
       "<Figure size 216x216 with 1 Axes>"
      ]
     },
     "metadata": {
      "needs_background": "light"
     },
     "output_type": "display_data"
    },
    {
     "name": "stdout",
     "output_type": "stream",
     "text": [
      "ACC:  0.845771144278607\n",
      "SEN:  0.6088314005352364\n",
      "ESP:  0.9238571218580038\n",
      "PPV:  0.724907063197026\n",
      "FSC:  0.6618181818181819\n"
     ]
    },
    {
     "data": {
      "image/png": "[encoded data removed]",
      "text/plain": [
       "<Figure size 432x288 with 1 Axes>"
      ]
     },
     "metadata": {
      "needs_background": "light"
     },
     "output_type": "display_data"
    }
   ],
   "source": [
    "rf = RandomForestClassifier(max_depth = grid.best_params_['max_depth'], random_state = 0).fit(X_train, y_train)\n",
    "\n",
    "y_pred = rf.predict(X_test)\n",
    "\n",
    "confmatKNN_test = confusion_matrix(y_test, y_pred)\n",
    "plot_confusion_matrix(confmatKNN_test)\n",
    "calcula_metricas(confmatKNN_test)"
   ]
  },
  {
   "cell_type": "code",
   "execution_count": 40,
   "metadata": {
    "colab": {
     "base_uri": "https://localhost:8080/",
     "height": 52
    },
    "colab_type": "code",
    "executionInfo": {
     "elapsed": 1058,
     "status": "ok",
     "timestamp": 1559674622017,
     "user": {
      "displayName": "Ivan Rubio",
      "photoUrl": "https://lh5.googleusercontent.com/-Y6n9p9UJ3EY/AAAAAAAAAAI/AAAAAAAAGjU/r4Jw_7ETkrQ/s64/photo.jpg",
      "userId": "12955993600759968137"
     },
     "user_tz": -120
    },
    "id": "BaZ15h4F2H8C",
    "outputId": "c9300f19-1f8a-459f-b398-e82adb5a4af9"
   },
   "outputs": [
    {
     "name": "stdout",
     "output_type": "stream",
     "text": [
      "acc (train): 0.87\n",
      "acc (test): 0.86\n"
     ]
    }
   ],
   "source": [
    "rf = RandomForestClassifier(max_depth = 10, random_state = 0).fit(X_train, y_train)\n",
    "\n",
    "print(\"acc (train): {:.2f}\".format(rf.score(X_train, y_train)))\n",
    "print(\"acc (test): {:.2f}\".format(rf.score(X_test, y_test)))"
   ]
  },
  {
   "cell_type": "markdown",
   "metadata": {},
   "source": [
    "Con el max_depth de 24 obtenido en la validación cruzada obtenemos un modelo muy sobreentrenado. He hecho pruebas y con 10 tenemos un modelo más ajustado."
   ]
  },
  {
   "cell_type": "code",
   "execution_count": 41,
   "metadata": {},
   "outputs": [
    {
     "data": {
      "image/png": "[encoded data removed]",
      "text/plain": [
       "<Figure size 216x216 with 1 Axes>"
      ]
     },
     "metadata": {
      "needs_background": "light"
     },
     "output_type": "display_data"
    },
    {
     "name": "stdout",
     "output_type": "stream",
     "text": [
      "ACC:  0.8551686014372581\n",
      "SEN:  0.5695807314897413\n",
      "ESP:  0.9492870792297515\n",
      "PPV:  0.7872996300863132\n",
      "FSC:  0.6609730848861284\n"
     ]
    },
    {
     "data": {
      "image/png": "[encoded data removed]",
      "text/plain": [
       "<Figure size 432x288 with 1 Axes>"
      ]
     },
     "metadata": {
      "needs_background": "light"
     },
     "output_type": "display_data"
    }
   ],
   "source": [
    "y_pred = rf.predict(X_test)\n",
    "\n",
    "confmatKNN_test = confusion_matrix(y_test, y_pred)\n",
    "plot_confusion_matrix(confmatKNN_test)\n",
    "calcula_metricas(confmatKNN_test)"
   ]
  },
  {
   "cell_type": "code",
   "execution_count": 42,
   "metadata": {
    "colab": {
     "base_uri": "https://localhost:8080/",
     "height": 283
    },
    "colab_type": "code",
    "executionInfo": {
     "elapsed": 743,
     "status": "ok",
     "timestamp": 1559590051461,
     "user": {
      "displayName": "Ivan Rubio",
      "photoUrl": "https://lh5.googleusercontent.com/-Y6n9p9UJ3EY/AAAAAAAAAAI/AAAAAAAAGjU/r4Jw_7ETkrQ/s64/photo.jpg",
      "userId": "12955993600759968137"
     },
     "user_tz": -120
    },
    "id": "XGDdkh1FxnkB",
    "outputId": "da8aa9de-e882-4529-e956-0fc60c8b87f3"
   },
   "outputs": [
    {
     "data": {
      "image/png": "[encoded data removed]",
      "text/plain": [
       "<Figure size 432x288 with 1 Axes>"
      ]
     },
     "metadata": {
      "needs_background": "light"
     },
     "output_type": "display_data"
    }
   ],
   "source": [
    "y_prob = rf.predict_proba(X_test)[:,1]\n",
    "\n",
    "ejex, ejey, _ = roc_curve(y_test, y_prob)\n",
    "roc_auc = auc(ejex, ejey)\n",
    "\n",
    "plt.figure()\n",
    "plt.plot(ejex, ejey, color='darkorange',lw=2, label='AUC = %0.2f' % roc_auc)\n",
    "\n",
    "plt.plot([0, 1], [0, 1], color=(0.6, 0.6, 0.6), linestyle='--')\n",
    "plt.plot([0, 0, 1],[0, 1, 1],lw=2, linestyle=':',color='black',label='Clasificador perfecto')\n",
    "\n",
    "plt.xlim([-0.05, 1.05])\n",
    "plt.ylim([-0.05, 1.05])\n",
    "\n",
    "plt.xlabel('FPR (1-ESP)')\n",
    "plt.ylabel('SEN')\n",
    "plt.legend(loc=\"lower right\")\n",
    "plt.show()"
   ]
  },
  {
   "cell_type": "code",
   "execution_count": 43,
   "metadata": {
    "colab": {
     "base_uri": "https://localhost:8080/",
     "height": 269
    },
    "colab_type": "code",
    "executionInfo": {
     "elapsed": 806,
     "status": "ok",
     "timestamp": 1559590036576,
     "user": {
      "displayName": "Ivan Rubio",
      "photoUrl": "https://lh5.googleusercontent.com/-Y6n9p9UJ3EY/AAAAAAAAAAI/AAAAAAAAGjU/r4Jw_7ETkrQ/s64/photo.jpg",
      "userId": "12955993600759968137"
     },
     "user_tz": -120
    },
    "id": "kglMm9b3z1n0",
    "outputId": "3d4d87d5-9365-4e73-d343-6a48d8150812"
   },
   "outputs": [
    {
     "name": "stderr",
     "output_type": "stream",
     "text": [
      "/home/ivan/scr/Python/anaconda3/lib/python3.6/site-packages/ipykernel_launcher.py:4: MatplotlibDeprecationWarning: \n",
      "The 'normed' kwarg was deprecated in Matplotlib 2.1 and will be removed in 3.1. Use 'density' instead.\n",
      "  after removing the cwd from sys.path.\n",
      "/home/ivan/scr/Python/anaconda3/lib/python3.6/site-packages/ipykernel_launcher.py:5: MatplotlibDeprecationWarning: \n",
      "The 'normed' kwarg was deprecated in Matplotlib 2.1 and will be removed in 3.1. Use 'density' instead.\n",
      "  \"\"\"\n"
     ]
    },
    {
     "data": {
      "image/png": "[encoded data removed]",
      "text/plain": [
       "<Figure size 432x288 with 1 Axes>"
      ]
     },
     "metadata": {
      "needs_background": "light"
     },
     "output_type": "display_data"
    }
   ],
   "source": [
    "idx_0 = (y_test == 0)\n",
    "idx_1 = (y_test == 1)\n",
    "\n",
    "plt.hist(y_prob[idx_0], normed = 1, label = 'y = 0')\n",
    "plt.hist(y_prob[idx_1], normed = 1, facecolor = 'r', alpha=0.6, label = 'y = 1')\n",
    "plt.legend(loc = 1)\n",
    "plt.show()"
   ]
  },
  {
   "cell_type": "markdown",
   "metadata": {
    "colab_type": "text",
    "id": "C983kyjbyx1Y"
   },
   "source": [
    "Según vamos avanzando y utilizando distintos modelo vamos obteniendo mejores resultados en general. Al final sacaré mis conclusiones "
   ]
  },
  {
   "cell_type": "markdown",
   "metadata": {
    "colab_type": "text",
    "id": "cPQRejMdyzJh"
   },
   "source": [
    "#### GradientBoostingClassifier"
   ]
  },
  {
   "cell_type": "code",
   "execution_count": 44,
   "metadata": {
    "colab": {
     "base_uri": "https://localhost:8080/",
     "height": 86
    },
    "colab_type": "code",
    "executionInfo": {
     "elapsed": 387958,
     "status": "ok",
     "timestamp": 1559670385221,
     "user": {
      "displayName": "Ivan Rubio",
      "photoUrl": "https://lh5.googleusercontent.com/-Y6n9p9UJ3EY/AAAAAAAAAAI/AAAAAAAAGjU/r4Jw_7ETkrQ/s64/photo.jpg",
      "userId": "12955993600759968137"
     },
     "user_tz": -120
    },
    "id": "eCariDR0yzim",
    "outputId": "06d0428c-f34a-4778-e583-9e52cca14a00"
   },
   "outputs": [
    {
     "name": "stdout",
     "output_type": "stream",
     "text": [
      "best mean cross-validation score: 0.868\n",
      "best parameters: {'learning_rate': 0.5, 'n_estimators': 175}\n",
      "acc (train): 0.8748\n",
      "acc (test): 0.8695\n"
     ]
    }
   ],
   "source": [
    "#Niterations = [25,50,75,100]\n",
    "Niterations = [50,100,150,175,200]\n",
    "#Niterations = [225,250,275,300]\n",
    "#Niterations = [325,350,375,400]\n",
    "#Niterations = [25,200,275,350]\n",
    "\n",
    "learningRate = [0.5,0.1,0.05,0.01]\n",
    "#learningRate = [1, 0.5,0.1,0.05]\n",
    "\n",
    "\n",
    "#param_grid = {'n_estimators': Niterations,'learning_rate':learningRate, 'max_depth': max_depth}\n",
    "param_grid = {'n_estimators': Niterations,'learning_rate':learningRate}\n",
    "\n",
    "grid = GridSearchCV(GradientBoostingClassifier(random_state=0, max_depth = 2), param_grid=param_grid, cv = 5, n_jobs=8)\n",
    "grid.fit(X_train, y_train)\n",
    "\n",
    "print(\"best mean cross-validation score: {:.3f}\".format(grid.best_score_))\n",
    "print(\"best parameters: {}\".format(grid.best_params_))\n",
    "print(\"acc (train): {:.4f}\".format(grid.score(X_train, y_train)))\n",
    "print(\"acc (test): {:.4f}\".format(grid.score(X_test, y_test)))"
   ]
  },
  {
   "cell_type": "code",
   "execution_count": 45,
   "metadata": {
    "colab": {
     "base_uri": "https://localhost:8080/",
     "height": 310
    },
    "colab_type": "code",
    "executionInfo": {
     "elapsed": 3360,
     "status": "ok",
     "timestamp": 1559671036103,
     "user": {
      "displayName": "Ivan Rubio",
      "photoUrl": "https://lh5.googleusercontent.com/-Y6n9p9UJ3EY/AAAAAAAAAAI/AAAAAAAAGjU/r4Jw_7ETkrQ/s64/photo.jpg",
      "userId": "12955993600759968137"
     },
     "user_tz": -120
    },
    "id": "bWx_EflpT9eK",
    "outputId": "736aec2d-723d-4de9-a484-2cd3acbf7379"
   },
   "outputs": [
    {
     "data": {
      "image/png": "[encoded data removed]",
      "text/plain": [
       "<Figure size 432x288 with 1 Axes>"
      ]
     },
     "metadata": {
      "needs_background": "light"
     },
     "output_type": "display_data"
    }
   ],
   "source": [
    "bt = GradientBoostingClassifier(random_state=0, max_depth=2, learning_rate = grid.best_params_['learning_rate'], n_estimators= grid.best_params_['n_estimators'] )\n",
    "bt.fit(X_train,y_train)\n",
    "\n",
    "error = 1-grid.cv_results_['mean_test_score'].reshape(len(learningRate),len(Niterations))\n",
    "colors = ['r','b','g','k','m']\n",
    "for i,lr in enumerate(learningRate):    \n",
    "    plt.plot(Niterations,error[i,:],colors[i] + '--o',label='lr = %g'%lr)\n",
    "\n",
    "plt.legend()\n",
    "plt.xlabel('# iteraciones')\n",
    "plt.ylabel('10-fold CV Error')\n",
    "plt.title('train: %0.3f\\ntest:  %0.3f'%(bt.score(X_train,y_train),bt.score(X_test,y_test)))\n",
    "plt.grid()\n",
    "plt.show()"
   ]
  },
  {
   "cell_type": "code",
   "execution_count": 46,
   "metadata": {
    "colab": {
     "base_uri": "https://localhost:8080/",
     "height": 576
    },
    "colab_type": "code",
    "executionInfo": {
     "elapsed": 1403,
     "status": "ok",
     "timestamp": 1559668201606,
     "user": {
      "displayName": "Ivan Rubio",
      "photoUrl": "https://lh5.googleusercontent.com/-Y6n9p9UJ3EY/AAAAAAAAAAI/AAAAAAAAGjU/r4Jw_7ETkrQ/s64/photo.jpg",
      "userId": "12955993600759968137"
     },
     "user_tz": -120
    },
    "id": "AoRDBu3Hd9gR",
    "outputId": "fe95d812-9f33-4868-c3fc-a49427dbaab2"
   },
   "outputs": [
    {
     "data": {
      "image/png": "[encoded data removed]",
      "text/plain": [
       "<Figure size 216x216 with 1 Axes>"
      ]
     },
     "metadata": {
      "needs_background": "light"
     },
     "output_type": "display_data"
    },
    {
     "name": "stdout",
     "output_type": "stream",
     "text": [
      "ACC:  0.8695411829740188\n",
      "SEN:  0.6458519179304193\n",
      "ESP:  0.9432603263266206\n",
      "PPV:  0.7895310796074155\n",
      "FSC:  0.7105004906771346\n"
     ]
    },
    {
     "data": {
      "image/png": "[encoded data removed]",
      "text/plain": [
       "<Figure size 432x288 with 1 Axes>"
      ]
     },
     "metadata": {
      "needs_background": "light"
     },
     "output_type": "display_data"
    }
   ],
   "source": [
    "\n",
    "y_pred = bt.predict(X_test)\n",
    "\n",
    "confmatKNN_test = confusion_matrix(y_test, y_pred)\n",
    "plot_confusion_matrix(confmatKNN_test)\n",
    "calcula_metricas(confmatKNN_test)"
   ]
  },
  {
   "cell_type": "markdown",
   "metadata": {},
   "source": [
    "Obtenemos como mejor learning_rate tenemos 0.5, pero en la gráfica 0.1 y 0.05 tienen buena pinta también. Voy a probar tambien son estos valores a ver que modelos obtengo"
   ]
  },
  {
   "cell_type": "code",
   "execution_count": 47,
   "metadata": {},
   "outputs": [
    {
     "name": "stdout",
     "output_type": "stream",
     "text": [
      "acc (train): 0.8662\n",
      "acc (test): 0.8552\n"
     ]
    },
    {
     "data": {
      "image/png": "[encoded data removed]",
      "text/plain": [
       "<Figure size 216x216 with 1 Axes>"
      ]
     },
     "metadata": {
      "needs_background": "light"
     },
     "output_type": "display_data"
    },
    {
     "name": "stdout",
     "output_type": "stream",
     "text": [
      "ACC:  0.8615809839690437\n",
      "SEN:  0.5958965209634255\n",
      "ESP:  0.9491400852565045\n",
      "PPV:  0.7942925089179548\n",
      "FSC:  0.6809378185524974\n"
     ]
    },
    {
     "data": {
      "image/png": "[encoded data removed]",
      "text/plain": [
       "<Figure size 432x288 with 1 Axes>"
      ]
     },
     "metadata": {
      "needs_background": "light"
     },
     "output_type": "display_data"
    }
   ],
   "source": [
    "bt = GradientBoostingClassifier(random_state=0, \n",
    "                                max_depth=2, \n",
    "                                learning_rate = 0.1, \n",
    "                                n_estimators= grid.best_params_['n_estimators'] ).fit(X_train,y_train)\n",
    "\n",
    "\n",
    "print(\"acc (train): {:.4f}\".format(rf.score(X_train, y_train)))\n",
    "print(\"acc (test): {:.4f}\".format(rf.score(X_test, y_test)))\n",
    "\n",
    "y_pred = bt.predict(X_test)\n",
    "\n",
    "confmatKNN_test = confusion_matrix(y_test, y_pred)\n",
    "plot_confusion_matrix(confmatKNN_test)\n",
    "calcula_metricas(confmatKNN_test)"
   ]
  },
  {
   "cell_type": "code",
   "execution_count": 48,
   "metadata": {},
   "outputs": [
    {
     "name": "stdout",
     "output_type": "stream",
     "text": [
      "acc (train): 0.8662\n",
      "acc (test): 0.8552\n"
     ]
    },
    {
     "data": {
      "image/png": "[encoded data removed]",
      "text/plain": [
       "<Figure size 216x216 with 1 Axes>"
      ]
     },
     "metadata": {
      "needs_background": "light"
     },
     "output_type": "display_data"
    },
    {
     "name": "stdout",
     "output_type": "stream",
     "text": [
      "ACC:  0.854947484798231\n",
      "SEN:  0.5566458519179304\n",
      "ESP:  0.9532559165074233\n",
      "PPV:  0.7969348659003831\n",
      "FSC:  0.6554621848739496\n"
     ]
    },
    {
     "data": {
      "image/png": "[encoded data removed]",
      "text/plain": [
       "<Figure size 432x288 with 1 Axes>"
      ]
     },
     "metadata": {
      "needs_background": "light"
     },
     "output_type": "display_data"
    }
   ],
   "source": [
    "bt = GradientBoostingClassifier(random_state=0, \n",
    "                                max_depth=2, \n",
    "                                learning_rate = 0.05, \n",
    "                                n_estimators= grid.best_params_['n_estimators'] ).fit(X_train,y_train)\n",
    "\n",
    "\n",
    "print(\"acc (train): {:.4f}\".format(rf.score(X_train, y_train)))\n",
    "print(\"acc (test): {:.4f}\".format(rf.score(X_test, y_test)))\n",
    "\n",
    "y_pred = bt.predict(X_test)\n",
    "\n",
    "confmatKNN_test = confusion_matrix(y_test, y_pred)\n",
    "plot_confusion_matrix(confmatKNN_test)\n",
    "calcula_metricas(confmatKNN_test)"
   ]
  },
  {
   "cell_type": "markdown",
   "metadata": {},
   "source": [
    "Al final hay valores similares. Aunque mejores unos, empeoran otros. "
   ]
  },
  {
   "cell_type": "code",
   "execution_count": 49,
   "metadata": {
    "colab": {
     "base_uri": "https://localhost:8080/",
     "height": 283
    },
    "colab_type": "code",
    "executionInfo": {
     "elapsed": 1175,
     "status": "ok",
     "timestamp": 1559668998466,
     "user": {
      "displayName": "Ivan Rubio",
      "photoUrl": "https://lh5.googleusercontent.com/-Y6n9p9UJ3EY/AAAAAAAAAAI/AAAAAAAAGjU/r4Jw_7ETkrQ/s64/photo.jpg",
      "userId": "12955993600759968137"
     },
     "user_tz": -120
    },
    "id": "h6BeABXOedHo",
    "outputId": "579ab496-8954-48fc-bcdb-ada16b0a8880"
   },
   "outputs": [
    {
     "data": {
      "image/png": "[encoded data removed]",
      "text/plain": [
       "<Figure size 432x288 with 1 Axes>"
      ]
     },
     "metadata": {
      "needs_background": "light"
     },
     "output_type": "display_data"
    }
   ],
   "source": [
    "bt = GradientBoostingClassifier(random_state=0, max_depth=2, learning_rate = grid.best_params_['learning_rate'], n_estimators= grid.best_params_['n_estimators'] )\n",
    "bt.fit(X_train,y_train)\n",
    "\n",
    "\n",
    "y_prob = bt.predict_proba(X_test)[:,1]\n",
    "\n",
    "ejex, ejey, _ = roc_curve(y_test, y_prob)\n",
    "roc_auc = auc(ejex, ejey)\n",
    "\n",
    "plt.figure()\n",
    "plt.plot(ejex, ejey, color='darkorange',lw=2, label='AUC = %0.2f' % roc_auc)\n",
    "\n",
    "plt.plot([0, 1], [0, 1], color=(0.6, 0.6, 0.6), linestyle='--')\n",
    "plt.plot([0, 0, 1],[0, 1, 1],lw=2, linestyle=':',color='black',label='Clasificador perfecto')\n",
    "\n",
    "plt.xlim([-0.05, 1.05])\n",
    "plt.ylim([-0.05, 1.05])\n",
    "\n",
    "plt.xlabel('FPR (1-ESP)')\n",
    "plt.ylabel('SEN')\n",
    "plt.legend(loc=\"lower right\")\n",
    "plt.show()"
   ]
  },
  {
   "cell_type": "code",
   "execution_count": 50,
   "metadata": {
    "colab": {
     "base_uri": "https://localhost:8080/",
     "height": 269
    },
    "colab_type": "code",
    "executionInfo": {
     "elapsed": 1314,
     "status": "ok",
     "timestamp": 1559669020132,
     "user": {
      "displayName": "Ivan Rubio",
      "photoUrl": "https://lh5.googleusercontent.com/-Y6n9p9UJ3EY/AAAAAAAAAAI/AAAAAAAAGjU/r4Jw_7ETkrQ/s64/photo.jpg",
      "userId": "12955993600759968137"
     },
     "user_tz": -120
    },
    "id": "LquikVCrekFa",
    "outputId": "9b1ecc22-a07f-4022-e45f-13b6ce2c2fb8"
   },
   "outputs": [
    {
     "data": {
      "image/png": "[encoded data removed]",
      "text/plain": [
       "<Figure size 432x288 with 1 Axes>"
      ]
     },
     "metadata": {
      "needs_background": "light"
     },
     "output_type": "display_data"
    }
   ],
   "source": [
    "idx_0 = (y_test == 0)\n",
    "idx_1 = (y_test == 1)\n",
    "\n",
    "plt.hist(y_prob[idx_0], density = 1, label = 'y = 0')\n",
    "plt.hist(y_prob[idx_1], density = 1, facecolor = 'r', alpha=0.6, label = 'y = 1')\n",
    "plt.legend(loc = 1)\n",
    "plt.show()"
   ]
  },
  {
   "cell_type": "markdown",
   "metadata": {},
   "source": [
    "Con GradientBoostingClassifier obtenemos el mejor modelo predictorio. Así que es con el modelo que nos quedamos."
   ]
  },
  {
   "cell_type": "markdown",
   "metadata": {},
   "source": [
    "### Aplicación del modelo"
   ]
  },
  {
   "cell_type": "code",
   "execution_count": 65,
   "metadata": {},
   "outputs": [
    {
     "data": {
      "text/html": [
       "<div>\n",
       "<style scoped>\n",
       "    .dataframe tbody tr th:only-of-type {\n",
       "        vertical-align: middle;\n",
       "    }\n",
       "\n",
       "    .dataframe tbody tr th {\n",
       "        vertical-align: top;\n",
       "    }\n",
       "\n",
       "    .dataframe thead th {\n",
       "        text-align: right;\n",
       "    }\n",
       "</style>\n",
       "<table border=\"1\" class=\"dataframe\">\n",
       "  <thead>\n",
       "    <tr style=\"text-align: right;\">\n",
       "      <th></th>\n",
       "      <th>id</th>\n",
       "      <th>age</th>\n",
       "      <th>workclass</th>\n",
       "      <th>education-num</th>\n",
       "      <th>marital-status</th>\n",
       "      <th>occupation</th>\n",
       "      <th>relationship</th>\n",
       "      <th>race</th>\n",
       "      <th>sex</th>\n",
       "      <th>capital-gain</th>\n",
       "      <th>capital-loss</th>\n",
       "      <th>hours-per-week</th>\n",
       "      <th>native-country</th>\n",
       "    </tr>\n",
       "  </thead>\n",
       "  <tbody>\n",
       "    <tr>\n",
       "      <th>0</th>\n",
       "      <td>0</td>\n",
       "      <td>28</td>\n",
       "      <td>2</td>\n",
       "      <td>9.0</td>\n",
       "      <td>4</td>\n",
       "      <td>5</td>\n",
       "      <td>3</td>\n",
       "      <td>2</td>\n",
       "      <td>0</td>\n",
       "      <td>0.0</td>\n",
       "      <td>0.0</td>\n",
       "      <td>40.0</td>\n",
       "      <td>37</td>\n",
       "    </tr>\n",
       "    <tr>\n",
       "      <th>1</th>\n",
       "      <td>1</td>\n",
       "      <td>35</td>\n",
       "      <td>2</td>\n",
       "      <td>9.0</td>\n",
       "      <td>5</td>\n",
       "      <td>9</td>\n",
       "      <td>2</td>\n",
       "      <td>2</td>\n",
       "      <td>0</td>\n",
       "      <td>0.0</td>\n",
       "      <td>0.0</td>\n",
       "      <td>40.0</td>\n",
       "      <td>37</td>\n",
       "    </tr>\n",
       "    <tr>\n",
       "      <th>2</th>\n",
       "      <td>2</td>\n",
       "      <td>33</td>\n",
       "      <td>2</td>\n",
       "      <td>9.0</td>\n",
       "      <td>2</td>\n",
       "      <td>2</td>\n",
       "      <td>0</td>\n",
       "      <td>4</td>\n",
       "      <td>1</td>\n",
       "      <td>0.0</td>\n",
       "      <td>0.0</td>\n",
       "      <td>30.0</td>\n",
       "      <td>37</td>\n",
       "    </tr>\n",
       "    <tr>\n",
       "      <th>3</th>\n",
       "      <td>3</td>\n",
       "      <td>18</td>\n",
       "      <td>2</td>\n",
       "      <td>9.0</td>\n",
       "      <td>4</td>\n",
       "      <td>11</td>\n",
       "      <td>1</td>\n",
       "      <td>4</td>\n",
       "      <td>1</td>\n",
       "      <td>0.0</td>\n",
       "      <td>0.0</td>\n",
       "      <td>30.0</td>\n",
       "      <td>37</td>\n",
       "    </tr>\n",
       "    <tr>\n",
       "      <th>4</th>\n",
       "      <td>4</td>\n",
       "      <td>53</td>\n",
       "      <td>2</td>\n",
       "      <td>11.0</td>\n",
       "      <td>2</td>\n",
       "      <td>3</td>\n",
       "      <td>0</td>\n",
       "      <td>4</td>\n",
       "      <td>1</td>\n",
       "      <td>0.0</td>\n",
       "      <td>0.0</td>\n",
       "      <td>40.0</td>\n",
       "      <td>37</td>\n",
       "    </tr>\n",
       "    <tr>\n",
       "      <th>5</th>\n",
       "      <td>5</td>\n",
       "      <td>37</td>\n",
       "      <td>2</td>\n",
       "      <td>14.0</td>\n",
       "      <td>2</td>\n",
       "      <td>3</td>\n",
       "      <td>0</td>\n",
       "      <td>4</td>\n",
       "      <td>1</td>\n",
       "      <td>0.0</td>\n",
       "      <td>1977.0</td>\n",
       "      <td>40.0</td>\n",
       "      <td>37</td>\n",
       "    </tr>\n",
       "    <tr>\n",
       "      <th>6</th>\n",
       "      <td>6</td>\n",
       "      <td>41</td>\n",
       "      <td>4</td>\n",
       "      <td>9.0</td>\n",
       "      <td>2</td>\n",
       "      <td>3</td>\n",
       "      <td>0</td>\n",
       "      <td>4</td>\n",
       "      <td>1</td>\n",
       "      <td>0.0</td>\n",
       "      <td>0.0</td>\n",
       "      <td>50.0</td>\n",
       "      <td>37</td>\n",
       "    </tr>\n",
       "    <tr>\n",
       "      <th>7</th>\n",
       "      <td>7</td>\n",
       "      <td>41</td>\n",
       "      <td>2</td>\n",
       "      <td>10.0</td>\n",
       "      <td>2</td>\n",
       "      <td>2</td>\n",
       "      <td>0</td>\n",
       "      <td>2</td>\n",
       "      <td>1</td>\n",
       "      <td>0.0</td>\n",
       "      <td>0.0</td>\n",
       "      <td>40.0</td>\n",
       "      <td>37</td>\n",
       "    </tr>\n",
       "    <tr>\n",
       "      <th>8</th>\n",
       "      <td>8</td>\n",
       "      <td>76</td>\n",
       "      <td>2</td>\n",
       "      <td>15.0</td>\n",
       "      <td>2</td>\n",
       "      <td>9</td>\n",
       "      <td>0</td>\n",
       "      <td>4</td>\n",
       "      <td>1</td>\n",
       "      <td>9386.0</td>\n",
       "      <td>0.0</td>\n",
       "      <td>25.0</td>\n",
       "      <td>37</td>\n",
       "    </tr>\n",
       "    <tr>\n",
       "      <th>9</th>\n",
       "      <td>9</td>\n",
       "      <td>38</td>\n",
       "      <td>0</td>\n",
       "      <td>10.0</td>\n",
       "      <td>4</td>\n",
       "      <td>0</td>\n",
       "      <td>1</td>\n",
       "      <td>4</td>\n",
       "      <td>0</td>\n",
       "      <td>0.0</td>\n",
       "      <td>1980.0</td>\n",
       "      <td>40.0</td>\n",
       "      <td>37</td>\n",
       "    </tr>\n",
       "  </tbody>\n",
       "</table>\n",
       "</div>"
      ],
      "text/plain": [
       "   id  age  workclass  education-num  marital-status  occupation  \\\n",
       "0   0   28          2            9.0               4           5   \n",
       "1   1   35          2            9.0               5           9   \n",
       "2   2   33          2            9.0               2           2   \n",
       "3   3   18          2            9.0               4          11   \n",
       "4   4   53          2           11.0               2           3   \n",
       "5   5   37          2           14.0               2           3   \n",
       "6   6   41          4            9.0               2           3   \n",
       "7   7   41          2           10.0               2           2   \n",
       "8   8   76          2           15.0               2           9   \n",
       "9   9   38          0           10.0               4           0   \n",
       "\n",
       "   relationship  race  sex  capital-gain  capital-loss  hours-per-week  \\\n",
       "0             3     2    0           0.0           0.0            40.0   \n",
       "1             2     2    0           0.0           0.0            40.0   \n",
       "2             0     4    1           0.0           0.0            30.0   \n",
       "3             1     4    1           0.0           0.0            30.0   \n",
       "4             0     4    1           0.0           0.0            40.0   \n",
       "5             0     4    1           0.0        1977.0            40.0   \n",
       "6             0     4    1           0.0           0.0            50.0   \n",
       "7             0     2    1           0.0           0.0            40.0   \n",
       "8             0     4    1        9386.0           0.0            25.0   \n",
       "9             1     4    0           0.0        1980.0            40.0   \n",
       "\n",
       "   native-country  \n",
       "0              37  \n",
       "1              37  \n",
       "2              37  \n",
       "3              37  \n",
       "4              37  \n",
       "5              37  \n",
       "6              37  \n",
       "7              37  \n",
       "8              37  \n",
       "9              37  "
      ]
     },
     "execution_count": 65,
     "metadata": {},
     "output_type": "execute_result"
    }
   ],
   "source": [
    "data = pd.read_csv('./data/census_test.csv')\n",
    "data.head(10)\n",
    "\n",
    "# elimino education_level\n",
    "data = data.drop(['education_level'],axis=1)\n",
    "\n",
    "le = LabelEncoder()\n",
    "\n",
    "cols_bin = ['race', 'sex', 'native-country', 'workclass', 'marital-status', 'occupation', 'relationship']\n",
    "\n",
    "for col in cols_bin:\n",
    "    data[col] = le.fit_transform(data[col])\n",
    "        \n",
    "    \n",
    "data.head(10)"
   ]
  },
  {
   "cell_type": "code",
   "execution_count": 66,
   "metadata": {},
   "outputs": [
    {
     "data": {
      "text/html": [
       "<div>\n",
       "<style scoped>\n",
       "    .dataframe tbody tr th:only-of-type {\n",
       "        vertical-align: middle;\n",
       "    }\n",
       "\n",
       "    .dataframe tbody tr th {\n",
       "        vertical-align: top;\n",
       "    }\n",
       "\n",
       "    .dataframe thead th {\n",
       "        text-align: right;\n",
       "    }\n",
       "</style>\n",
       "<table border=\"1\" class=\"dataframe\">\n",
       "  <thead>\n",
       "    <tr style=\"text-align: right;\">\n",
       "      <th></th>\n",
       "      <th>id</th>\n",
       "      <th>target</th>\n",
       "    </tr>\n",
       "  </thead>\n",
       "  <tbody>\n",
       "    <tr>\n",
       "      <th>0</th>\n",
       "      <td>0</td>\n",
       "      <td>0</td>\n",
       "    </tr>\n",
       "    <tr>\n",
       "      <th>1</th>\n",
       "      <td>1</td>\n",
       "      <td>0</td>\n",
       "    </tr>\n",
       "    <tr>\n",
       "      <th>2</th>\n",
       "      <td>2</td>\n",
       "      <td>0</td>\n",
       "    </tr>\n",
       "    <tr>\n",
       "      <th>3</th>\n",
       "      <td>3</td>\n",
       "      <td>0</td>\n",
       "    </tr>\n",
       "    <tr>\n",
       "      <th>4</th>\n",
       "      <td>4</td>\n",
       "      <td>0</td>\n",
       "    </tr>\n",
       "    <tr>\n",
       "      <th>5</th>\n",
       "      <td>5</td>\n",
       "      <td>0</td>\n",
       "    </tr>\n",
       "    <tr>\n",
       "      <th>6</th>\n",
       "      <td>6</td>\n",
       "      <td>0</td>\n",
       "    </tr>\n",
       "    <tr>\n",
       "      <th>7</th>\n",
       "      <td>7</td>\n",
       "      <td>0</td>\n",
       "    </tr>\n",
       "    <tr>\n",
       "      <th>8</th>\n",
       "      <td>8</td>\n",
       "      <td>0</td>\n",
       "    </tr>\n",
       "    <tr>\n",
       "      <th>9</th>\n",
       "      <td>9</td>\n",
       "      <td>0</td>\n",
       "    </tr>\n",
       "  </tbody>\n",
       "</table>\n",
       "</div>"
      ],
      "text/plain": [
       "   id  target\n",
       "0   0       0\n",
       "1   1       0\n",
       "2   2       0\n",
       "3   3       0\n",
       "4   4       0\n",
       "5   5       0\n",
       "6   6       0\n",
       "7   7       0\n",
       "8   8       0\n",
       "9   9       0"
      ]
     },
     "execution_count": 66,
     "metadata": {},
     "output_type": "execute_result"
    }
   ],
   "source": [
    "features = data.columns.drop(['id'])\n",
    "\n",
    "X = data[features].values\n",
    "Xs = scaler.transform(X)\n",
    "\n",
    "y_pred_ = bt.predict(Xs)\n",
    "data['target'] = y_pred_\n",
    "data_save = data[['id', 'target']]\n",
    "data_save.head(10)"
   ]
  },
  {
   "cell_type": "code",
   "execution_count": 67,
   "metadata": {},
   "outputs": [
    {
     "data": {
      "text/plain": [
       "(array([0, 1]), array([9044,    1]))"
      ]
     },
     "execution_count": 67,
     "metadata": {},
     "output_type": "execute_result"
    }
   ],
   "source": [
    "np.unique(data_save['target'], return_counts=True)"
   ]
  },
  {
   "cell_type": "code",
   "execution_count": 68,
   "metadata": {},
   "outputs": [],
   "source": [
    "data_save.to_csv('./data/census_results.csv')"
   ]
  }
 ],
 "metadata": {
  "accelerator": "GPU",
  "colab": {
   "collapsed_sections": [
    "8SRADnV6u35a"
   ],
   "name": "Un problema de clasificación.ipynb",
   "provenance": [],
   "toc_visible": true,
   "version": "0.3.2"
  },
  "kernelspec": {
   "display_name": "Python 3",
   "language": "python",
   "name": "python3"
  },
  "language_info": {
   "codemirror_mode": {
    "name": "ipython",
    "version": 3
   },
   "file_extension": ".py",
   "mimetype": "text/x-python",
   "name": "python",
   "nbconvert_exporter": "python",
   "pygments_lexer": "ipython3",
   "version": "3.6.6"
  }
 },
 "nbformat": 4,
 "nbformat_minor": 1
}
