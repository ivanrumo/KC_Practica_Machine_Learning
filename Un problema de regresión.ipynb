{
 "cells": [
  {
   "cell_type": "markdown",
   "metadata": {},
   "source": [
    "Archivos: _diamonds_train.csv, diamonds_test.csv_\n",
    "\n",
    "El objetivo es estimar el precio (​ price ) ​ de un diamante a partir de un conjunto de\n",
    "propiedades físicas del mismo:\n",
    "\n",
    "* carat: peso del diamante\n",
    "* cut: calidad del corte: Fair, Good, Very good, Premium, Ideal.\n",
    "* color: desde color J (peor color) a D (mejor color)\n",
    "* clarity: medida de la claridad del diamante (I1 (peor calidad), SI2, SI1, VS2, VS1, VVS2, VVS1, IF (mejor claridad))\n",
    "* x: longitud en mm\n",
    "* y: anchura en mm.\n",
    "* z: profundidad en mm\n",
    "* depth: porcentaje de profundidad total 2 * z / (x + y)\n",
    "* table: ancho de la punta del diamante relativa al punto más ancho."
   ]
  },
  {
   "cell_type": "code",
   "execution_count": null,
   "metadata": {},
   "outputs": [],
   "source": [
    "import numpy as np\n",
    "import pandas as pd\n",
    "\n",
    "import matplotlib.pyplot as plt\n",
    "from matplotlib.colors import ListedColormap\n",
    "%matplotlib inline\n",
    "\n",
    "cm = plt.cm.RdBu\n",
    "cm_bright = ListedColormap(['#FF0000', '#0000FF'])\n",
    "\n",
    "import warnings\n",
    "warnings.filterwarnings('ignore')"
   ]
  }
 ],
 "metadata": {
  "kernelspec": {
   "display_name": "Python 3",
   "language": "python",
   "name": "python3"
  },
  "language_info": {
   "codemirror_mode": {
    "name": "ipython",
    "version": 3
   },
   "file_extension": ".py",
   "mimetype": "text/x-python",
   "name": "python",
   "nbconvert_exporter": "python",
   "pygments_lexer": "ipython3",
   "version": "3.6.5"
  }
 },
 "nbformat": 4,
 "nbformat_minor": 2
}
